{
 "cells": [
  {
   "cell_type": "code",
   "execution_count": 1,
   "id": "bdc6a062-aff2-470f-b1ab-d83b6a7ef776",
   "metadata": {
    "tags": []
   },
   "outputs": [],
   "source": [
    "intent_of_this_notebook = \"\"\"\n",
    "\n",
    "This notebook is shows how to use ortools to solve a logic puzzle\n",
    "\n",
    "This assumes a knowledge of logic puzzles\n",
    "\n",
    "In particular, the Zebra problem. It is relatively easy to solve.\n",
    "\n",
    "It can be interesting to comment out some of the clues from the puzzle and see how many solutions remain \n",
    "\n",
    "\"\"\""
   ]
  },
  {
   "cell_type": "code",
   "execution_count": 2,
   "id": "e83a8e4b",
   "metadata": {
    "tags": []
   },
   "outputs": [],
   "source": [
    "from pprint import pprint"
   ]
  },
  {
   "cell_type": "code",
   "execution_count": 3,
   "id": "9e0f49f6",
   "metadata": {},
   "outputs": [
    {
     "name": "stdout",
     "output_type": "stream",
     "text": [
      "('This is the zebra problem as invented by Lewis Caroll.\\n'\n",
      " 'There are five houses.\\n'\n",
      " 'The Englishman lives in the red house.\\n'\n",
      " 'The Spaniard owns the dog.\\n'\n",
      " 'Coffee is drunk in the green house.\\n'\n",
      " 'The Ukrainian drinks tea.\\n'\n",
      " 'The green house is immediately to the right of the ivory house.\\n'\n",
      " 'The Old Gold smoker owns snails.\\n'\n",
      " 'Kools are smoked in the yellow house.\\n'\n",
      " 'Milk is drunk in the middle house.\\n'\n",
      " 'The Norwegian lives in the first house.\\n'\n",
      " 'The man who smokes Chesterfields lives in the house next to the man\\n'\n",
      " '   with the fox.\\n'\n",
      " 'Kools are smoked in the house next to the house where the horse is kept.\\n'\n",
      " 'The Lucky Strike smoker drinks orange juice.\\n'\n",
      " 'The Japanese smokes Parliaments.\\n'\n",
      " 'The Norwegian lives next to the blue house.\\n'\n",
      " '\\n'\n",
      " 'Who owns a zebra and who drinks water?\\n')\n"
     ]
    }
   ],
   "source": [
    "pprint(\"\"\"This is the zebra problem as invented by Lewis Caroll.\n",
    "There are five houses.\n",
    "The Englishman lives in the red house.\n",
    "The Spaniard owns the dog.\n",
    "Coffee is drunk in the green house.\n",
    "The Ukrainian drinks tea.\n",
    "The green house is immediately to the right of the ivory house.\n",
    "The Old Gold smoker owns snails.\n",
    "Kools are smoked in the yellow house.\n",
    "Milk is drunk in the middle house.\n",
    "The Norwegian lives in the first house.\n",
    "The man who smokes Chesterfields lives in the house next to the man\n",
    "   with the fox.\n",
    "Kools are smoked in the house next to the house where the horse is kept.\n",
    "The Lucky Strike smoker drinks orange juice.\n",
    "The Japanese smokes Parliaments.\n",
    "The Norwegian lives next to the blue house.\n",
    "\n",
    "Who owns a zebra and who drinks water?\n",
    "\"\"\")\n"
   ]
  },
  {
   "cell_type": "code",
   "execution_count": 4,
   "id": "fd23210b",
   "metadata": {},
   "outputs": [],
   "source": [
    "from ortools.sat.python import cp_model"
   ]
  },
  {
   "cell_type": "code",
   "execution_count": 5,
   "id": "8cf9e24c",
   "metadata": {},
   "outputs": [
    {
     "data": {
      "text/plain": [
       "'Solves the zebra problem.'"
      ]
     },
     "execution_count": 5,
     "metadata": {},
     "output_type": "execute_result"
    }
   ],
   "source": [
    " \"\"\"Solves the zebra problem.\"\"\""
   ]
  },
  {
   "cell_type": "code",
   "execution_count": 6,
   "id": "99f04ed9",
   "metadata": {},
   "outputs": [],
   "source": [
    "#\n",
    "# putting in the multisolution\n",
    "#"
   ]
  },
  {
   "cell_type": "code",
   "execution_count": 7,
   "id": "76bb58ca",
   "metadata": {},
   "outputs": [],
   "source": [
    "# Create the model.\n",
    "model = cp_model.CpModel()\n"
   ]
  },
  {
   "cell_type": "code",
   "execution_count": 8,
   "id": "9615f3fc",
   "metadata": {},
   "outputs": [],
   "source": [
    "class VarArraySolutionCollector(cp_model.CpSolverSolutionCallback):\n",
    "\n",
    "    def __init__(self, variables):\n",
    "        cp_model.CpSolverSolutionCallback.__init__(self)\n",
    "        self.__variables = variables\n",
    "        self.solution_list = []\n",
    "\n",
    "    def on_solution_callback(self):\n",
    "        self.solution_list.append([self.Value(v) for v in self.__variables])\n",
    "\n",
    "    def print_headers(self):\n",
    "        for var in self.__variables:\n",
    "            print (f\"{var.name},\",end='')\n",
    "        print (\"\")\n",
    "\n",
    "    def list_of_headers(self):\n",
    "        return_list = [\n",
    "            str (var.name) \n",
    "            for \n",
    "            var in \n",
    "            self.__variables\n",
    "        ]\n",
    "        return return_list\n"
   ]
  },
  {
   "cell_type": "markdown",
   "id": "f2867bd1-b051-49ca-9910-571a996dde28",
   "metadata": {},
   "source": [
    "#### set up the structure of the problem"
   ]
  },
  {
   "cell_type": "code",
   "execution_count": 9,
   "id": "14a1dc9d",
   "metadata": {},
   "outputs": [],
   "source": [
    "red = model.new_int_var(1, 5, \"red\")\n",
    "green = model.new_int_var(1, 5, \"green\")\n",
    "yellow = model.new_int_var(1, 5, \"yellow\")\n",
    "blue = model.new_int_var(1, 5, \"blue\")\n",
    "ivory = model.new_int_var(1, 5, \"ivory\")"
   ]
  },
  {
   "cell_type": "code",
   "execution_count": 10,
   "id": "61a091ba",
   "metadata": {},
   "outputs": [],
   "source": [
    "englishman = model.new_int_var(1, 5, \"englishman\")\n",
    "spaniard = model.new_int_var(1, 5, \"spaniard\")\n",
    "japanese = model.new_int_var(1, 5, \"japanese\")\n",
    "ukrainian = model.new_int_var(1, 5, \"ukrainian\")\n",
    "norwegian = model.new_int_var(1, 5, \"norwegian\")"
   ]
  },
  {
   "cell_type": "code",
   "execution_count": 11,
   "id": "d4153588",
   "metadata": {},
   "outputs": [],
   "source": [
    "people = [\n",
    "    englishman, spaniard, japanese, ukrainian, norwegian\n",
    "]"
   ]
  },
  {
   "cell_type": "code",
   "execution_count": 12,
   "id": "4b348b7b",
   "metadata": {},
   "outputs": [],
   "source": [
    "dog = model.new_int_var(1, 5, \"dog\")\n",
    "snails = model.new_int_var(1, 5, \"snails\")\n",
    "fox = model.new_int_var(1, 5, \"fox\")\n",
    "zebra = model.new_int_var(1, 5, \"zebra\")\n",
    "horse = model.new_int_var(1, 5, \"horse\")"
   ]
  },
  {
   "cell_type": "code",
   "execution_count": 13,
   "id": "5748f503",
   "metadata": {},
   "outputs": [],
   "source": [
    "tea = model.new_int_var(1, 5, \"tea\")\n",
    "coffee = model.new_int_var(1, 5, \"coffee\")\n",
    "water = model.new_int_var(1, 5, \"water\")\n",
    "milk = model.new_int_var(1, 5, \"milk\")\n",
    "fruit_juice = model.new_int_var(1, 5, \"fruit juice\")"
   ]
  },
  {
   "cell_type": "code",
   "execution_count": 14,
   "id": "eae5b8fd",
   "metadata": {},
   "outputs": [],
   "source": [
    "old_gold = model.new_int_var(1, 5, \"old gold\")\n",
    "kools = model.new_int_var(1, 5, \"kools\")\n",
    "chesterfields = model.new_int_var(1, 5, \"chesterfields\")\n",
    "lucky_strike = model.new_int_var(1, 5, \"lucky strike\")\n",
    "parliaments = model.new_int_var(1, 5, \"parliaments\")\n"
   ]
  },
  {
   "cell_type": "code",
   "execution_count": 15,
   "id": "8715ad07",
   "metadata": {},
   "outputs": [
    {
     "data": {
      "text/plain": [
       "[red(1..5),\n",
       " green(1..5),\n",
       " yellow(1..5),\n",
       " blue(1..5),\n",
       " ivory(1..5),\n",
       " englishman(1..5),\n",
       " spaniard(1..5),\n",
       " japanese(1..5),\n",
       " ukrainian(1..5),\n",
       " norwegian(1..5),\n",
       " dog(1..5),\n",
       " snails(1..5),\n",
       " fox(1..5),\n",
       " zebra(1..5),\n",
       " horse(1..5),\n",
       " tea(1..5),\n",
       " coffee(1..5),\n",
       " water(1..5),\n",
       " milk(1..5),\n",
       " fruit juice(1..5),\n",
       " old gold(1..5),\n",
       " kools(1..5),\n",
       " chesterfields(1..5),\n",
       " lucky strike(1..5),\n",
       " parliaments(1..5)]"
      ]
     },
     "execution_count": 15,
     "metadata": {},
     "output_type": "execute_result"
    }
   ],
   "source": [
    "all_the_variables = (\n",
    "    [red, green, yellow, blue, ivory,] +\n",
    "    [englishman ,spaniard ,japanese,ukrainian,norwegian,] +\n",
    "    [dog, snails, fox, zebra, horse ,] + \n",
    "    [tea,coffee,water,milk,fruit_juice,] + \n",
    "    [old_gold,kools,chesterfields,lucky_strike,parliaments,]\n",
    ")\n",
    "all_the_variables"
   ]
  },
  {
   "cell_type": "code",
   "execution_count": 16,
   "id": "424197b0",
   "metadata": {},
   "outputs": [
    {
     "data": {
      "text/plain": [
       "'red'"
      ]
     },
     "execution_count": 16,
     "metadata": {},
     "output_type": "execute_result"
    }
   ],
   "source": [
    "# demo of how variables work in ortools\n",
    "red.name"
   ]
  },
  {
   "cell_type": "code",
   "execution_count": 17,
   "id": "2b312c98",
   "metadata": {},
   "outputs": [],
   "source": [
    "# Create a solver and solve.\n",
    "#solver = cp_model.CpSolver()\n",
    "solution_printer = cp_model.VarArraySolutionPrinter(\n",
    "    all_the_variables\n",
    ")\n"
   ]
  },
  {
   "cell_type": "code",
   "execution_count": 18,
   "id": "ed822771-495f-49a0-827b-c06dbf09b9a5",
   "metadata": {},
   "outputs": [],
   "source": [
    "#\n",
    "# in logic problems each of these are separate by construction \n",
    "#"
   ]
  },
  {
   "cell_type": "code",
   "execution_count": 19,
   "id": "94260d36",
   "metadata": {},
   "outputs": [
    {
     "data": {
      "text/plain": [
       "<ortools.sat.python.cp_model.Constraint at 0x1b97f4bb230>"
      ]
     },
     "execution_count": 19,
     "metadata": {},
     "output_type": "execute_result"
    }
   ],
   "source": [
    "model.add_all_different(red, green, yellow, blue, ivory)\n",
    "model.add_all_different(englishman, spaniard, japanese, ukrainian, norwegian)\n",
    "model.add_all_different(dog, snails, fox, zebra, horse)\n",
    "model.add_all_different(tea, coffee, water, milk, fruit_juice)\n",
    "model.add_all_different(parliaments, kools, chesterfields, lucky_strike, old_gold)\n"
   ]
  },
  {
   "cell_type": "code",
   "execution_count": 71,
   "id": "b4fd2a83-f4dd-4b15-8e7b-f3fe2c532a41",
   "metadata": {},
   "outputs": [],
   "source": [
    "#\n",
    "#  these are from the clues in the puzzle \n",
    "#"
   ]
  },
  {
   "cell_type": "code",
   "execution_count": 21,
   "id": "ebb41c27",
   "metadata": {},
   "outputs": [
    {
     "data": {
      "text/plain": [
       "<ortools.sat.python.cp_model.Constraint at 0x1b97efc8bc0>"
      ]
     },
     "execution_count": 21,
     "metadata": {},
     "output_type": "execute_result"
    }
   ],
   "source": [
    "\n",
    "model.add(englishman == red)  # The Englishman lives in the red house.\n",
    "model.add(spaniard == dog)    # The Spaniard owns the dog.\n",
    "model.add(coffee == green)    # Coffee is drunk in the green house.\n",
    "model.add(ukrainian == tea)   # The Ukrainian drinks tea.\n",
    "model.add(green == ivory + 1) # The green house is immediately to the right of the ivory house.               \n",
    "model.add(old_gold == snails) # The Old Gold smoker owns snails.\n",
    "model.add(kools == yellow)    # Kools are smoked in the yellow house.\n",
    "model.add(milk == 3)          # Milk is drunk in the middle house.\n",
    "model.add(norwegian == 1)     # The Norwegian lives in the first house."
   ]
  },
  {
   "cell_type": "code",
   "execution_count": 22,
   "id": "b88ce939",
   "metadata": {},
   "outputs": [
    {
     "data": {
      "text/plain": [
       "<ortools.sat.python.cp_model.Constraint at 0x1b97f4bbcb0>"
      ]
     },
     "execution_count": 22,
     "metadata": {},
     "output_type": "execute_result"
    }
   ],
   "source": [
    "#\n",
    "## comment out?\n",
    "#\n",
    "\n",
    "clue = \"\"\"\n",
    "The man who smokes Chesterfields lives in the house next to the man\n",
    "   with the fox.\n",
    "\"\"\"\n",
    "\n",
    "diff_fox_chesterfields = model.new_int_var(-4, 4, \"diff_fox_chesterfields\")\n",
    "model.add(diff_fox_chesterfields == fox - chesterfields)\n",
    "model.add_abs_equality(1, diff_fox_chesterfields)\n"
   ]
  },
  {
   "cell_type": "code",
   "execution_count": 23,
   "id": "fcfb5608",
   "metadata": {},
   "outputs": [
    {
     "data": {
      "text/plain": [
       "<ortools.sat.python.cp_model.Constraint at 0x1b97f4b8fe0>"
      ]
     },
     "execution_count": 23,
     "metadata": {},
     "output_type": "execute_result"
    }
   ],
   "source": [
    "#\n",
    "## comment out\n",
    "#\n",
    "\n",
    "clue = \"\"\"\n",
    "\n",
    "Kools are smoked in the house next to the house where the horse is kept.\n",
    "\n",
    "\n",
    "\"\"\"\n",
    "\n",
    "diff_horse_kools = model.new_int_var(-4, 4, \"diff_horse_kools\")\n",
    "model.add(diff_horse_kools == horse - kools)\n",
    "model.add_abs_equality(1, diff_horse_kools)"
   ]
  },
  {
   "cell_type": "code",
   "execution_count": 53,
   "id": "79eba115-627f-4916-893b-5344d3db6243",
   "metadata": {},
   "outputs": [
    {
     "data": {
      "text/plain": [
       "<ortools.sat.python.cp_model.Constraint at 0x1b974201040>"
      ]
     },
     "execution_count": 53,
     "metadata": {},
     "output_type": "execute_result"
    }
   ],
   "source": [
    "clue = \"The Lucky Strike smoker drinks orange juice.\"\n",
    "\n",
    "model.add(lucky_strike == fruit_juice)"
   ]
  },
  {
   "cell_type": "code",
   "execution_count": 54,
   "id": "08e75d7f",
   "metadata": {},
   "outputs": [
    {
     "data": {
      "text/plain": [
       "<ortools.sat.python.cp_model.Constraint at 0x1b97f4ba6f0>"
      ]
     },
     "execution_count": 54,
     "metadata": {},
     "output_type": "execute_result"
    }
   ],
   "source": [
    "#\n",
    "## comment out\n",
    "#\n",
    "\n",
    "clue = \"The Japanese smokes Parliaments.\"\n",
    "\n",
    "\n",
    "model.add(japanese == parliaments)"
   ]
  },
  {
   "cell_type": "code",
   "execution_count": 55,
   "id": "dda18d54",
   "metadata": {},
   "outputs": [
    {
     "data": {
      "text/plain": [
       "<ortools.sat.python.cp_model.Constraint at 0x1b97f4730b0>"
      ]
     },
     "execution_count": 55,
     "metadata": {},
     "output_type": "execute_result"
    }
   ],
   "source": [
    "#\n",
    "## comment out\n",
    "#\n",
    "\n",
    "clue = 'The Norwegian lives next to the blue house.'\n",
    "\n",
    "diff_norwegian_blue = model.new_int_var(-4, 4, \"diff_norwegian_blue\")\n",
    "model.add(diff_norwegian_blue == norwegian - blue)\n",
    "model.add_abs_equality(1, diff_norwegian_blue)\n"
   ]
  },
  {
   "cell_type": "code",
   "execution_count": 56,
   "id": "a77d5e1c",
   "metadata": {
    "scrolled": true
   },
   "outputs": [],
   "source": [
    "# Solve and print out the solution.\n",
    "solver = cp_model.CpSolver()\n",
    "#status = solver.solve(model)\n",
    "#status = solver.SearchForAllSolutions(model, solution_printer)"
   ]
  },
  {
   "cell_type": "code",
   "execution_count": 57,
   "id": "968cd2d7",
   "metadata": {},
   "outputs": [
    {
     "data": {
      "text/plain": [
       "4"
      ]
     },
     "execution_count": 57,
     "metadata": {},
     "output_type": "execute_result"
    }
   ],
   "source": [
    "solution_collector = VarArraySolutionCollector(  all_the_variables  )\n",
    "solver.SearchForAllSolutions(model, solution_collector)"
   ]
  },
  {
   "cell_type": "code",
   "execution_count": 58,
   "id": "8cc4958b",
   "metadata": {},
   "outputs": [
    {
     "data": {
      "text/plain": [
       "1"
      ]
     },
     "execution_count": 58,
     "metadata": {},
     "output_type": "execute_result"
    }
   ],
   "source": [
    "len(solution_collector.solution_list)"
   ]
  },
  {
   "cell_type": "code",
   "execution_count": 59,
   "id": "8bb7505c",
   "metadata": {},
   "outputs": [
    {
     "name": "stdout",
     "output_type": "stream",
     "text": [
      "red,green,yellow,blue,ivory,englishman,spaniard,japanese,ukrainian,norwegian,dog,snails,fox,zebra,horse,tea,coffee,water,milk,fruit juice,old gold,kools,chesterfields,lucky strike,parliaments,\n"
     ]
    }
   ],
   "source": [
    "solution_collector.print_headers()"
   ]
  },
  {
   "cell_type": "code",
   "execution_count": 60,
   "id": "773beef6",
   "metadata": {},
   "outputs": [
    {
     "data": {
      "text/plain": [
       "['red',\n",
       " 'green',\n",
       " 'yellow',\n",
       " 'blue',\n",
       " 'ivory',\n",
       " 'englishman',\n",
       " 'spaniard',\n",
       " 'japanese',\n",
       " 'ukrainian',\n",
       " 'norwegian',\n",
       " 'dog',\n",
       " 'snails',\n",
       " 'fox',\n",
       " 'zebra',\n",
       " 'horse',\n",
       " 'tea',\n",
       " 'coffee',\n",
       " 'water',\n",
       " 'milk',\n",
       " 'fruit juice',\n",
       " 'old gold',\n",
       " 'kools',\n",
       " 'chesterfields',\n",
       " 'lucky strike',\n",
       " 'parliaments']"
      ]
     },
     "execution_count": 60,
     "metadata": {},
     "output_type": "execute_result"
    }
   ],
   "source": [
    "solution_collector.list_of_headers()"
   ]
  },
  {
   "cell_type": "code",
   "execution_count": 61,
   "id": "1cd98e0f",
   "metadata": {},
   "outputs": [],
   "source": [
    "import pandas as pd"
   ]
  },
  {
   "cell_type": "code",
   "execution_count": 63,
   "id": "4d30f012-aa2a-48a0-930e-0e1a2dfc6464",
   "metadata": {},
   "outputs": [],
   "source": [
    "# \n",
    "# below prints out the solutions\n",
    "#\n",
    "# try commenting out the restrictions form the clues above and see how many solutions are viable\n",
    "#"
   ]
  },
  {
   "cell_type": "code",
   "execution_count": 64,
   "id": "12de154f",
   "metadata": {},
   "outputs": [
    {
     "data": {
      "text/plain": [
       "(1, 25)"
      ]
     },
     "execution_count": 64,
     "metadata": {},
     "output_type": "execute_result"
    }
   ],
   "source": [
    "solutions_df = pd.DataFrame(\n",
    "    data = solution_collector.solution_list,\n",
    "    columns = solution_collector.list_of_headers()\n",
    "    \n",
    ")\n",
    "solutions_df.shape"
   ]
  },
  {
   "cell_type": "code",
   "execution_count": 65,
   "id": "601fc89c",
   "metadata": {},
   "outputs": [
    {
     "data": {
      "text/html": [
       "<div>\n",
       "<style scoped>\n",
       "    .dataframe tbody tr th:only-of-type {\n",
       "        vertical-align: middle;\n",
       "    }\n",
       "\n",
       "    .dataframe tbody tr th {\n",
       "        vertical-align: top;\n",
       "    }\n",
       "\n",
       "    .dataframe thead th {\n",
       "        text-align: right;\n",
       "    }\n",
       "</style>\n",
       "<table border=\"1\" class=\"dataframe\">\n",
       "  <thead>\n",
       "    <tr style=\"text-align: right;\">\n",
       "      <th></th>\n",
       "      <th>red</th>\n",
       "      <th>green</th>\n",
       "      <th>yellow</th>\n",
       "      <th>blue</th>\n",
       "      <th>ivory</th>\n",
       "      <th>englishman</th>\n",
       "      <th>spaniard</th>\n",
       "      <th>japanese</th>\n",
       "      <th>ukrainian</th>\n",
       "      <th>norwegian</th>\n",
       "      <th>...</th>\n",
       "      <th>tea</th>\n",
       "      <th>coffee</th>\n",
       "      <th>water</th>\n",
       "      <th>milk</th>\n",
       "      <th>fruit juice</th>\n",
       "      <th>old gold</th>\n",
       "      <th>kools</th>\n",
       "      <th>chesterfields</th>\n",
       "      <th>lucky strike</th>\n",
       "      <th>parliaments</th>\n",
       "    </tr>\n",
       "  </thead>\n",
       "  <tbody>\n",
       "    <tr>\n",
       "      <th>0</th>\n",
       "      <td>3</td>\n",
       "      <td>5</td>\n",
       "      <td>1</td>\n",
       "      <td>2</td>\n",
       "      <td>4</td>\n",
       "      <td>3</td>\n",
       "      <td>4</td>\n",
       "      <td>5</td>\n",
       "      <td>2</td>\n",
       "      <td>1</td>\n",
       "      <td>...</td>\n",
       "      <td>2</td>\n",
       "      <td>5</td>\n",
       "      <td>1</td>\n",
       "      <td>3</td>\n",
       "      <td>4</td>\n",
       "      <td>3</td>\n",
       "      <td>1</td>\n",
       "      <td>2</td>\n",
       "      <td>4</td>\n",
       "      <td>5</td>\n",
       "    </tr>\n",
       "  </tbody>\n",
       "</table>\n",
       "<p>1 rows × 25 columns</p>\n",
       "</div>"
      ],
      "text/plain": [
       "   red  green  yellow  blue  ivory  englishman  spaniard  japanese  ukrainian  \\\n",
       "0    3      5       1     2      4           3         4         5          2   \n",
       "\n",
       "   norwegian  ...  tea  coffee  water  milk  fruit juice  old gold  kools  \\\n",
       "0          1  ...    2       5      1     3            4         3      1   \n",
       "\n",
       "   chesterfields  lucky strike  parliaments  \n",
       "0              2             4            5  \n",
       "\n",
       "[1 rows x 25 columns]"
      ]
     },
     "execution_count": 65,
     "metadata": {},
     "output_type": "execute_result"
    }
   ],
   "source": [
    "solutions_df"
   ]
  },
  {
   "cell_type": "code",
   "execution_count": 66,
   "id": "ff433dc1",
   "metadata": {},
   "outputs": [
    {
     "data": {
      "text/plain": [
       "[[3, 5, 1, 2, 4, 3, 4, 5, 2, 1, 4, 3, 1, 5, 2, 2, 5, 1, 3, 4, 3, 1, 2, 4, 5]]"
      ]
     },
     "execution_count": 66,
     "metadata": {},
     "output_type": "execute_result"
    }
   ],
   "source": [
    "solution_collector.solution_list"
   ]
  },
  {
   "cell_type": "code",
   "execution_count": 70,
   "id": "684cf1a0",
   "metadata": {},
   "outputs": [
    {
     "name": "stdout",
     "output_type": "stream",
     "text": [
      "The norwegian drinks water.\n",
      "The japanese owns the zebra.\n"
     ]
    }
   ],
   "source": [
    "\n",
    "#\n",
    "# this answers the question from the puzzle\n",
    "#\n",
    "\n",
    "water_drinker = [p for p in people if solver.value(p) == solver.value(water)][0]\n",
    "zebra_owner = [p for p in people if solver.value(p) == solver.value(zebra)][0]\n",
    "print(\"The\", water_drinker.name, \"drinks water.\")\n",
    "print(\"The\", zebra_owner.name, \"owns the zebra.\")\n"
   ]
  }
 ],
 "metadata": {
  "kernelspec": {
   "display_name": "Python 3 (ipykernel)",
   "language": "python",
   "name": "python3"
  },
  "language_info": {
   "codemirror_mode": {
    "name": "ipython",
    "version": 3
   },
   "file_extension": ".py",
   "mimetype": "text/x-python",
   "name": "python",
   "nbconvert_exporter": "python",
   "pygments_lexer": "ipython3",
   "version": "3.12.4"
  }
 },
 "nbformat": 4,
 "nbformat_minor": 5
}
