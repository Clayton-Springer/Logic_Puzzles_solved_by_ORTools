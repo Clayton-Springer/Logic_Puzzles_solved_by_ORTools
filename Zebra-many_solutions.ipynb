{
 "cells": [
  {
   "cell_type": "code",
   "execution_count": 1,
   "id": "e83a8e4b",
   "metadata": {},
   "outputs": [],
   "source": [
    "from pprint import pprint"
   ]
  },
  {
   "cell_type": "code",
   "execution_count": 2,
   "id": "9e0f49f6",
   "metadata": {},
   "outputs": [
    {
     "name": "stdout",
     "output_type": "stream",
     "text": [
      "('This is the zebra problem as invented by Lewis Caroll.\\n'\n",
      " 'There are five houses.\\n'\n",
      " 'The Englishman lives in the red house.\\n'\n",
      " 'The Spaniard owns the dog.\\n'\n",
      " 'Coffee is drunk in the green house.\\n'\n",
      " 'The Ukrainian drinks tea.\\n'\n",
      " 'The green house is immediately to the right of the ivory house.\\n'\n",
      " 'The Old Gold smoker owns snails.\\n'\n",
      " 'Kools are smoked in the yellow house.\\n'\n",
      " 'Milk is drunk in the middle house.\\n'\n",
      " 'The Norwegian lives in the first house.\\n'\n",
      " 'The man who smokes Chesterfields lives in the house next to the man\\n'\n",
      " '   with the fox.\\n'\n",
      " 'Kools are smoked in the house next to the house where the horse is kept.\\n'\n",
      " 'The Lucky Strike smoker drinks orange juice.\\n'\n",
      " 'The Japanese smokes Parliaments.\\n'\n",
      " 'The Norwegian lives next to the blue house.\\n'\n",
      " '\\n'\n",
      " 'Who owns a zebra and who drinks water?\\n')\n"
     ]
    }
   ],
   "source": [
    "pprint(\"\"\"This is the zebra problem as invented by Lewis Caroll.\n",
    "There are five houses.\n",
    "The Englishman lives in the red house.\n",
    "The Spaniard owns the dog.\n",
    "Coffee is drunk in the green house.\n",
    "The Ukrainian drinks tea.\n",
    "The green house is immediately to the right of the ivory house.\n",
    "The Old Gold smoker owns snails.\n",
    "Kools are smoked in the yellow house.\n",
    "Milk is drunk in the middle house.\n",
    "The Norwegian lives in the first house.\n",
    "The man who smokes Chesterfields lives in the house next to the man\n",
    "   with the fox.\n",
    "Kools are smoked in the house next to the house where the horse is kept.\n",
    "The Lucky Strike smoker drinks orange juice.\n",
    "The Japanese smokes Parliaments.\n",
    "The Norwegian lives next to the blue house.\n",
    "\n",
    "Who owns a zebra and who drinks water?\n",
    "\"\"\")\n"
   ]
  },
  {
   "cell_type": "code",
   "execution_count": 3,
   "id": "fd23210b",
   "metadata": {},
   "outputs": [],
   "source": [
    "from ortools.sat.python import cp_model"
   ]
  },
  {
   "cell_type": "code",
   "execution_count": 4,
   "id": "8cf9e24c",
   "metadata": {},
   "outputs": [
    {
     "data": {
      "text/plain": [
       "'Solves the zebra problem.'"
      ]
     },
     "execution_count": 4,
     "metadata": {},
     "output_type": "execute_result"
    }
   ],
   "source": [
    " \"\"\"Solves the zebra problem.\"\"\""
   ]
  },
  {
   "cell_type": "code",
   "execution_count": 5,
   "id": "99f04ed9",
   "metadata": {},
   "outputs": [],
   "source": [
    "#\n",
    "# putting in the multisolution\n",
    "#"
   ]
  },
  {
   "cell_type": "code",
   "execution_count": 6,
   "id": "76bb58ca",
   "metadata": {},
   "outputs": [],
   "source": [
    "# Create the model.\n",
    "model = cp_model.CpModel()\n"
   ]
  },
  {
   "cell_type": "code",
   "execution_count": 7,
   "id": "9615f3fc",
   "metadata": {},
   "outputs": [],
   "source": [
    "class VarArraySolutionCollector(cp_model.CpSolverSolutionCallback):\n",
    "\n",
    "    def __init__(self, variables):\n",
    "        cp_model.CpSolverSolutionCallback.__init__(self)\n",
    "        self.__variables = variables\n",
    "        self.solution_list = []\n",
    "\n",
    "    def on_solution_callback(self):\n",
    "        self.solution_list.append([self.Value(v) for v in self.__variables])\n",
    "\n",
    "    def print_headers(self):\n",
    "        for var in self.__variables:\n",
    "            print (f\"{var.name},\",end='')\n",
    "        print (\"\")\n",
    "\n",
    "    def list_of_headers(self):\n",
    "        return_list = [\n",
    "            str (var.name) \n",
    "            for \n",
    "            var in \n",
    "            self.__variables\n",
    "        ]\n",
    "        return return_list\n"
   ]
  },
  {
   "cell_type": "code",
   "execution_count": 8,
   "id": "14a1dc9d",
   "metadata": {},
   "outputs": [],
   "source": [
    "red = model.new_int_var(1, 5, \"red\")\n",
    "green = model.new_int_var(1, 5, \"green\")\n",
    "yellow = model.new_int_var(1, 5, \"yellow\")\n",
    "blue = model.new_int_var(1, 5, \"blue\")\n",
    "ivory = model.new_int_var(1, 5, \"ivory\")"
   ]
  },
  {
   "cell_type": "code",
   "execution_count": 9,
   "id": "61a091ba",
   "metadata": {},
   "outputs": [],
   "source": [
    "englishman = model.new_int_var(1, 5, \"englishman\")\n",
    "spaniard = model.new_int_var(1, 5, \"spaniard\")\n",
    "japanese = model.new_int_var(1, 5, \"japanese\")\n",
    "ukrainian = model.new_int_var(1, 5, \"ukrainian\")\n",
    "norwegian = model.new_int_var(1, 5, \"norwegian\")"
   ]
  },
  {
   "cell_type": "code",
   "execution_count": 10,
   "id": "d4153588",
   "metadata": {},
   "outputs": [],
   "source": [
    "people = [\n",
    "    englishman, spaniard, japanese, ukrainian, norwegian\n",
    "]"
   ]
  },
  {
   "cell_type": "code",
   "execution_count": 11,
   "id": "4b348b7b",
   "metadata": {},
   "outputs": [],
   "source": [
    "dog = model.new_int_var(1, 5, \"dog\")\n",
    "snails = model.new_int_var(1, 5, \"snails\")\n",
    "fox = model.new_int_var(1, 5, \"fox\")\n",
    "zebra = model.new_int_var(1, 5, \"zebra\")\n",
    "horse = model.new_int_var(1, 5, \"horse\")"
   ]
  },
  {
   "cell_type": "code",
   "execution_count": 12,
   "id": "5748f503",
   "metadata": {},
   "outputs": [],
   "source": [
    "tea = model.new_int_var(1, 5, \"tea\")\n",
    "coffee = model.new_int_var(1, 5, \"coffee\")\n",
    "water = model.new_int_var(1, 5, \"water\")\n",
    "milk = model.new_int_var(1, 5, \"milk\")\n",
    "fruit_juice = model.new_int_var(1, 5, \"fruit juice\")"
   ]
  },
  {
   "cell_type": "code",
   "execution_count": 13,
   "id": "eae5b8fd",
   "metadata": {},
   "outputs": [],
   "source": [
    "old_gold = model.new_int_var(1, 5, \"old gold\")\n",
    "kools = model.new_int_var(1, 5, \"kools\")\n",
    "chesterfields = model.new_int_var(1, 5, \"chesterfields\")\n",
    "lucky_strike = model.new_int_var(1, 5, \"lucky strike\")\n",
    "parliaments = model.new_int_var(1, 5, \"parliaments\")\n"
   ]
  },
  {
   "cell_type": "code",
   "execution_count": 14,
   "id": "8715ad07",
   "metadata": {},
   "outputs": [
    {
     "data": {
      "text/plain": [
       "[red(1..5),\n",
       " green(1..5),\n",
       " yellow(1..5),\n",
       " blue(1..5),\n",
       " ivory(1..5),\n",
       " englishman(1..5),\n",
       " spaniard(1..5),\n",
       " japanese(1..5),\n",
       " ukrainian(1..5),\n",
       " norwegian(1..5),\n",
       " dog(1..5),\n",
       " snails(1..5),\n",
       " fox(1..5),\n",
       " zebra(1..5),\n",
       " horse(1..5),\n",
       " tea(1..5),\n",
       " coffee(1..5),\n",
       " water(1..5),\n",
       " milk(1..5),\n",
       " fruit juice(1..5),\n",
       " old gold(1..5),\n",
       " kools(1..5),\n",
       " chesterfields(1..5),\n",
       " lucky strike(1..5),\n",
       " parliaments(1..5)]"
      ]
     },
     "execution_count": 14,
     "metadata": {},
     "output_type": "execute_result"
    }
   ],
   "source": [
    "all_the_variables = (\n",
    "    [red, green, yellow, blue, ivory,] +\n",
    "    [englishman ,spaniard ,japanese,ukrainian,norwegian,] +\n",
    "    [dog, snails, fox, zebra, horse ,] + \n",
    "    [tea,coffee,water,milk,fruit_juice,] + \n",
    "    [old_gold,kools,chesterfields,lucky_strike,parliaments,]\n",
    ")\n",
    "all_the_variables"
   ]
  },
  {
   "cell_type": "code",
   "execution_count": 15,
   "id": "424197b0",
   "metadata": {},
   "outputs": [
    {
     "data": {
      "text/plain": [
       "'red'"
      ]
     },
     "execution_count": 15,
     "metadata": {},
     "output_type": "execute_result"
    }
   ],
   "source": [
    "red.name"
   ]
  },
  {
   "cell_type": "code",
   "execution_count": 16,
   "id": "2178cb2e",
   "metadata": {},
   "outputs": [
    {
     "name": "stdout",
     "output_type": "stream",
     "text": [
      "Help on built-in function print in module builtins:\n",
      "\n",
      "print(*args, sep=' ', end='\\n', file=None, flush=False)\n",
      "    Prints the values to a stream, or to sys.stdout by default.\n",
      "\n",
      "    sep\n",
      "      string inserted between values, default a space.\n",
      "    end\n",
      "      string appended after the last value, default a newline.\n",
      "    file\n",
      "      a file-like object (stream); defaults to the current sys.stdout.\n",
      "    flush\n",
      "      whether to forcibly flush the stream.\n",
      "\n"
     ]
    }
   ],
   "source": [
    "help (print)"
   ]
  },
  {
   "cell_type": "code",
   "execution_count": 17,
   "id": "d29f60dc",
   "metadata": {},
   "outputs": [
    {
     "name": "stdout",
     "output_type": "stream",
     "text": [
      "Help on IntVar in module ortools.sat.python.cp_model object:\n",
      "\n",
      "class IntVar(LinearExpr)\n",
      " |  IntVar(model: ortools.sat.cp_model_pb2.CpModelProto, domain: Union[int, ortools.util.python.sorted_interval_list.Domain], name: Optional[str]) -> None\n",
      " |\n",
      " |  An integer variable.\n",
      " |\n",
      " |  An IntVar is an object that can take on any integer value within defined\n",
      " |  ranges. Variables appear in constraint like:\n",
      " |\n",
      " |      x + y >= 5\n",
      " |      AllDifferent([x, y, z])\n",
      " |\n",
      " |  Solving a model is equivalent to finding, for each variable, a single value\n",
      " |  from the set of initial values (called the initial domain), such that the\n",
      " |  model is feasible, or optimal if you provided an objective function.\n",
      " |\n",
      " |  Method resolution order:\n",
      " |      IntVar\n",
      " |      LinearExpr\n",
      " |      builtins.object\n",
      " |\n",
      " |  Methods defined here:\n",
      " |\n",
      " |  Index(self) -> int\n",
      " |\n",
      " |  Name(self) -> str\n",
      " |\n",
      " |  Not = negated(self) -> '_NotBooleanVariable'\n",
      " |\n",
      " |  Proto(self) -> ortools.sat.cp_model_pb2.IntegerVariableProto\n",
      " |\n",
      " |  __init__(self, model: ortools.sat.cp_model_pb2.CpModelProto, domain: Union[int, ortools.util.python.sorted_interval_list.Domain], name: Optional[str]) -> None\n",
      " |      See CpModel.new_int_var below.\n",
      " |\n",
      " |  __invert__(self) -> '_NotBooleanVariable'\n",
      " |      Returns the logical negation of a Boolean variable.\n",
      " |\n",
      " |  __repr__(self) -> str\n",
      " |      Return repr(self).\n",
      " |\n",
      " |  __str__(self) -> str\n",
      " |      Return str(self).\n",
      " |\n",
      " |  is_equal_to(self, other: Any) -> bool\n",
      " |      Returns true if self == other in the python sense.\n",
      " |\n",
      " |  negated(self) -> '_NotBooleanVariable'\n",
      " |      Returns the negation of a Boolean variable.\n",
      " |\n",
      " |      This method implements the logical negation of a Boolean variable.\n",
      " |      It is only valid if the variable has a Boolean domain (0 or 1).\n",
      " |\n",
      " |      Note that this method is nilpotent: `x.negated().negated() == x`.\n",
      " |\n",
      " |  ----------------------------------------------------------------------\n",
      " |  Readonly properties defined here:\n",
      " |\n",
      " |  index\n",
      " |      Returns the index of the variable in the model.\n",
      " |\n",
      " |  name\n",
      " |\n",
      " |  proto\n",
      " |      Returns the variable protobuf.\n",
      " |\n",
      " |  ----------------------------------------------------------------------\n",
      " |  Methods inherited from LinearExpr:\n",
      " |\n",
      " |  __abs__(self) -> NoReturn\n",
      " |\n",
      " |  __add__(self, arg)\n",
      " |\n",
      " |  __and__(self, _) -> NoReturn\n",
      " |\n",
      " |  __bool__(self) -> NoReturn\n",
      " |\n",
      " |  __div__(self, _) -> NoReturn\n",
      " |\n",
      " |  __eq__(self, arg: Union[ForwardRef('LinearExpr'), ForwardRef('IntVar'), int, numpy.int8, numpy.uint8, numpy.int32, numpy.uint32, numpy.int64, numpy.uint64]) -> Union[ForwardRef('BoundedLinearExpression'), bool]\n",
      " |      Return self==value.\n",
      " |\n",
      " |  __ge__(self, arg: Union[ForwardRef('LinearExpr'), ForwardRef('IntVar'), int, numpy.int8, numpy.uint8, numpy.int32, numpy.uint32, numpy.int64, numpy.uint64]) -> 'BoundedLinearExpression'\n",
      " |      Return self>=value.\n",
      " |\n",
      " |  __gt__(self, arg: Union[ForwardRef('LinearExpr'), ForwardRef('IntVar'), int, numpy.int8, numpy.uint8, numpy.int32, numpy.uint32, numpy.int64, numpy.uint64]) -> 'BoundedLinearExpression'\n",
      " |      Return self>value.\n",
      " |\n",
      " |  __hash__(self) -> int\n",
      " |      Return hash(self).\n",
      " |\n",
      " |  __le__(self, arg: Union[ForwardRef('LinearExpr'), ForwardRef('IntVar'), int, numpy.int8, numpy.uint8, numpy.int32, numpy.uint32, numpy.int64, numpy.uint64]) -> 'BoundedLinearExpression'\n",
      " |      Return self<=value.\n",
      " |\n",
      " |  __lshift__(self, _) -> NoReturn\n",
      " |\n",
      " |  __lt__(self, arg: Union[ForwardRef('LinearExpr'), ForwardRef('IntVar'), int, numpy.int8, numpy.uint8, numpy.int32, numpy.uint32, numpy.int64, numpy.uint64]) -> 'BoundedLinearExpression'\n",
      " |      Return self<value.\n",
      " |\n",
      " |  __mod__(self, _) -> NoReturn\n",
      " |\n",
      " |  __mul__(self, arg)\n",
      " |\n",
      " |  __ne__(self, arg: Union[ForwardRef('LinearExpr'), ForwardRef('IntVar'), int, numpy.int8, numpy.uint8, numpy.int32, numpy.uint32, numpy.int64, numpy.uint64]) -> Union[ForwardRef('BoundedLinearExpression'), bool]\n",
      " |      Return self!=value.\n",
      " |\n",
      " |  __neg__(self) -> 'LinearExpr'\n",
      " |\n",
      " |  __or__(self, _) -> NoReturn\n",
      " |      Return self|value.\n",
      " |\n",
      " |  __pow__(self, _) -> NoReturn\n",
      " |\n",
      " |  __radd__(self, arg)\n",
      " |\n",
      " |  __rmul__(self, arg)\n",
      " |\n",
      " |  __rshift__(self, _) -> NoReturn\n",
      " |\n",
      " |  __rsub__(self, arg)\n",
      " |\n",
      " |  __sub__(self, arg)\n",
      " |\n",
      " |  __truediv__(self, _) -> NoReturn\n",
      " |\n",
      " |  __xor__(self, _) -> NoReturn\n",
      " |\n",
      " |  get_float_var_value_map(self) -> Tuple[Dict[ForwardRef('IntVar'), float], float, bool]\n",
      " |      Scans the expression. Returns (var_coef_map, constant, is_integer).\n",
      " |\n",
      " |  get_integer_var_value_map(self) -> Tuple[Dict[ForwardRef('IntVar'), int], int]\n",
      " |      Scans the expression, and returns (var_coef_map, constant).\n",
      " |\n",
      " |  ----------------------------------------------------------------------\n",
      " |  Class methods inherited from LinearExpr:\n",
      " |\n",
      " |  Sum(expressions: Sequence[Union[ForwardRef('LinearExpr'), ForwardRef('IntVar'), int, numpy.int8, numpy.uint8, numpy.int32, numpy.uint32, numpy.int64, numpy.uint64]]) -> Union[ForwardRef('LinearExpr'), ForwardRef('IntVar'), int, numpy.int8, numpy.uint8, numpy.int32, numpy.uint32, numpy.int64, numpy.uint64]\n",
      " |      Creates the expression sum(expressions).\n",
      " |\n",
      " |  Term(expression, coefficient)\n",
      " |      Creates `expression * coefficient`.\n",
      " |\n",
      " |  WeightedSum(expressions, coefficients)\n",
      " |      Creates the expression sum(expressions[i] * coefficients[i]).\n",
      " |\n",
      " |  is_empty_or_all_null(coefficients: Sequence[Union[int, float, numpy.int8, numpy.uint8, numpy.int32, numpy.uint32, numpy.int64, numpy.uint64, numpy.float64]]) -> bool\n",
      " |\n",
      " |  rebuild_from_linear_expression_proto(model: ortools.sat.cp_model_pb2.CpModelProto, proto: ortools.sat.cp_model_pb2.LinearExpressionProto) -> Union[ForwardRef('LinearExpr'), ForwardRef('IntVar'), int, numpy.int8, numpy.uint8, numpy.int32, numpy.uint32, numpy.int64, numpy.uint64]\n",
      " |      Recreate a LinearExpr from a LinearExpressionProto.\n",
      " |\n",
      " |  sum(expressions: Sequence[Union[ForwardRef('LinearExpr'), ForwardRef('IntVar'), int, numpy.int8, numpy.uint8, numpy.int32, numpy.uint32, numpy.int64, numpy.uint64]]) -> Union[ForwardRef('LinearExpr'), ForwardRef('IntVar'), int, numpy.int8, numpy.uint8, numpy.int32, numpy.uint32, numpy.int64, numpy.uint64]\n",
      " |      Creates the expression sum(expressions).\n",
      " |\n",
      " |  term(expression, coefficient)\n",
      " |      Creates `expression * coefficient`.\n",
      " |\n",
      " |  weighted_sum(expressions, coefficients)\n",
      " |      Creates the expression sum(expressions[i] * coefficients[i]).\n",
      " |\n",
      " |  ----------------------------------------------------------------------\n",
      " |  Data descriptors inherited from LinearExpr:\n",
      " |\n",
      " |  __dict__\n",
      " |      dictionary for instance variables\n",
      " |\n",
      " |  __weakref__\n",
      " |      list of weak references to the object\n",
      "\n"
     ]
    }
   ],
   "source": [
    "help(red)"
   ]
  },
  {
   "cell_type": "code",
   "execution_count": 18,
   "id": "2b312c98",
   "metadata": {},
   "outputs": [],
   "source": [
    "# Create a solver and solve.\n",
    "#solver = cp_model.CpSolver()\n",
    "solution_printer = cp_model.VarArraySolutionPrinter(\n",
    "    all_the_variables\n",
    ")\n"
   ]
  },
  {
   "cell_type": "code",
   "execution_count": 19,
   "id": "94260d36",
   "metadata": {},
   "outputs": [
    {
     "data": {
      "text/plain": [
       "<ortools.sat.python.cp_model.Constraint at 0x14cd413b5f0>"
      ]
     },
     "execution_count": 19,
     "metadata": {},
     "output_type": "execute_result"
    }
   ],
   "source": [
    "model.add_all_different(red, green, yellow, blue, ivory)\n",
    "model.add_all_different(englishman, spaniard, japanese, ukrainian, norwegian)\n",
    "model.add_all_different(dog, snails, fox, zebra, horse)\n",
    "model.add_all_different(tea, coffee, water, milk, fruit_juice)\n",
    "model.add_all_different(parliaments, kools, chesterfields, lucky_strike, old_gold)\n"
   ]
  },
  {
   "cell_type": "code",
   "execution_count": 20,
   "id": "ebb41c27",
   "metadata": {},
   "outputs": [
    {
     "data": {
      "text/plain": [
       "<ortools.sat.python.cp_model.Constraint at 0x14cd48258b0>"
      ]
     },
     "execution_count": 20,
     "metadata": {},
     "output_type": "execute_result"
    }
   ],
   "source": [
    "model.add(englishman == red)\n",
    "model.add(spaniard == dog)\n",
    "model.add(coffee == green)\n",
    "model.add(ukrainian == tea)\n",
    "model.add(green == ivory + 1)\n",
    "model.add(old_gold == snails)\n",
    "model.add(kools == yellow)\n",
    "model.add(milk == 3)\n",
    "model.add(norwegian == 1)"
   ]
  },
  {
   "cell_type": "code",
   "execution_count": 21,
   "id": "b88ce939",
   "metadata": {},
   "outputs": [
    {
     "data": {
      "text/plain": [
       "<ortools.sat.python.cp_model.Constraint at 0x14cd506dd90>"
      ]
     },
     "execution_count": 21,
     "metadata": {},
     "output_type": "execute_result"
    }
   ],
   "source": [
    "#\n",
    "## comment out?\n",
    "#\n",
    "\n",
    "diff_fox_chesterfields = model.new_int_var(-4, 4, \"diff_fox_chesterfields\")\n",
    "model.add(diff_fox_chesterfields == fox - chesterfields)\n",
    "model.add_abs_equality(1, diff_fox_chesterfields)\n"
   ]
  },
  {
   "cell_type": "code",
   "execution_count": 22,
   "id": "fcfb5608",
   "metadata": {},
   "outputs": [
    {
     "data": {
      "text/plain": [
       "<ortools.sat.python.cp_model.Constraint at 0x14cd506d730>"
      ]
     },
     "execution_count": 22,
     "metadata": {},
     "output_type": "execute_result"
    }
   ],
   "source": [
    "#\n",
    "## comment out\n",
    "#\n",
    "\n",
    "diff_horse_kools = model.new_int_var(-4, 4, \"diff_horse_kools\")\n",
    "model.add(diff_horse_kools == horse - kools)\n",
    "model.add_abs_equality(1, diff_horse_kools)"
   ]
  },
  {
   "cell_type": "code",
   "execution_count": 23,
   "id": "08e75d7f",
   "metadata": {},
   "outputs": [
    {
     "data": {
      "text/plain": [
       "<ortools.sat.python.cp_model.Constraint at 0x14cd506e870>"
      ]
     },
     "execution_count": 23,
     "metadata": {},
     "output_type": "execute_result"
    }
   ],
   "source": [
    "#\n",
    "## comment out\n",
    "#\n",
    "\n",
    "#model.add(lucky_strike == fruit_juice)\n",
    "model.add(japanese == parliaments)"
   ]
  },
  {
   "cell_type": "code",
   "execution_count": 24,
   "id": "dda18d54",
   "metadata": {},
   "outputs": [
    {
     "data": {
      "text/plain": [
       "<ortools.sat.python.cp_model.Constraint at 0x14cd506ecc0>"
      ]
     },
     "execution_count": 24,
     "metadata": {},
     "output_type": "execute_result"
    }
   ],
   "source": [
    "#\n",
    "## comment out\n",
    "#\n",
    "\n",
    "diff_norwegian_blue = model.new_int_var(-4, 4, \"diff_norwegian_blue\")\n",
    "model.add(diff_norwegian_blue == norwegian - blue)\n",
    "model.add_abs_equality(1, diff_norwegian_blue)\n"
   ]
  },
  {
   "cell_type": "code",
   "execution_count": 25,
   "id": "a77d5e1c",
   "metadata": {
    "scrolled": true
   },
   "outputs": [],
   "source": [
    "# Solve and print out the solution.\n",
    "solver = cp_model.CpSolver()\n",
    "#status = solver.solve(model)\n",
    "#status = solver.SearchForAllSolutions(model, solution_printer)"
   ]
  },
  {
   "cell_type": "code",
   "execution_count": 26,
   "id": "968cd2d7",
   "metadata": {},
   "outputs": [
    {
     "data": {
      "text/plain": [
       "4"
      ]
     },
     "execution_count": 26,
     "metadata": {},
     "output_type": "execute_result"
    }
   ],
   "source": [
    "solution_collector = VarArraySolutionCollector(  all_the_variables  )\n",
    "solver.SearchForAllSolutions(model, solution_collector)"
   ]
  },
  {
   "cell_type": "code",
   "execution_count": 27,
   "id": "8cc4958b",
   "metadata": {},
   "outputs": [
    {
     "data": {
      "text/plain": [
       "20"
      ]
     },
     "execution_count": 27,
     "metadata": {},
     "output_type": "execute_result"
    }
   ],
   "source": [
    "len(solution_collector.solution_list)"
   ]
  },
  {
   "cell_type": "code",
   "execution_count": 28,
   "id": "8bb7505c",
   "metadata": {},
   "outputs": [
    {
     "name": "stdout",
     "output_type": "stream",
     "text": [
      "red,green,yellow,blue,ivory,englishman,spaniard,japanese,ukrainian,norwegian,dog,snails,fox,zebra,horse,tea,coffee,water,milk,fruit juice,old gold,kools,chesterfields,lucky strike,parliaments,\n"
     ]
    }
   ],
   "source": [
    "solution_collector.print_headers()"
   ]
  },
  {
   "cell_type": "code",
   "execution_count": 29,
   "id": "773beef6",
   "metadata": {},
   "outputs": [
    {
     "data": {
      "text/plain": [
       "['red',\n",
       " 'green',\n",
       " 'yellow',\n",
       " 'blue',\n",
       " 'ivory',\n",
       " 'englishman',\n",
       " 'spaniard',\n",
       " 'japanese',\n",
       " 'ukrainian',\n",
       " 'norwegian',\n",
       " 'dog',\n",
       " 'snails',\n",
       " 'fox',\n",
       " 'zebra',\n",
       " 'horse',\n",
       " 'tea',\n",
       " 'coffee',\n",
       " 'water',\n",
       " 'milk',\n",
       " 'fruit juice',\n",
       " 'old gold',\n",
       " 'kools',\n",
       " 'chesterfields',\n",
       " 'lucky strike',\n",
       " 'parliaments']"
      ]
     },
     "execution_count": 29,
     "metadata": {},
     "output_type": "execute_result"
    }
   ],
   "source": [
    "solution_collector.list_of_headers()"
   ]
  },
  {
   "cell_type": "code",
   "execution_count": 30,
   "id": "1cd98e0f",
   "metadata": {},
   "outputs": [],
   "source": [
    "import pandas as pd"
   ]
  },
  {
   "cell_type": "code",
   "execution_count": 31,
   "id": "12de154f",
   "metadata": {},
   "outputs": [
    {
     "data": {
      "text/plain": [
       "(20, 25)"
      ]
     },
     "execution_count": 31,
     "metadata": {},
     "output_type": "execute_result"
    }
   ],
   "source": [
    "solutions_df = pd.DataFrame(\n",
    "    data = solution_collector.solution_list,\n",
    "    columns = solution_collector.list_of_headers()\n",
    "    \n",
    ")\n",
    "solutions_df.shape"
   ]
  },
  {
   "cell_type": "code",
   "execution_count": 52,
   "id": "601fc89c",
   "metadata": {},
   "outputs": [
    {
     "data": {
      "text/html": [
       "<div>\n",
       "<style scoped>\n",
       "    .dataframe tbody tr th:only-of-type {\n",
       "        vertical-align: middle;\n",
       "    }\n",
       "\n",
       "    .dataframe tbody tr th {\n",
       "        vertical-align: top;\n",
       "    }\n",
       "\n",
       "    .dataframe thead th {\n",
       "        text-align: right;\n",
       "    }\n",
       "</style>\n",
       "<table border=\"1\" class=\"dataframe\">\n",
       "  <thead>\n",
       "    <tr style=\"text-align: right;\">\n",
       "      <th></th>\n",
       "      <th>red</th>\n",
       "      <th>green</th>\n",
       "      <th>yellow</th>\n",
       "      <th>blue</th>\n",
       "      <th>ivory</th>\n",
       "      <th>englishman</th>\n",
       "      <th>spaniard</th>\n",
       "      <th>japanese</th>\n",
       "      <th>ukrainian</th>\n",
       "      <th>norwegian</th>\n",
       "      <th>...</th>\n",
       "      <th>tea</th>\n",
       "      <th>coffee</th>\n",
       "      <th>water</th>\n",
       "      <th>milk</th>\n",
       "      <th>fruit juice</th>\n",
       "      <th>old gold</th>\n",
       "      <th>kools</th>\n",
       "      <th>chesterfields</th>\n",
       "      <th>lucky strike</th>\n",
       "      <th>parliaments</th>\n",
       "    </tr>\n",
       "  </thead>\n",
       "  <tbody>\n",
       "    <tr>\n",
       "      <th>0</th>\n",
       "      <td>3</td>\n",
       "      <td>5</td>\n",
       "      <td>1</td>\n",
       "      <td>2</td>\n",
       "      <td>4</td>\n",
       "      <td>3</td>\n",
       "      <td>5</td>\n",
       "      <td>2</td>\n",
       "      <td>4</td>\n",
       "      <td>1</td>\n",
       "      <td>...</td>\n",
       "      <td>4</td>\n",
       "      <td>5</td>\n",
       "      <td>2</td>\n",
       "      <td>3</td>\n",
       "      <td>1</td>\n",
       "      <td>3</td>\n",
       "      <td>1</td>\n",
       "      <td>5</td>\n",
       "      <td>4</td>\n",
       "      <td>2</td>\n",
       "    </tr>\n",
       "    <tr>\n",
       "      <th>1</th>\n",
       "      <td>3</td>\n",
       "      <td>5</td>\n",
       "      <td>1</td>\n",
       "      <td>2</td>\n",
       "      <td>4</td>\n",
       "      <td>3</td>\n",
       "      <td>5</td>\n",
       "      <td>2</td>\n",
       "      <td>4</td>\n",
       "      <td>1</td>\n",
       "      <td>...</td>\n",
       "      <td>4</td>\n",
       "      <td>5</td>\n",
       "      <td>1</td>\n",
       "      <td>3</td>\n",
       "      <td>2</td>\n",
       "      <td>3</td>\n",
       "      <td>1</td>\n",
       "      <td>5</td>\n",
       "      <td>4</td>\n",
       "      <td>2</td>\n",
       "    </tr>\n",
       "    <tr>\n",
       "      <th>2</th>\n",
       "      <td>3</td>\n",
       "      <td>5</td>\n",
       "      <td>1</td>\n",
       "      <td>2</td>\n",
       "      <td>4</td>\n",
       "      <td>3</td>\n",
       "      <td>4</td>\n",
       "      <td>5</td>\n",
       "      <td>2</td>\n",
       "      <td>1</td>\n",
       "      <td>...</td>\n",
       "      <td>2</td>\n",
       "      <td>5</td>\n",
       "      <td>4</td>\n",
       "      <td>3</td>\n",
       "      <td>1</td>\n",
       "      <td>3</td>\n",
       "      <td>1</td>\n",
       "      <td>2</td>\n",
       "      <td>4</td>\n",
       "      <td>5</td>\n",
       "    </tr>\n",
       "    <tr>\n",
       "      <th>3</th>\n",
       "      <td>3</td>\n",
       "      <td>5</td>\n",
       "      <td>1</td>\n",
       "      <td>2</td>\n",
       "      <td>4</td>\n",
       "      <td>3</td>\n",
       "      <td>5</td>\n",
       "      <td>4</td>\n",
       "      <td>2</td>\n",
       "      <td>1</td>\n",
       "      <td>...</td>\n",
       "      <td>2</td>\n",
       "      <td>5</td>\n",
       "      <td>4</td>\n",
       "      <td>3</td>\n",
       "      <td>1</td>\n",
       "      <td>3</td>\n",
       "      <td>1</td>\n",
       "      <td>2</td>\n",
       "      <td>5</td>\n",
       "      <td>4</td>\n",
       "    </tr>\n",
       "    <tr>\n",
       "      <th>4</th>\n",
       "      <td>3</td>\n",
       "      <td>5</td>\n",
       "      <td>1</td>\n",
       "      <td>2</td>\n",
       "      <td>4</td>\n",
       "      <td>3</td>\n",
       "      <td>5</td>\n",
       "      <td>4</td>\n",
       "      <td>2</td>\n",
       "      <td>1</td>\n",
       "      <td>...</td>\n",
       "      <td>2</td>\n",
       "      <td>5</td>\n",
       "      <td>1</td>\n",
       "      <td>3</td>\n",
       "      <td>4</td>\n",
       "      <td>3</td>\n",
       "      <td>1</td>\n",
       "      <td>2</td>\n",
       "      <td>5</td>\n",
       "      <td>4</td>\n",
       "    </tr>\n",
       "    <tr>\n",
       "      <th>5</th>\n",
       "      <td>3</td>\n",
       "      <td>5</td>\n",
       "      <td>1</td>\n",
       "      <td>2</td>\n",
       "      <td>4</td>\n",
       "      <td>3</td>\n",
       "      <td>4</td>\n",
       "      <td>5</td>\n",
       "      <td>2</td>\n",
       "      <td>1</td>\n",
       "      <td>...</td>\n",
       "      <td>2</td>\n",
       "      <td>5</td>\n",
       "      <td>1</td>\n",
       "      <td>3</td>\n",
       "      <td>4</td>\n",
       "      <td>3</td>\n",
       "      <td>1</td>\n",
       "      <td>2</td>\n",
       "      <td>4</td>\n",
       "      <td>5</td>\n",
       "    </tr>\n",
       "    <tr>\n",
       "      <th>6</th>\n",
       "      <td>3</td>\n",
       "      <td>5</td>\n",
       "      <td>1</td>\n",
       "      <td>2</td>\n",
       "      <td>4</td>\n",
       "      <td>3</td>\n",
       "      <td>4</td>\n",
       "      <td>5</td>\n",
       "      <td>2</td>\n",
       "      <td>1</td>\n",
       "      <td>...</td>\n",
       "      <td>2</td>\n",
       "      <td>5</td>\n",
       "      <td>1</td>\n",
       "      <td>3</td>\n",
       "      <td>4</td>\n",
       "      <td>3</td>\n",
       "      <td>1</td>\n",
       "      <td>4</td>\n",
       "      <td>2</td>\n",
       "      <td>5</td>\n",
       "    </tr>\n",
       "    <tr>\n",
       "      <th>7</th>\n",
       "      <td>3</td>\n",
       "      <td>5</td>\n",
       "      <td>1</td>\n",
       "      <td>2</td>\n",
       "      <td>4</td>\n",
       "      <td>3</td>\n",
       "      <td>5</td>\n",
       "      <td>4</td>\n",
       "      <td>2</td>\n",
       "      <td>1</td>\n",
       "      <td>...</td>\n",
       "      <td>2</td>\n",
       "      <td>5</td>\n",
       "      <td>1</td>\n",
       "      <td>3</td>\n",
       "      <td>4</td>\n",
       "      <td>3</td>\n",
       "      <td>1</td>\n",
       "      <td>5</td>\n",
       "      <td>2</td>\n",
       "      <td>4</td>\n",
       "    </tr>\n",
       "    <tr>\n",
       "      <th>8</th>\n",
       "      <td>3</td>\n",
       "      <td>5</td>\n",
       "      <td>1</td>\n",
       "      <td>2</td>\n",
       "      <td>4</td>\n",
       "      <td>3</td>\n",
       "      <td>5</td>\n",
       "      <td>4</td>\n",
       "      <td>2</td>\n",
       "      <td>1</td>\n",
       "      <td>...</td>\n",
       "      <td>2</td>\n",
       "      <td>5</td>\n",
       "      <td>4</td>\n",
       "      <td>3</td>\n",
       "      <td>1</td>\n",
       "      <td>3</td>\n",
       "      <td>1</td>\n",
       "      <td>5</td>\n",
       "      <td>2</td>\n",
       "      <td>4</td>\n",
       "    </tr>\n",
       "    <tr>\n",
       "      <th>9</th>\n",
       "      <td>3</td>\n",
       "      <td>5</td>\n",
       "      <td>1</td>\n",
       "      <td>2</td>\n",
       "      <td>4</td>\n",
       "      <td>3</td>\n",
       "      <td>4</td>\n",
       "      <td>5</td>\n",
       "      <td>2</td>\n",
       "      <td>1</td>\n",
       "      <td>...</td>\n",
       "      <td>2</td>\n",
       "      <td>5</td>\n",
       "      <td>4</td>\n",
       "      <td>3</td>\n",
       "      <td>1</td>\n",
       "      <td>3</td>\n",
       "      <td>1</td>\n",
       "      <td>4</td>\n",
       "      <td>2</td>\n",
       "      <td>5</td>\n",
       "    </tr>\n",
       "    <tr>\n",
       "      <th>10</th>\n",
       "      <td>5</td>\n",
       "      <td>4</td>\n",
       "      <td>1</td>\n",
       "      <td>2</td>\n",
       "      <td>3</td>\n",
       "      <td>5</td>\n",
       "      <td>3</td>\n",
       "      <td>4</td>\n",
       "      <td>2</td>\n",
       "      <td>1</td>\n",
       "      <td>...</td>\n",
       "      <td>2</td>\n",
       "      <td>4</td>\n",
       "      <td>5</td>\n",
       "      <td>3</td>\n",
       "      <td>1</td>\n",
       "      <td>5</td>\n",
       "      <td>1</td>\n",
       "      <td>3</td>\n",
       "      <td>2</td>\n",
       "      <td>4</td>\n",
       "    </tr>\n",
       "    <tr>\n",
       "      <th>11</th>\n",
       "      <td>5</td>\n",
       "      <td>4</td>\n",
       "      <td>1</td>\n",
       "      <td>2</td>\n",
       "      <td>3</td>\n",
       "      <td>5</td>\n",
       "      <td>3</td>\n",
       "      <td>4</td>\n",
       "      <td>2</td>\n",
       "      <td>1</td>\n",
       "      <td>...</td>\n",
       "      <td>2</td>\n",
       "      <td>4</td>\n",
       "      <td>1</td>\n",
       "      <td>3</td>\n",
       "      <td>5</td>\n",
       "      <td>5</td>\n",
       "      <td>1</td>\n",
       "      <td>3</td>\n",
       "      <td>2</td>\n",
       "      <td>4</td>\n",
       "    </tr>\n",
       "    <tr>\n",
       "      <th>12</th>\n",
       "      <td>5</td>\n",
       "      <td>4</td>\n",
       "      <td>1</td>\n",
       "      <td>2</td>\n",
       "      <td>3</td>\n",
       "      <td>5</td>\n",
       "      <td>4</td>\n",
       "      <td>3</td>\n",
       "      <td>2</td>\n",
       "      <td>1</td>\n",
       "      <td>...</td>\n",
       "      <td>2</td>\n",
       "      <td>4</td>\n",
       "      <td>1</td>\n",
       "      <td>3</td>\n",
       "      <td>5</td>\n",
       "      <td>5</td>\n",
       "      <td>1</td>\n",
       "      <td>2</td>\n",
       "      <td>4</td>\n",
       "      <td>3</td>\n",
       "    </tr>\n",
       "    <tr>\n",
       "      <th>13</th>\n",
       "      <td>5</td>\n",
       "      <td>4</td>\n",
       "      <td>1</td>\n",
       "      <td>2</td>\n",
       "      <td>3</td>\n",
       "      <td>5</td>\n",
       "      <td>4</td>\n",
       "      <td>3</td>\n",
       "      <td>2</td>\n",
       "      <td>1</td>\n",
       "      <td>...</td>\n",
       "      <td>2</td>\n",
       "      <td>4</td>\n",
       "      <td>5</td>\n",
       "      <td>3</td>\n",
       "      <td>1</td>\n",
       "      <td>5</td>\n",
       "      <td>1</td>\n",
       "      <td>2</td>\n",
       "      <td>4</td>\n",
       "      <td>3</td>\n",
       "    </tr>\n",
       "    <tr>\n",
       "      <th>14</th>\n",
       "      <td>5</td>\n",
       "      <td>4</td>\n",
       "      <td>1</td>\n",
       "      <td>2</td>\n",
       "      <td>3</td>\n",
       "      <td>5</td>\n",
       "      <td>4</td>\n",
       "      <td>3</td>\n",
       "      <td>2</td>\n",
       "      <td>1</td>\n",
       "      <td>...</td>\n",
       "      <td>2</td>\n",
       "      <td>4</td>\n",
       "      <td>5</td>\n",
       "      <td>3</td>\n",
       "      <td>1</td>\n",
       "      <td>5</td>\n",
       "      <td>1</td>\n",
       "      <td>2</td>\n",
       "      <td>4</td>\n",
       "      <td>3</td>\n",
       "    </tr>\n",
       "    <tr>\n",
       "      <th>15</th>\n",
       "      <td>5</td>\n",
       "      <td>4</td>\n",
       "      <td>1</td>\n",
       "      <td>2</td>\n",
       "      <td>3</td>\n",
       "      <td>5</td>\n",
       "      <td>4</td>\n",
       "      <td>3</td>\n",
       "      <td>2</td>\n",
       "      <td>1</td>\n",
       "      <td>...</td>\n",
       "      <td>2</td>\n",
       "      <td>4</td>\n",
       "      <td>1</td>\n",
       "      <td>3</td>\n",
       "      <td>5</td>\n",
       "      <td>5</td>\n",
       "      <td>1</td>\n",
       "      <td>2</td>\n",
       "      <td>4</td>\n",
       "      <td>3</td>\n",
       "    </tr>\n",
       "    <tr>\n",
       "      <th>16</th>\n",
       "      <td>5</td>\n",
       "      <td>4</td>\n",
       "      <td>1</td>\n",
       "      <td>2</td>\n",
       "      <td>3</td>\n",
       "      <td>5</td>\n",
       "      <td>4</td>\n",
       "      <td>3</td>\n",
       "      <td>2</td>\n",
       "      <td>1</td>\n",
       "      <td>...</td>\n",
       "      <td>2</td>\n",
       "      <td>4</td>\n",
       "      <td>1</td>\n",
       "      <td>3</td>\n",
       "      <td>5</td>\n",
       "      <td>5</td>\n",
       "      <td>1</td>\n",
       "      <td>4</td>\n",
       "      <td>2</td>\n",
       "      <td>3</td>\n",
       "    </tr>\n",
       "    <tr>\n",
       "      <th>17</th>\n",
       "      <td>5</td>\n",
       "      <td>4</td>\n",
       "      <td>1</td>\n",
       "      <td>2</td>\n",
       "      <td>3</td>\n",
       "      <td>5</td>\n",
       "      <td>4</td>\n",
       "      <td>3</td>\n",
       "      <td>2</td>\n",
       "      <td>1</td>\n",
       "      <td>...</td>\n",
       "      <td>2</td>\n",
       "      <td>4</td>\n",
       "      <td>5</td>\n",
       "      <td>3</td>\n",
       "      <td>1</td>\n",
       "      <td>5</td>\n",
       "      <td>1</td>\n",
       "      <td>4</td>\n",
       "      <td>2</td>\n",
       "      <td>3</td>\n",
       "    </tr>\n",
       "    <tr>\n",
       "      <th>18</th>\n",
       "      <td>5</td>\n",
       "      <td>4</td>\n",
       "      <td>1</td>\n",
       "      <td>2</td>\n",
       "      <td>3</td>\n",
       "      <td>5</td>\n",
       "      <td>3</td>\n",
       "      <td>4</td>\n",
       "      <td>2</td>\n",
       "      <td>1</td>\n",
       "      <td>...</td>\n",
       "      <td>2</td>\n",
       "      <td>4</td>\n",
       "      <td>5</td>\n",
       "      <td>3</td>\n",
       "      <td>1</td>\n",
       "      <td>5</td>\n",
       "      <td>1</td>\n",
       "      <td>2</td>\n",
       "      <td>3</td>\n",
       "      <td>4</td>\n",
       "    </tr>\n",
       "    <tr>\n",
       "      <th>19</th>\n",
       "      <td>5</td>\n",
       "      <td>4</td>\n",
       "      <td>1</td>\n",
       "      <td>2</td>\n",
       "      <td>3</td>\n",
       "      <td>5</td>\n",
       "      <td>3</td>\n",
       "      <td>4</td>\n",
       "      <td>2</td>\n",
       "      <td>1</td>\n",
       "      <td>...</td>\n",
       "      <td>2</td>\n",
       "      <td>4</td>\n",
       "      <td>1</td>\n",
       "      <td>3</td>\n",
       "      <td>5</td>\n",
       "      <td>5</td>\n",
       "      <td>1</td>\n",
       "      <td>2</td>\n",
       "      <td>3</td>\n",
       "      <td>4</td>\n",
       "    </tr>\n",
       "  </tbody>\n",
       "</table>\n",
       "<p>20 rows × 25 columns</p>\n",
       "</div>"
      ],
      "text/plain": [
       "    red  green  yellow  blue  ivory  englishman  spaniard  japanese  \\\n",
       "0     3      5       1     2      4           3         5         2   \n",
       "1     3      5       1     2      4           3         5         2   \n",
       "2     3      5       1     2      4           3         4         5   \n",
       "3     3      5       1     2      4           3         5         4   \n",
       "4     3      5       1     2      4           3         5         4   \n",
       "5     3      5       1     2      4           3         4         5   \n",
       "6     3      5       1     2      4           3         4         5   \n",
       "7     3      5       1     2      4           3         5         4   \n",
       "8     3      5       1     2      4           3         5         4   \n",
       "9     3      5       1     2      4           3         4         5   \n",
       "10    5      4       1     2      3           5         3         4   \n",
       "11    5      4       1     2      3           5         3         4   \n",
       "12    5      4       1     2      3           5         4         3   \n",
       "13    5      4       1     2      3           5         4         3   \n",
       "14    5      4       1     2      3           5         4         3   \n",
       "15    5      4       1     2      3           5         4         3   \n",
       "16    5      4       1     2      3           5         4         3   \n",
       "17    5      4       1     2      3           5         4         3   \n",
       "18    5      4       1     2      3           5         3         4   \n",
       "19    5      4       1     2      3           5         3         4   \n",
       "\n",
       "    ukrainian  norwegian  ...  tea  coffee  water  milk  fruit juice  \\\n",
       "0           4          1  ...    4       5      2     3            1   \n",
       "1           4          1  ...    4       5      1     3            2   \n",
       "2           2          1  ...    2       5      4     3            1   \n",
       "3           2          1  ...    2       5      4     3            1   \n",
       "4           2          1  ...    2       5      1     3            4   \n",
       "5           2          1  ...    2       5      1     3            4   \n",
       "6           2          1  ...    2       5      1     3            4   \n",
       "7           2          1  ...    2       5      1     3            4   \n",
       "8           2          1  ...    2       5      4     3            1   \n",
       "9           2          1  ...    2       5      4     3            1   \n",
       "10          2          1  ...    2       4      5     3            1   \n",
       "11          2          1  ...    2       4      1     3            5   \n",
       "12          2          1  ...    2       4      1     3            5   \n",
       "13          2          1  ...    2       4      5     3            1   \n",
       "14          2          1  ...    2       4      5     3            1   \n",
       "15          2          1  ...    2       4      1     3            5   \n",
       "16          2          1  ...    2       4      1     3            5   \n",
       "17          2          1  ...    2       4      5     3            1   \n",
       "18          2          1  ...    2       4      5     3            1   \n",
       "19          2          1  ...    2       4      1     3            5   \n",
       "\n",
       "    old gold  kools  chesterfields  lucky strike  parliaments  \n",
       "0          3      1              5             4            2  \n",
       "1          3      1              5             4            2  \n",
       "2          3      1              2             4            5  \n",
       "3          3      1              2             5            4  \n",
       "4          3      1              2             5            4  \n",
       "5          3      1              2             4            5  \n",
       "6          3      1              4             2            5  \n",
       "7          3      1              5             2            4  \n",
       "8          3      1              5             2            4  \n",
       "9          3      1              4             2            5  \n",
       "10         5      1              3             2            4  \n",
       "11         5      1              3             2            4  \n",
       "12         5      1              2             4            3  \n",
       "13         5      1              2             4            3  \n",
       "14         5      1              2             4            3  \n",
       "15         5      1              2             4            3  \n",
       "16         5      1              4             2            3  \n",
       "17         5      1              4             2            3  \n",
       "18         5      1              2             3            4  \n",
       "19         5      1              2             3            4  \n",
       "\n",
       "[20 rows x 25 columns]"
      ]
     },
     "execution_count": 52,
     "metadata": {},
     "output_type": "execute_result"
    }
   ],
   "source": [
    "solutions_df"
   ]
  },
  {
   "cell_type": "code",
   "execution_count": 33,
   "id": "ff433dc1",
   "metadata": {},
   "outputs": [
    {
     "data": {
      "text/plain": [
       "[[3, 5, 1, 2, 4, 3, 5, 2, 4, 1, 5, 3, 4, 1, 2, 4, 5, 2, 3, 1, 3, 1, 5, 4, 2],\n",
       " [3, 5, 1, 2, 4, 3, 5, 2, 4, 1, 5, 3, 4, 1, 2, 4, 5, 1, 3, 2, 3, 1, 5, 4, 2],\n",
       " [3, 5, 1, 2, 4, 3, 4, 5, 2, 1, 4, 3, 1, 5, 2, 2, 5, 4, 3, 1, 3, 1, 2, 4, 5],\n",
       " [3, 5, 1, 2, 4, 3, 5, 4, 2, 1, 5, 3, 1, 4, 2, 2, 5, 4, 3, 1, 3, 1, 2, 5, 4],\n",
       " [3, 5, 1, 2, 4, 3, 5, 4, 2, 1, 5, 3, 1, 4, 2, 2, 5, 1, 3, 4, 3, 1, 2, 5, 4],\n",
       " [3, 5, 1, 2, 4, 3, 4, 5, 2, 1, 4, 3, 1, 5, 2, 2, 5, 1, 3, 4, 3, 1, 2, 4, 5],\n",
       " [3, 5, 1, 2, 4, 3, 4, 5, 2, 1, 4, 3, 5, 1, 2, 2, 5, 1, 3, 4, 3, 1, 4, 2, 5],\n",
       " [3, 5, 1, 2, 4, 3, 5, 4, 2, 1, 5, 3, 4, 1, 2, 2, 5, 1, 3, 4, 3, 1, 5, 2, 4],\n",
       " [3, 5, 1, 2, 4, 3, 5, 4, 2, 1, 5, 3, 4, 1, 2, 2, 5, 4, 3, 1, 3, 1, 5, 2, 4],\n",
       " [3, 5, 1, 2, 4, 3, 4, 5, 2, 1, 4, 3, 5, 1, 2, 2, 5, 4, 3, 1, 3, 1, 4, 2, 5],\n",
       " [5, 4, 1, 2, 3, 5, 3, 4, 2, 1, 3, 5, 4, 1, 2, 2, 4, 5, 3, 1, 5, 1, 3, 2, 4],\n",
       " [5, 4, 1, 2, 3, 5, 3, 4, 2, 1, 3, 5, 4, 1, 2, 2, 4, 1, 3, 5, 5, 1, 3, 2, 4],\n",
       " [5, 4, 1, 2, 3, 5, 4, 3, 2, 1, 4, 5, 3, 1, 2, 2, 4, 1, 3, 5, 5, 1, 2, 4, 3],\n",
       " [5, 4, 1, 2, 3, 5, 4, 3, 2, 1, 4, 5, 3, 1, 2, 2, 4, 5, 3, 1, 5, 1, 2, 4, 3],\n",
       " [5, 4, 1, 2, 3, 5, 4, 3, 2, 1, 4, 5, 1, 3, 2, 2, 4, 5, 3, 1, 5, 1, 2, 4, 3],\n",
       " [5, 4, 1, 2, 3, 5, 4, 3, 2, 1, 4, 5, 1, 3, 2, 2, 4, 1, 3, 5, 5, 1, 2, 4, 3],\n",
       " [5, 4, 1, 2, 3, 5, 4, 3, 2, 1, 4, 5, 3, 1, 2, 2, 4, 1, 3, 5, 5, 1, 4, 2, 3],\n",
       " [5, 4, 1, 2, 3, 5, 4, 3, 2, 1, 4, 5, 3, 1, 2, 2, 4, 5, 3, 1, 5, 1, 4, 2, 3],\n",
       " [5, 4, 1, 2, 3, 5, 3, 4, 2, 1, 3, 5, 1, 4, 2, 2, 4, 5, 3, 1, 5, 1, 2, 3, 4],\n",
       " [5, 4, 1, 2, 3, 5, 3, 4, 2, 1, 3, 5, 1, 4, 2, 2, 4, 1, 3, 5, 5, 1, 2, 3, 4]]"
      ]
     },
     "execution_count": 33,
     "metadata": {},
     "output_type": "execute_result"
    }
   ],
   "source": [
    "solution_collector.solution_list"
   ]
  },
  {
   "cell_type": "code",
   "execution_count": 34,
   "id": "b4b64004",
   "metadata": {},
   "outputs": [],
   "source": [
    "# print\n",
    "#  status = solver.SearchForAllSolutions(model, solution_printer)"
   ]
  },
  {
   "cell_type": "code",
   "execution_count": 35,
   "id": "7f8a09be",
   "metadata": {},
   "outputs": [
    {
     "data": {
      "text/plain": [
       "[norwegian(1..5)]"
      ]
     },
     "execution_count": 35,
     "metadata": {},
     "output_type": "execute_result"
    }
   ],
   "source": [
    "[p for p in people if solver.value(p) == solver.value(water)]"
   ]
  },
  {
   "cell_type": "code",
   "execution_count": null,
   "id": "beedd656",
   "metadata": {},
   "outputs": [],
   "source": []
  },
  {
   "cell_type": "code",
   "execution_count": null,
   "id": "d693100b",
   "metadata": {},
   "outputs": [],
   "source": []
  },
  {
   "cell_type": "code",
   "execution_count": null,
   "id": "ec9f99ae",
   "metadata": {},
   "outputs": [],
   "source": []
  },
  {
   "cell_type": "code",
   "execution_count": 36,
   "id": "daab780d",
   "metadata": {},
   "outputs": [
    {
     "data": {
      "text/plain": [
       "[japanese(1..5)]"
      ]
     },
     "execution_count": 36,
     "metadata": {},
     "output_type": "execute_result"
    }
   ],
   "source": [
    "[p for p in people if solver.value(p) == solver.value(zebra)]"
   ]
  },
  {
   "cell_type": "code",
   "execution_count": 37,
   "id": "684cf1a0",
   "metadata": {},
   "outputs": [
    {
     "name": "stdout",
     "output_type": "stream",
     "text": [
      "The norwegian drinks water.\n",
      "The japanese owns the zebra.\n"
     ]
    }
   ],
   "source": [
    "\n",
    "water_drinker = [p for p in people if solver.value(p) == solver.value(water)][0]\n",
    "zebra_owner = [p for p in people if solver.value(p) == solver.value(zebra)][0]\n",
    "print(\"The\", water_drinker.name, \"drinks water.\")\n",
    "print(\"The\", zebra_owner.name, \"owns the zebra.\")\n"
   ]
  },
  {
   "cell_type": "code",
   "execution_count": null,
   "id": "6ef637e2",
   "metadata": {},
   "outputs": [],
   "source": []
  },
  {
   "cell_type": "code",
   "execution_count": null,
   "id": "20b73387",
   "metadata": {},
   "outputs": [],
   "source": []
  },
  {
   "cell_type": "code",
   "execution_count": null,
   "id": "e06b9d41",
   "metadata": {},
   "outputs": [],
   "source": []
  },
  {
   "cell_type": "code",
   "execution_count": 38,
   "id": "d32ba740",
   "metadata": {},
   "outputs": [
    {
     "data": {
      "text/plain": [
       "<ortools.sat.python.cp_model.Constraint at 0x14cd51f7200>"
      ]
     },
     "execution_count": 38,
     "metadata": {},
     "output_type": "execute_result"
    }
   ],
   "source": [
    "model.add_all_different(red, green, yellow, blue, ivory)"
   ]
  },
  {
   "cell_type": "code",
   "execution_count": 39,
   "id": "32cb51b4",
   "metadata": {},
   "outputs": [],
   "source": [
    "solver = cp_model.CpSolver()\n",
    "status = solver.solve(model)"
   ]
  },
  {
   "cell_type": "code",
   "execution_count": 40,
   "id": "438a61a4",
   "metadata": {},
   "outputs": [
    {
     "data": {
      "text/plain": [
       "1"
      ]
     },
     "execution_count": 40,
     "metadata": {},
     "output_type": "execute_result"
    }
   ],
   "source": [
    "solver.value(water)"
   ]
  },
  {
   "cell_type": "code",
   "execution_count": 41,
   "id": "43e750e3",
   "metadata": {},
   "outputs": [
    {
     "data": {
      "text/plain": [
       "4"
      ]
     },
     "execution_count": 41,
     "metadata": {},
     "output_type": "execute_result"
    }
   ],
   "source": [
    "status = solver.solve(model)\n",
    "status"
   ]
  },
  {
   "cell_type": "code",
   "execution_count": 42,
   "id": "ab99fc37",
   "metadata": {},
   "outputs": [],
   "source": [
    "people = [englishman, spaniard, japanese, ukrainian, norwegian]\n",
    "water_drinker = [p for p in people if solver.value(p) == solver.value(water)][0]\n",
    "\n"
   ]
  },
  {
   "cell_type": "code",
   "execution_count": 43,
   "id": "a073c7d1",
   "metadata": {},
   "outputs": [
    {
     "name": "stdout",
     "output_type": "stream",
     "text": [
      "norwegian\n"
     ]
    },
    {
     "data": {
      "text/plain": [
       "[norwegian(1..5)]"
      ]
     },
     "execution_count": 43,
     "metadata": {},
     "output_type": "execute_result"
    }
   ],
   "source": [
    "water_drinker = [p for p in people if solver.value(p) == solver.value(water)]\n",
    "print(water_drinker[0])\n",
    "water_drinker"
   ]
  },
  {
   "cell_type": "code",
   "execution_count": 44,
   "id": "0291b79b",
   "metadata": {},
   "outputs": [
    {
     "name": "stdout",
     "output_type": "stream",
     "text": [
      "japanese\n"
     ]
    },
    {
     "data": {
      "text/plain": [
       "[japanese(1..5)]"
      ]
     },
     "execution_count": 44,
     "metadata": {},
     "output_type": "execute_result"
    }
   ],
   "source": [
    "zebra_owner = [p for p in people if solver.value(p) == solver.value(zebra)]\n",
    "print(zebra_owner [0])\n",
    "zebra_owner "
   ]
  },
  {
   "cell_type": "code",
   "execution_count": 45,
   "id": "df4f9193",
   "metadata": {},
   "outputs": [],
   "source": [
    "#print(\"The\", water_drinker.name, \"drinks water.\")\n",
    "#print(\"The\", zebra_owner.name, \"owns the zebra.\")"
   ]
  },
  {
   "cell_type": "code",
   "execution_count": 46,
   "id": "2cc3876e",
   "metadata": {},
   "outputs": [
    {
     "data": {
      "text/plain": [
       "red(1..5)"
      ]
     },
     "execution_count": 46,
     "metadata": {},
     "output_type": "execute_result"
    }
   ],
   "source": [
    "red"
   ]
  },
  {
   "cell_type": "code",
   "execution_count": 47,
   "id": "2d21992a",
   "metadata": {},
   "outputs": [
    {
     "data": {
      "text/plain": [
       "[(5, red(1..5)),\n",
       " (4, green(1..5)),\n",
       " (1, yellow(1..5)),\n",
       " (2, blue(1..5)),\n",
       " (3, ivory(1..5))]"
      ]
     },
     "execution_count": 47,
     "metadata": {},
     "output_type": "execute_result"
    }
   ],
   "source": [
    "house_colors = [\n",
    "red ,\n",
    "green ,\n",
    "yellow ,\n",
    "blue ,\n",
    "ivory ,\n",
    "   \n",
    "]\n",
    "\n",
    "[(solver.value(color),color) for color in house_colors]"
   ]
  },
  {
   "cell_type": "code",
   "execution_count": 48,
   "id": "b6f1af23",
   "metadata": {},
   "outputs": [
    {
     "data": {
      "text/plain": [
       "[(5, englishman(1..5)),\n",
       " (3, spaniard(1..5)),\n",
       " (4, japanese(1..5)),\n",
       " (2, ukrainian(1..5)),\n",
       " (1, norwegian(1..5))]"
      ]
     },
     "execution_count": 48,
     "metadata": {},
     "output_type": "execute_result"
    }
   ],
   "source": [
    "people = [\n",
    "englishman,\n",
    "spaniard,\n",
    "japanese,\n",
    "ukrainian,\n",
    "norwegian,\n",
    "   \n",
    "]\n",
    "\n",
    "[(solver.value(person),person) for person in people]"
   ]
  },
  {
   "cell_type": "code",
   "execution_count": 49,
   "id": "a2daae88",
   "metadata": {},
   "outputs": [
    {
     "data": {
      "text/plain": [
       "[(3, dog(1..5)),\n",
       " (5, snails(1..5)),\n",
       " (1, fox(1..5)),\n",
       " (4, zebra(1..5)),\n",
       " (2, horse(1..5))]"
      ]
     },
     "execution_count": 49,
     "metadata": {},
     "output_type": "execute_result"
    }
   ],
   "source": [
    "animals = [\n",
    "\n",
    "dog,\n",
    "snails,\n",
    "fox,\n",
    "zebra,\n",
    "horse,\n",
    "]\n",
    "\n",
    "[(solver.value(animal),animal) for animal in animals]\n"
   ]
  },
  {
   "cell_type": "code",
   "execution_count": 50,
   "id": "8ea4f80a",
   "metadata": {},
   "outputs": [
    {
     "data": {
      "text/plain": [
       "[(2, tea(1..5)),\n",
       " (4, coffee(1..5)),\n",
       " (1, water(1..5)),\n",
       " (3, milk(1..5)),\n",
       " (5, fruit juice(1..5))]"
      ]
     },
     "execution_count": 50,
     "metadata": {},
     "output_type": "execute_result"
    }
   ],
   "source": [
    "drinks = [\n",
    "tea,\n",
    "coffee,\n",
    "water,\n",
    "milk,\n",
    "fruit_juice,\n",
    "    \n",
    "]\n",
    "\n",
    "[(solver.value(drink),drink) for drink in drinks]"
   ]
  },
  {
   "cell_type": "code",
   "execution_count": 51,
   "id": "b90af3a7",
   "metadata": {},
   "outputs": [
    {
     "data": {
      "text/plain": [
       "[(5, old gold(1..5)),\n",
       " (1, kools(1..5)),\n",
       " (2, chesterfields(1..5)),\n",
       " (3, lucky strike(1..5)),\n",
       " (4, parliaments(1..5))]"
      ]
     },
     "execution_count": 51,
     "metadata": {},
     "output_type": "execute_result"
    }
   ],
   "source": [
    "\n",
    "smokes = [\n",
    "\n",
    "old_gold,\n",
    "kools,\n",
    "chesterfields,\n",
    "lucky_strike,\n",
    "parliaments,\n",
    "\n",
    "]\n",
    "\n",
    "[(solver.value(smoke),smoke) for smoke in smokes]\n"
   ]
  },
  {
   "cell_type": "code",
   "execution_count": null,
   "id": "1b3ffd78",
   "metadata": {},
   "outputs": [],
   "source": []
  },
  {
   "cell_type": "code",
   "execution_count": null,
   "id": "c555cce8",
   "metadata": {},
   "outputs": [],
   "source": []
  },
  {
   "cell_type": "code",
   "execution_count": null,
   "id": "6439af59",
   "metadata": {},
   "outputs": [],
   "source": []
  },
  {
   "cell_type": "code",
   "execution_count": null,
   "id": "1d96c3f0",
   "metadata": {},
   "outputs": [],
   "source": []
  },
  {
   "cell_type": "code",
   "execution_count": null,
   "id": "2817aeb6",
   "metadata": {},
   "outputs": [],
   "source": []
  },
  {
   "cell_type": "code",
   "execution_count": null,
   "id": "677db011",
   "metadata": {},
   "outputs": [],
   "source": []
  }
 ],
 "metadata": {
  "kernelspec": {
   "display_name": "Python 3 (ipykernel)",
   "language": "python",
   "name": "python3"
  },
  "language_info": {
   "codemirror_mode": {
    "name": "ipython",
    "version": 3
   },
   "file_extension": ".py",
   "mimetype": "text/x-python",
   "name": "python",
   "nbconvert_exporter": "python",
   "pygments_lexer": "ipython3",
   "version": "3.12.4"
  }
 },
 "nbformat": 4,
 "nbformat_minor": 5
}
