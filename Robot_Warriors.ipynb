{
 "cells": [
  {
   "cell_type": "markdown",
   "id": "9ec38d6b-4518-4443-ba9b-331d92cbb49f",
   "metadata": {},
   "source": [
    "# "
   ]
  },
  {
   "cell_type": "code",
   "execution_count": 1,
   "id": "b30ab13c",
   "metadata": {},
   "outputs": [
    {
     "data": {
      "text/plain": [
       "'C:\\\\Users\\\\clayt'"
      ]
     },
     "execution_count": 1,
     "metadata": {},
     "output_type": "execute_result"
    }
   ],
   "source": [
    "%pwd"
   ]
  },
  {
   "cell_type": "code",
   "execution_count": 2,
   "id": "8038facb",
   "metadata": {},
   "outputs": [],
   "source": [
    "intent_2024_09_06 = \"\"\"\n",
    "\n",
    "solving \"robot warriors\" page 29 in the logic puzzles book\n",
    "\n",
    "\n",
    "\n",
    "\"\"\""
   ]
  },
  {
   "cell_type": "code",
   "execution_count": 3,
   "id": "dd404710",
   "metadata": {},
   "outputs": [],
   "source": [
    "from pprint import pprint"
   ]
  },
  {
   "cell_type": "code",
   "execution_count": 4,
   "id": "dee5fa86",
   "metadata": {},
   "outputs": [],
   "source": [
    "import pandas as pd\n",
    "\n",
    "pd.set_option('display.max_columns', 30)\n"
   ]
  },
  {
   "cell_type": "code",
   "execution_count": 5,
   "id": "9d0c1bb0",
   "metadata": {},
   "outputs": [],
   "source": [
    "from ortools.sat.python import cp_model"
   ]
  },
  {
   "cell_type": "code",
   "execution_count": 6,
   "id": "b3f2861e",
   "metadata": {},
   "outputs": [],
   "source": [
    "# \"\"\"Solves the robot warrior problem.\"\"\""
   ]
  },
  {
   "cell_type": "code",
   "execution_count": 7,
   "id": "3369f7ca",
   "metadata": {},
   "outputs": [],
   "source": [
    "#\n",
    "# putting in the multisolution\n",
    "#"
   ]
  },
  {
   "cell_type": "code",
   "execution_count": 8,
   "id": "a11112b0",
   "metadata": {},
   "outputs": [],
   "source": [
    "# Create the model.\n",
    "model = cp_model.CpModel()\n"
   ]
  },
  {
   "cell_type": "code",
   "execution_count": 9,
   "id": "8109832a",
   "metadata": {},
   "outputs": [],
   "source": [
    "class VarArraySolutionCollector(cp_model.CpSolverSolutionCallback):\n",
    "\n",
    "    def __init__(self, variables):\n",
    "        cp_model.CpSolverSolutionCallback.__init__(self)\n",
    "        self.__variables = variables\n",
    "        self.solution_list = []\n",
    "\n",
    "    def on_solution_callback(self):\n",
    "        self.solution_list.append([self.Value(v) for v in self.__variables])\n",
    "\n",
    "    def print_headers(self):\n",
    "        for var in self.__variables:\n",
    "            print (f\"{var.name},\",end='')\n",
    "        print (\"\")\n",
    "\n",
    "    def list_of_headers(self):\n",
    "        return_list = [\n",
    "            str (var.name) \n",
    "            for \n",
    "            var in \n",
    "            self.__variables\n",
    "        ]\n",
    "        return return_list\n"
   ]
  },
  {
   "cell_type": "code",
   "execution_count": 10,
   "id": "b84aa52d",
   "metadata": {},
   "outputs": [],
   "source": [
    "# 1 through 5 -- will use the battery sizes as the number "
   ]
  },
  {
   "cell_type": "code",
   "execution_count": 11,
   "id": "38d4dbc9",
   "metadata": {},
   "outputs": [],
   "source": [
    "    AAAA_type = model.new_int_var(1, 5, \"AAAA\")\n",
    "    AAA_type  = model.new_int_var(1, 5, \"AAA\")\n",
    "    AA_type  = model.new_int_var(1, 5, \"AA\")\n",
    "    C_type = model.new_int_var(1, 5, \"C\")\n",
    "    D_type  = model.new_int_var(1, 5, \"D\")\n",
    "\n",
    "\n",
    "Types = [\n",
    "    AAAA_type ,\n",
    "    AAA_type,\n",
    "    AA_type,\n",
    "    C_type,\n",
    "    D_type,\n",
    "]"
   ]
  },
  {
   "cell_type": "code",
   "execution_count": 12,
   "id": "08b0afa6",
   "metadata": {},
   "outputs": [],
   "source": [
    "\n",
    "Aden = model.new_int_var(1, 5, \"Aden\")\n",
    "Giselle = model.new_int_var(1, 5, \"Giselle\")\n",
    "Jackie= model.new_int_var(1, 5, \"Jackie\")\n",
    "Stephen = model.new_int_var(1, 5, \"Stephen\")\n",
    "Zachary = model.new_int_var(1, 5, \"Zachary\")\n",
    "\n",
    "Builders = [\n",
    "    Aden ,\n",
    "    Giselle,\n",
    "    Jackie,\n",
    "    Stephen,\n",
    "    Zachary,\n",
    "]"
   ]
  },
  {
   "cell_type": "code",
   "execution_count": 13,
   "id": "27369f48",
   "metadata": {},
   "outputs": [],
   "source": [
    "#people = [\n",
    "#    Aden, Giselle, Jackie, Stephen, Zackary\n",
    "#]"
   ]
  },
  {
   "cell_type": "code",
   "execution_count": 14,
   "id": "a42c1d7e",
   "metadata": {},
   "outputs": [
    {
     "data": {
      "text/plain": [
       "[Two(1..5), Three(1..5), Four(1..5), Five(1..5), Six(1..5)]"
      ]
     },
     "execution_count": 14,
     "metadata": {},
     "output_type": "execute_result"
    }
   ],
   "source": [
    "\n",
    "Two = model.new_int_var(1, 5, \"Two\")\n",
    "Three = model.new_int_var(1, 5, \"Three\")\n",
    "Four = model.new_int_var(1, 5, \"Four\")\n",
    "Five = model.new_int_var(1, 5, \"Five\")\n",
    "Six = model.new_int_var(1, 5, \"Six\")\n",
    "\n",
    "Number = [\n",
    "    Two ,\n",
    "    Three,\n",
    "    Four,\n",
    "    Five,\n",
    "    Six,\n",
    "]\n",
    "\n",
    "Number"
   ]
  },
  {
   "cell_type": "code",
   "execution_count": 15,
   "id": "3897c4e9",
   "metadata": {},
   "outputs": [
    {
     "data": {
      "text/plain": [
       "[Crusher(1..5), Destroyer(1..5), Mangler(1..5), Trasher(1..5), Wrecker(1..5)]"
      ]
     },
     "execution_count": 15,
     "metadata": {},
     "output_type": "execute_result"
    }
   ],
   "source": [
    "\n",
    "Crusher = model.new_int_var(1, 5, \"Crusher\")\n",
    "Destroyer = model.new_int_var(1, 5, \"Destroyer\")\n",
    "Mangler = model.new_int_var(1, 5, \"Mangler\")\n",
    "Trasher = model.new_int_var(1, 5, \"Trasher\")\n",
    "Wrecker = model.new_int_var(1, 5, \"Wrecker\")\n",
    "\n",
    "\n",
    "Robots = [\n",
    "    Crusher ,\n",
    "    Destroyer,\n",
    "    Mangler,\n",
    "    Trasher,\n",
    "    Wrecker,\n",
    "]\n",
    "\n",
    "Robots"
   ]
  },
  {
   "cell_type": "code",
   "execution_count": 16,
   "id": "57328615",
   "metadata": {},
   "outputs": [
    {
     "data": {
      "text/plain": [
       "[AAAA(1..5),\n",
       " AAA(1..5),\n",
       " AA(1..5),\n",
       " C(1..5),\n",
       " D(1..5),\n",
       " Aden(1..5),\n",
       " Giselle(1..5),\n",
       " Jackie(1..5),\n",
       " Stephen(1..5),\n",
       " Zachary(1..5),\n",
       " Two(1..5),\n",
       " Three(1..5),\n",
       " Four(1..5),\n",
       " Five(1..5),\n",
       " Six(1..5),\n",
       " Crusher(1..5),\n",
       " Destroyer(1..5),\n",
       " Mangler(1..5),\n",
       " Trasher(1..5),\n",
       " Wrecker(1..5)]"
      ]
     },
     "execution_count": 16,
     "metadata": {},
     "output_type": "execute_result"
    }
   ],
   "source": [
    "all_the_variables = (\n",
    "    Types +\n",
    "    Builders + \n",
    "    Number + \n",
    "    Robots\n",
    ")\n",
    "all_the_variables"
   ]
  },
  {
   "cell_type": "code",
   "execution_count": 17,
   "id": "a2a70d04",
   "metadata": {},
   "outputs": [],
   "source": [
    "#all_the_variables_plus += all_the_variables\n"
   ]
  },
  {
   "cell_type": "code",
   "execution_count": null,
   "id": "b051be2d-07bc-430f-9898-f7af23e2279e",
   "metadata": {},
   "outputs": [],
   "source": []
  },
  {
   "cell_type": "code",
   "execution_count": 18,
   "id": "bb29cb3a",
   "metadata": {},
   "outputs": [
    {
     "data": {
      "text/plain": [
       "AAAA(1..5)"
      ]
     },
     "execution_count": 18,
     "metadata": {},
     "output_type": "execute_result"
    }
   ],
   "source": [
    "all_the_variables[0]"
   ]
  },
  {
   "cell_type": "code",
   "execution_count": 19,
   "id": "9057df8f",
   "metadata": {},
   "outputs": [],
   "source": [
    "# Create a solver and solve.\n",
    "#solver = cp_model.CpSolver()\n",
    "solution_printer = cp_model.VarArraySolutionPrinter(\n",
    "    all_the_variables\n",
    ")\n"
   ]
  },
  {
   "cell_type": "code",
   "execution_count": 20,
   "id": "9c58940e",
   "metadata": {},
   "outputs": [
    {
     "data": {
      "text/plain": [
       "<ortools.sat.python.cp_model.Constraint at 0x1fcca46f950>"
      ]
     },
     "execution_count": 20,
     "metadata": {},
     "output_type": "execute_result"
    }
   ],
   "source": [
    "model.add_all_different(Types)"
   ]
  },
  {
   "cell_type": "code",
   "execution_count": 21,
   "id": "5a0d15e2",
   "metadata": {},
   "outputs": [
    {
     "data": {
      "text/plain": [
       "<ortools.sat.python.cp_model.Constraint at 0x1fcca4be450>"
      ]
     },
     "execution_count": 21,
     "metadata": {},
     "output_type": "execute_result"
    }
   ],
   "source": [
    "#model.add_all_different(Types)\n",
    "model.add_all_different(Builders)\n",
    "model.add_all_different(Number)\n",
    "model.add_all_different(Robots)\n"
   ]
  },
  {
   "cell_type": "code",
   "execution_count": 22,
   "id": "b67c522c-5328-4569-8ada-90568eaaee74",
   "metadata": {},
   "outputs": [
    {
     "data": {
      "text/plain": [
       "<ortools.sat.python.cp_model.Constraint at 0x1fcca4bf320>"
      ]
     },
     "execution_count": 22,
     "metadata": {},
     "output_type": "execute_result"
    }
   ],
   "source": [
    "# setting the rows by battery type\n",
    "\n",
    "model.Add (AAAA_type == 1)\n",
    "model.Add (AAA_type == 2)\n",
    "model.Add (AA_type == 3)\n",
    "model.Add (C_type == 4)\n",
    "model.Add (D_type == 5)\n"
   ]
  },
  {
   "cell_type": "code",
   "execution_count": 23,
   "id": "12cd5fa2",
   "metadata": {},
   "outputs": [
    {
     "data": {
      "text/plain": [
       "<ortools.sat.python.cp_model.Constraint at 0x1fcca4d8920>"
      ]
     },
     "execution_count": 23,
     "metadata": {},
     "output_type": "execute_result"
    }
   ],
   "source": [
    "# statement #1\n",
    "\n",
    "model.add_all_different(\n",
    "    Trasher,\n",
    "    Aden,\n",
    "    AAAA_type,\n",
    "    Destroyer,\n",
    "    Five\n",
    ")\n",
    "\n",
    "\n",
    "# trasher not Jackie\n",
    "\n",
    "model.add_all_different(\n",
    "    Trasher,\n",
    "    Jackie\n",
    ")\n",
    "\n"
   ]
  },
  {
   "cell_type": "code",
   "execution_count": 24,
   "id": "b178c536",
   "metadata": {},
   "outputs": [
    {
     "data": {
      "text/plain": [
       "<ortools.sat.python.cp_model.Constraint at 0x1fcca4d8c20>"
      ]
     },
     "execution_count": 24,
     "metadata": {},
     "output_type": "execute_result"
    }
   ],
   "source": [
    "# statement 2.\n",
    "\n",
    "model.add_all_different(\n",
    "    Giselle,\n",
    "    D_type\n",
    ")"
   ]
  },
  {
   "cell_type": "code",
   "execution_count": 25,
   "id": "a88aa86d",
   "metadata": {},
   "outputs": [
    {
     "data": {
      "text/plain": [
       "<ortools.sat.python.cp_model.Constraint at 0x1fcca4d8230>"
      ]
     },
     "execution_count": 25,
     "metadata": {},
     "output_type": "execute_result"
    }
   ],
   "source": [
    "# statement 3.\n",
    "\n",
    "model.add(Three == AA_type)\n",
    "\n"
   ]
  },
  {
   "cell_type": "code",
   "execution_count": 26,
   "id": "c2472574",
   "metadata": {},
   "outputs": [
    {
     "data": {
      "text/plain": [
       "<ortools.sat.python.cp_model.Constraint at 0x1fcca4d91c0>"
      ]
     },
     "execution_count": 26,
     "metadata": {},
     "output_type": "execute_result"
    }
   ],
   "source": [
    "# statement 4.\n",
    "\n",
    "model.add_all_different(\n",
    "    Wrecker,\n",
    "    Jackie\n",
    "\n",
    ")\n",
    "model.add_all_different(\n",
    "    D_type,\n",
    "    Three\n",
    "\n",
    ")"
   ]
  },
  {
   "cell_type": "code",
   "execution_count": null,
   "id": "e60c7413-2a8f-442f-9c58-c85288dd5d52",
   "metadata": {},
   "outputs": [],
   "source": []
  },
  {
   "cell_type": "code",
   "execution_count": 27,
   "id": "762072df-98a2-4935-86e5-accd7b3bdfc6",
   "metadata": {},
   "outputs": [
    {
     "data": {
      "text/plain": [
       "Wrecker_is_D_type(0..1)"
      ]
     },
     "execution_count": 27,
     "metadata": {},
     "output_type": "execute_result"
    }
   ],
   "source": [
    "# statement 4a\n",
    "## Wrecker or Jackie ran on D batteries\n",
    "## Wrecker or Jackie ran on Three batteries\n",
    "\n",
    "Wrecker_is_D_type =  model.new_bool_var(\"Wrecker_is_D_type\")\n",
    "\n",
    "model.Add(Wrecker == D_type).OnlyEnforceIf(Wrecker_is_D_type )\n",
    "model.Add(Wrecker != D_type).OnlyEnforceIf(~Wrecker_is_D_type)\n",
    "\n",
    "#Wrecker_is_D_type = (Wrecker == D_type)\n",
    "Wrecker_is_D_type"
   ]
  },
  {
   "cell_type": "code",
   "execution_count": 28,
   "id": "c8523547-49c8-4270-b087-4488059b3df1",
   "metadata": {},
   "outputs": [
    {
     "data": {
      "text/plain": [
       "Wrecker_is_Three(0..1)"
      ]
     },
     "execution_count": 28,
     "metadata": {},
     "output_type": "execute_result"
    }
   ],
   "source": [
    "# statement 4aa\n",
    "## Wrecker or Jackie ran on D batteries\n",
    "## Wrecker or Jackie ran on Three batteries\n",
    "\n",
    "Wrecker_is_Three =  model.new_bool_var(\"Wrecker_is_Three\")\n",
    "\n",
    "model.Add(Wrecker == Three).OnlyEnforceIf(Wrecker_is_Three )\n",
    "model.Add(Wrecker != Three).OnlyEnforceIf(~Wrecker_is_Three)\n",
    "\n",
    "#Wrecker_is_D_type = (Wrecker == D_type)\n",
    "Wrecker_is_Three"
   ]
  },
  {
   "cell_type": "code",
   "execution_count": 29,
   "id": "68a689ee-3984-43f5-96a8-bd97a6161b22",
   "metadata": {},
   "outputs": [
    {
     "data": {
      "text/plain": [
       "Jackie_is_D_type(0..1)"
      ]
     },
     "execution_count": 29,
     "metadata": {},
     "output_type": "execute_result"
    }
   ],
   "source": [
    "# statement 4b\n",
    "## Wrecker or Jackie ran on D batteries\n",
    "## Wrecker or Jackie ran on Three batteries\n",
    "\n",
    "Jackie_is_D_type =  model.new_bool_var(\"Jackie_is_D_type\")\n",
    "\n",
    "model.Add(Jackie == D_type).OnlyEnforceIf(Jackie_is_D_type)\n",
    "model.Add(Jackie != D_type).OnlyEnforceIf(~Jackie_is_D_type)\n",
    "Jackie_is_D_type"
   ]
  },
  {
   "cell_type": "code",
   "execution_count": 30,
   "id": "ed2c35df-0b57-4e5a-9227-dd7f808a040a",
   "metadata": {},
   "outputs": [
    {
     "data": {
      "text/plain": [
       "Jackie_is_Three(0..1)"
      ]
     },
     "execution_count": 30,
     "metadata": {},
     "output_type": "execute_result"
    }
   ],
   "source": [
    "# statement 4b\n",
    "## Wrecker or Jackie ran on D batteries\n",
    "## Wrecker or Jackie ran on Three batteries\n",
    "\n",
    "Jackie_is_Three =  model.new_bool_var(\"Jackie_is_Three\")\n",
    "\n",
    "model.Add(Jackie == Three).OnlyEnforceIf(Jackie_is_Three)\n",
    "model.Add(Jackie != Three).OnlyEnforceIf(~Jackie_is_Three)\n",
    "Jackie_is_Three\n"
   ]
  },
  {
   "cell_type": "code",
   "execution_count": null,
   "id": "e9668b66-6a0f-4a15-8612-0d09dd82762f",
   "metadata": {},
   "outputs": [],
   "source": []
  },
  {
   "cell_type": "code",
   "execution_count": 31,
   "id": "32b63c1f-5c1b-4c2f-aa05-973b05da76b3",
   "metadata": {},
   "outputs": [
    {
     "data": {
      "text/plain": [
       "<ortools.sat.python.cp_model.Constraint at 0x1fcbb201400>"
      ]
     },
     "execution_count": 31,
     "metadata": {},
     "output_type": "execute_result"
    }
   ],
   "source": [
    "\n",
    "model.AddBoolXOr([Wrecker_is_D_type, Jackie_is_D_type])\n",
    "model.AddBoolXOr([Jackie_is_Three, Jackie_is_D_type])\n",
    "model.AddBoolXOr([Wrecker_is_D_type, Wrecker_is_Three])"
   ]
  },
  {
   "cell_type": "code",
   "execution_count": 42,
   "id": "cf176cdb-c34a-4311-a711-3f99011375a4",
   "metadata": {},
   "outputs": [
    {
     "data": {
      "text/plain": [
       "<ortools.sat.python.cp_model.Constraint at 0x1fcca4bd010>"
      ]
     },
     "execution_count": 42,
     "metadata": {},
     "output_type": "execute_result"
    }
   ],
   "source": [
    "# statement 5.\n",
    "\n",
    "model.add_all_different(\n",
    "    Zachary,\n",
    "    Mangler,\n",
    "    Five,\n",
    "    AA_type,\n",
    "    C_type\n",
    ")"
   ]
  },
  {
   "cell_type": "code",
   "execution_count": 43,
   "id": "af880c72-bfe5-4852-a1ea-3e819256ee1e",
   "metadata": {},
   "outputs": [
    {
     "data": {
      "text/plain": [
       "<ortools.sat.python.cp_model.Constraint at 0x1fcca4f2120>"
      ]
     },
     "execution_count": 43,
     "metadata": {},
     "output_type": "execute_result"
    }
   ],
   "source": [
    "# statement 6.\n",
    "\n",
    "model.add_all_different(\n",
    "    Trasher,\n",
    "    Four\n",
    ")"
   ]
  },
  {
   "cell_type": "code",
   "execution_count": 44,
   "id": "10431ff5-369b-4164-b997-d3f29ca71c49",
   "metadata": {},
   "outputs": [
    {
     "data": {
      "text/plain": [
       "<ortools.sat.python.cp_model.Constraint at 0x1fcca4f0230>"
      ]
     },
     "execution_count": 44,
     "metadata": {},
     "output_type": "execute_result"
    }
   ],
   "source": [
    "# statement 7.\n",
    "\n",
    "model.Add (Giselle > Jackie)\n",
    "\n",
    "\n"
   ]
  },
  {
   "cell_type": "code",
   "execution_count": 45,
   "id": "ce093187-a86f-4faa-a67a-899c9d73e446",
   "metadata": {},
   "outputs": [
    {
     "data": {
      "text/plain": [
       "<ortools.sat.python.cp_model.Constraint at 0x1fcca4da270>"
      ]
     },
     "execution_count": 45,
     "metadata": {},
     "output_type": "execute_result"
    }
   ],
   "source": [
    "# statement 8.\n",
    "\n",
    "model.add_all_different(\n",
    "    Two,\n",
    "    C_type\n",
    ")"
   ]
  },
  {
   "cell_type": "code",
   "execution_count": 46,
   "id": "2bf44a5e-956f-4f3b-a428-11602a9c82a7",
   "metadata": {},
   "outputs": [
    {
     "data": {
      "text/plain": [
       "<ortools.sat.python.cp_model.Constraint at 0x1fcca4f2b10>"
      ]
     },
     "execution_count": 46,
     "metadata": {},
     "output_type": "execute_result"
    }
   ],
   "source": [
    "# statement 9.\n",
    "\n",
    "model.add_all_different(\n",
    "    Four,\n",
    "    AAA_type\n",
    ")"
   ]
  },
  {
   "cell_type": "code",
   "execution_count": null,
   "id": "931289ed-46a2-40a5-ad03-f8c7ef173f81",
   "metadata": {},
   "outputs": [],
   "source": []
  },
  {
   "cell_type": "code",
   "execution_count": null,
   "id": "f8931870-03b7-45eb-85e2-40ae7306cc4e",
   "metadata": {},
   "outputs": [],
   "source": []
  },
  {
   "cell_type": "code",
   "execution_count": null,
   "id": "4bd644a2-0a4a-4ece-a8f1-fe7ce6baafea",
   "metadata": {},
   "outputs": [],
   "source": []
  },
  {
   "cell_type": "code",
   "execution_count": 47,
   "id": "b2c1b50c-8381-465b-ba43-9ad4bd3f5537",
   "metadata": {},
   "outputs": [],
   "source": [
    "### print out solutions"
   ]
  },
  {
   "cell_type": "code",
   "execution_count": 48,
   "id": "3f48fdbe-eecd-4cd9-a1e5-f5173e7a55fe",
   "metadata": {},
   "outputs": [],
   "source": [
    "# Solve and print out the solution.\n",
    "solver = cp_model.CpSolver()\n",
    "#status = solver.solve(model)\n",
    "#status = solver.SearchForAllSolutions(model, solution_printer)"
   ]
  },
  {
   "cell_type": "code",
   "execution_count": 49,
   "id": "e58aceff-14c5-41ff-aa33-0ad0af98dfad",
   "metadata": {},
   "outputs": [
    {
     "data": {
      "text/plain": [
       "4"
      ]
     },
     "execution_count": 49,
     "metadata": {},
     "output_type": "execute_result"
    }
   ],
   "source": [
    "#solution_collector = VarArraySolutionCollector(  all_the_variables  )\n",
    "\n",
    "\n",
    "solution_collector = VarArraySolutionCollector(  all_the_variables + [\n",
    "    Wrecker_is_D_type,\n",
    "    Wrecker_is_Three,\n",
    "    Jackie_is_D_type,\n",
    "    Jackie_is_Three\n",
    "] )\n",
    "\n",
    "\n",
    "solver.SearchForAllSolutions(model, solution_collector)"
   ]
  },
  {
   "cell_type": "code",
   "execution_count": 50,
   "id": "789fe540-dddd-4918-b40a-60a89ef2cf62",
   "metadata": {},
   "outputs": [
    {
     "data": {
      "text/plain": [
       "1"
      ]
     },
     "execution_count": 50,
     "metadata": {},
     "output_type": "execute_result"
    }
   ],
   "source": [
    "len(solution_collector.solution_list)"
   ]
  },
  {
   "cell_type": "code",
   "execution_count": 51,
   "id": "34efc0d3-afc8-4278-9fa5-146c2c7634f7",
   "metadata": {},
   "outputs": [
    {
     "name": "stdout",
     "output_type": "stream",
     "text": [
      "AAAA,AAA,AA,C,D,Aden,Giselle,Jackie,Stephen,Zachary,Two,Three,Four,Five,Six,Crusher,Destroyer,Mangler,Trasher,Wrecker,Wrecker_is_D_type,Wrecker_is_Three,Jackie_is_D_type,Jackie_is_Three,\n"
     ]
    }
   ],
   "source": [
    "solution_collector.print_headers()"
   ]
  },
  {
   "cell_type": "code",
   "execution_count": 52,
   "id": "cc817046-5333-4045-9b9e-d51923dac600",
   "metadata": {},
   "outputs": [
    {
     "data": {
      "text/plain": [
       "['AAAA',\n",
       " 'AAA',\n",
       " 'AA',\n",
       " 'C',\n",
       " 'D',\n",
       " 'Aden',\n",
       " 'Giselle',\n",
       " 'Jackie',\n",
       " 'Stephen',\n",
       " 'Zachary',\n",
       " 'Two',\n",
       " 'Three',\n",
       " 'Four',\n",
       " 'Five',\n",
       " 'Six',\n",
       " 'Crusher',\n",
       " 'Destroyer',\n",
       " 'Mangler',\n",
       " 'Trasher',\n",
       " 'Wrecker',\n",
       " 'Wrecker_is_D_type',\n",
       " 'Wrecker_is_Three',\n",
       " 'Jackie_is_D_type',\n",
       " 'Jackie_is_Three']"
      ]
     },
     "execution_count": 52,
     "metadata": {},
     "output_type": "execute_result"
    }
   ],
   "source": [
    "solution_collector.list_of_headers()\n"
   ]
  },
  {
   "cell_type": "code",
   "execution_count": null,
   "id": "eaf0c04e-6a9a-4f6c-9830-925379c6759f",
   "metadata": {},
   "outputs": [],
   "source": []
  },
  {
   "cell_type": "code",
   "execution_count": 53,
   "id": "66e51680",
   "metadata": {},
   "outputs": [
    {
     "data": {
      "text/html": [
       "<div>\n",
       "<style scoped>\n",
       "    .dataframe tbody tr th:only-of-type {\n",
       "        vertical-align: middle;\n",
       "    }\n",
       "\n",
       "    .dataframe tbody tr th {\n",
       "        vertical-align: top;\n",
       "    }\n",
       "\n",
       "    .dataframe thead th {\n",
       "        text-align: right;\n",
       "    }\n",
       "</style>\n",
       "<table border=\"1\" class=\"dataframe\">\n",
       "  <thead>\n",
       "    <tr style=\"text-align: right;\">\n",
       "      <th></th>\n",
       "      <th>AAAA</th>\n",
       "      <th>AAA</th>\n",
       "      <th>AA</th>\n",
       "      <th>C</th>\n",
       "      <th>D</th>\n",
       "      <th>Aden</th>\n",
       "      <th>Giselle</th>\n",
       "      <th>Jackie</th>\n",
       "      <th>Stephen</th>\n",
       "      <th>Zachary</th>\n",
       "      <th>Two</th>\n",
       "      <th>Three</th>\n",
       "      <th>Four</th>\n",
       "      <th>Five</th>\n",
       "      <th>Six</th>\n",
       "      <th>Crusher</th>\n",
       "      <th>Destroyer</th>\n",
       "      <th>Mangler</th>\n",
       "      <th>Trasher</th>\n",
       "      <th>Wrecker</th>\n",
       "      <th>Wrecker_is_D_type</th>\n",
       "      <th>Wrecker_is_Three</th>\n",
       "      <th>Jackie_is_D_type</th>\n",
       "      <th>Jackie_is_Three</th>\n",
       "    </tr>\n",
       "  </thead>\n",
       "  <tbody>\n",
       "    <tr>\n",
       "      <th>0</th>\n",
       "      <td>1</td>\n",
       "      <td>2</td>\n",
       "      <td>3</td>\n",
       "      <td>4</td>\n",
       "      <td>5</td>\n",
       "      <td>2</td>\n",
       "      <td>4</td>\n",
       "      <td>3</td>\n",
       "      <td>5</td>\n",
       "      <td>1</td>\n",
       "      <td>2</td>\n",
       "      <td>3</td>\n",
       "      <td>1</td>\n",
       "      <td>5</td>\n",
       "      <td>4</td>\n",
       "      <td>1</td>\n",
       "      <td>3</td>\n",
       "      <td>2</td>\n",
       "      <td>4</td>\n",
       "      <td>5</td>\n",
       "      <td>1</td>\n",
       "      <td>0</td>\n",
       "      <td>0</td>\n",
       "      <td>1</td>\n",
       "    </tr>\n",
       "  </tbody>\n",
       "</table>\n",
       "</div>"
      ],
      "text/plain": [
       "   AAAA  AAA  AA  C  D  Aden  Giselle  Jackie  Stephen  Zachary  Two  Three  \\\n",
       "0     1    2   3  4  5     2        4       3        5        1    2      3   \n",
       "\n",
       "   Four  Five  Six  Crusher  Destroyer  Mangler  Trasher  Wrecker  \\\n",
       "0     1     5    4        1          3        2        4        5   \n",
       "\n",
       "   Wrecker_is_D_type  Wrecker_is_Three  Jackie_is_D_type  Jackie_is_Three  \n",
       "0                  1                 0                 0                1  "
      ]
     },
     "execution_count": 53,
     "metadata": {},
     "output_type": "execute_result"
    }
   ],
   "source": [
    "\n",
    "\n",
    "solutions_df = pd.DataFrame(\n",
    "    data = solution_collector.solution_list,\n",
    "    columns = solution_collector.list_of_headers()\n",
    "    \n",
    ")\n",
    "solutions_df.shape\n",
    "\n",
    "solutions_df"
   ]
  },
  {
   "cell_type": "code",
   "execution_count": 54,
   "id": "d962ea43-2574-49b0-877e-77c00da36016",
   "metadata": {},
   "outputs": [
    {
     "data": {
      "text/html": [
       "<div>\n",
       "<style scoped>\n",
       "    .dataframe tbody tr th:only-of-type {\n",
       "        vertical-align: middle;\n",
       "    }\n",
       "\n",
       "    .dataframe tbody tr th {\n",
       "        vertical-align: top;\n",
       "    }\n",
       "\n",
       "    .dataframe thead th {\n",
       "        text-align: right;\n",
       "    }\n",
       "</style>\n",
       "<table border=\"1\" class=\"dataframe\">\n",
       "  <thead>\n",
       "    <tr style=\"text-align: right;\">\n",
       "      <th></th>\n",
       "      <th>AAAA</th>\n",
       "      <th>AAA</th>\n",
       "      <th>AA</th>\n",
       "      <th>C</th>\n",
       "      <th>D</th>\n",
       "      <th>Aden</th>\n",
       "      <th>Giselle</th>\n",
       "      <th>Jackie</th>\n",
       "      <th>Stephen</th>\n",
       "      <th>Zachary</th>\n",
       "      <th>Two</th>\n",
       "      <th>Three</th>\n",
       "      <th>Four</th>\n",
       "      <th>Five</th>\n",
       "      <th>Six</th>\n",
       "      <th>Crusher</th>\n",
       "      <th>Destroyer</th>\n",
       "      <th>Mangler</th>\n",
       "      <th>Trasher</th>\n",
       "      <th>Wrecker</th>\n",
       "      <th>Wrecker_is_D_type</th>\n",
       "      <th>Wrecker_is_Three</th>\n",
       "      <th>Jackie_is_D_type</th>\n",
       "      <th>Jackie_is_Three</th>\n",
       "    </tr>\n",
       "  </thead>\n",
       "  <tbody>\n",
       "    <tr>\n",
       "      <th>0</th>\n",
       "      <td>1</td>\n",
       "      <td>2</td>\n",
       "      <td>3</td>\n",
       "      <td>4</td>\n",
       "      <td>5</td>\n",
       "      <td>2</td>\n",
       "      <td>4</td>\n",
       "      <td>3</td>\n",
       "      <td>5</td>\n",
       "      <td>1</td>\n",
       "      <td>2</td>\n",
       "      <td>3</td>\n",
       "      <td>1</td>\n",
       "      <td>5</td>\n",
       "      <td>4</td>\n",
       "      <td>1</td>\n",
       "      <td>3</td>\n",
       "      <td>2</td>\n",
       "      <td>4</td>\n",
       "      <td>5</td>\n",
       "      <td>1</td>\n",
       "      <td>0</td>\n",
       "      <td>0</td>\n",
       "      <td>1</td>\n",
       "    </tr>\n",
       "  </tbody>\n",
       "</table>\n",
       "</div>"
      ],
      "text/plain": [
       "   AAAA  AAA  AA  C  D  Aden  Giselle  Jackie  Stephen  Zachary  Two  Three  \\\n",
       "0     1    2   3  4  5     2        4       3        5        1    2      3   \n",
       "\n",
       "   Four  Five  Six  Crusher  Destroyer  Mangler  Trasher  Wrecker  \\\n",
       "0     1     5    4        1          3        2        4        5   \n",
       "\n",
       "   Wrecker_is_D_type  Wrecker_is_Three  Jackie_is_D_type  Jackie_is_Three  \n",
       "0                  1                 0                 0                1  "
      ]
     },
     "execution_count": 54,
     "metadata": {},
     "output_type": "execute_result"
    }
   ],
   "source": [
    "solutions_df[solutions_df['Wrecker'] == solutions_df['D']]"
   ]
  },
  {
   "cell_type": "code",
   "execution_count": 55,
   "id": "19650e30-00d5-4fbc-b019-5141c7a22cad",
   "metadata": {},
   "outputs": [
    {
     "data": {
      "text/html": [
       "<div>\n",
       "<style scoped>\n",
       "    .dataframe tbody tr th:only-of-type {\n",
       "        vertical-align: middle;\n",
       "    }\n",
       "\n",
       "    .dataframe tbody tr th {\n",
       "        vertical-align: top;\n",
       "    }\n",
       "\n",
       "    .dataframe thead th {\n",
       "        text-align: right;\n",
       "    }\n",
       "</style>\n",
       "<table border=\"1\" class=\"dataframe\">\n",
       "  <thead>\n",
       "    <tr style=\"text-align: right;\">\n",
       "      <th></th>\n",
       "      <th>D</th>\n",
       "      <th>Jackie</th>\n",
       "      <th>Three</th>\n",
       "      <th>Wrecker</th>\n",
       "      <th>Wrecker_is_D_type</th>\n",
       "      <th>Wrecker_is_Three</th>\n",
       "      <th>Jackie_is_D_type</th>\n",
       "      <th>Jackie_is_Three</th>\n",
       "    </tr>\n",
       "  </thead>\n",
       "  <tbody>\n",
       "    <tr>\n",
       "      <th>0</th>\n",
       "      <td>5</td>\n",
       "      <td>3</td>\n",
       "      <td>3</td>\n",
       "      <td>5</td>\n",
       "      <td>1</td>\n",
       "      <td>0</td>\n",
       "      <td>0</td>\n",
       "      <td>1</td>\n",
       "    </tr>\n",
       "  </tbody>\n",
       "</table>\n",
       "</div>"
      ],
      "text/plain": [
       "   D  Jackie  Three  Wrecker  Wrecker_is_D_type  Wrecker_is_Three  \\\n",
       "0  5       3      3        5                  1                 0   \n",
       "\n",
       "   Jackie_is_D_type  Jackie_is_Three  \n",
       "0                 0                1  "
      ]
     },
     "execution_count": 55,
     "metadata": {},
     "output_type": "execute_result"
    }
   ],
   "source": [
    "solutions_df[['D','Jackie','Three','Wrecker','Wrecker_is_D_type',\t'Wrecker_is_Three',\t'Jackie_is_D_type',\t'Jackie_is_Three']]"
   ]
  },
  {
   "cell_type": "code",
   "execution_count": 56,
   "id": "8069d93f-e738-43b3-93f3-4fc50340170a",
   "metadata": {},
   "outputs": [
    {
     "ename": "ValueError",
     "evalue": "Cannot take a larger sample than population when 'replace=False'",
     "output_type": "error",
     "traceback": [
      "\u001b[1;31m---------------------------------------------------------------------------\u001b[0m",
      "\u001b[1;31mValueError\u001b[0m                                Traceback (most recent call last)",
      "Cell \u001b[1;32mIn[56], line 1\u001b[0m\n\u001b[1;32m----> 1\u001b[0m solutions_df\u001b[38;5;241m.\u001b[39msample(n\u001b[38;5;241m=\u001b[39m\u001b[38;5;241m8\u001b[39m)\n",
      "File \u001b[1;32m~\\anaconda3\\envs\\CP_SAT_2024_08_30\\Lib\\site-packages\\pandas\\core\\generic.py:6118\u001b[0m, in \u001b[0;36mNDFrame.sample\u001b[1;34m(self, n, frac, replace, weights, random_state, axis, ignore_index)\u001b[0m\n\u001b[0;32m   6115\u001b[0m \u001b[38;5;28;01mif\u001b[39;00m weights \u001b[38;5;129;01mis\u001b[39;00m \u001b[38;5;129;01mnot\u001b[39;00m \u001b[38;5;28;01mNone\u001b[39;00m:\n\u001b[0;32m   6116\u001b[0m     weights \u001b[38;5;241m=\u001b[39m sample\u001b[38;5;241m.\u001b[39mpreprocess_weights(\u001b[38;5;28mself\u001b[39m, weights, axis)\n\u001b[1;32m-> 6118\u001b[0m sampled_indices \u001b[38;5;241m=\u001b[39m sample\u001b[38;5;241m.\u001b[39msample(obj_len, size, replace, weights, rs)\n\u001b[0;32m   6119\u001b[0m result \u001b[38;5;241m=\u001b[39m \u001b[38;5;28mself\u001b[39m\u001b[38;5;241m.\u001b[39mtake(sampled_indices, axis\u001b[38;5;241m=\u001b[39maxis)\n\u001b[0;32m   6121\u001b[0m \u001b[38;5;28;01mif\u001b[39;00m ignore_index:\n",
      "File \u001b[1;32m~\\anaconda3\\envs\\CP_SAT_2024_08_30\\Lib\\site-packages\\pandas\\core\\sample.py:152\u001b[0m, in \u001b[0;36msample\u001b[1;34m(obj_len, size, replace, weights, random_state)\u001b[0m\n\u001b[0;32m    149\u001b[0m     \u001b[38;5;28;01melse\u001b[39;00m:\n\u001b[0;32m    150\u001b[0m         \u001b[38;5;28;01mraise\u001b[39;00m \u001b[38;5;167;01mValueError\u001b[39;00m(\u001b[38;5;124m\"\u001b[39m\u001b[38;5;124mInvalid weights: weights sum to zero\u001b[39m\u001b[38;5;124m\"\u001b[39m)\n\u001b[1;32m--> 152\u001b[0m \u001b[38;5;28;01mreturn\u001b[39;00m random_state\u001b[38;5;241m.\u001b[39mchoice(obj_len, size\u001b[38;5;241m=\u001b[39msize, replace\u001b[38;5;241m=\u001b[39mreplace, p\u001b[38;5;241m=\u001b[39mweights)\u001b[38;5;241m.\u001b[39mastype(\n\u001b[0;32m    153\u001b[0m     np\u001b[38;5;241m.\u001b[39mintp, copy\u001b[38;5;241m=\u001b[39m\u001b[38;5;28;01mFalse\u001b[39;00m\n\u001b[0;32m    154\u001b[0m )\n",
      "File \u001b[1;32mnumpy\\\\random\\\\mtrand.pyx:1024\u001b[0m, in \u001b[0;36mnumpy.random.mtrand.RandomState.choice\u001b[1;34m()\u001b[0m\n",
      "\u001b[1;31mValueError\u001b[0m: Cannot take a larger sample than population when 'replace=False'"
     ]
    }
   ],
   "source": [
    "solutions_df.sample(n=8)"
   ]
  },
  {
   "cell_type": "code",
   "execution_count": null,
   "id": "8603807e-dcf9-4a61-88e5-608fbfe5f4f9",
   "metadata": {},
   "outputs": [],
   "source": [
    "solutions_df.head()"
   ]
  },
  {
   "cell_type": "code",
   "execution_count": null,
   "id": "bde0ef7c-7cda-4621-96b3-15017cd70513",
   "metadata": {},
   "outputs": [],
   "source": [
    "## Scratchpad"
   ]
  },
  {
   "cell_type": "code",
   "execution_count": null,
   "id": "60cefced-1306-4052-8794-c3bedcefec35",
   "metadata": {},
   "outputs": [],
   "source": [
    "assert (False, \"scratch below here\")"
   ]
  },
  {
   "cell_type": "code",
   "execution_count": null,
   "id": "3f58b0df-f580-4c65-bd00-48be1a5acb73",
   "metadata": {},
   "outputs": [],
   "source": [
    "##  scratchpad below here"
   ]
  },
  {
   "cell_type": "code",
   "execution_count": null,
   "id": "4ed3cf6e",
   "metadata": {},
   "outputs": [],
   "source": [
    "#\n",
    "## comment out?\n",
    "#\n",
    "\n",
    "diff_fox_chesterfields = model.new_int_var(-4, 4, \"diff_fox_chesterfields\")\n",
    "model.add(diff_fox_chesterfields == fox - chesterfields)\n",
    "model.add_abs_equality(1, diff_fox_chesterfields)\n"
   ]
  },
  {
   "cell_type": "code",
   "execution_count": null,
   "id": "59231b09",
   "metadata": {},
   "outputs": [],
   "source": [
    "#\n",
    "## comment out\n",
    "#\n",
    "\n",
    "diff_horse_kools = model.new_int_var(-4, 4, \"diff_horse_kools\")\n",
    "model.add(diff_horse_kools == horse - kools)\n",
    "model.add_abs_equality(1, diff_horse_kools)"
   ]
  },
  {
   "cell_type": "code",
   "execution_count": null,
   "id": "8908aa5d",
   "metadata": {},
   "outputs": [],
   "source": [
    "#\n",
    "## comment out\n",
    "#\n",
    "\n",
    "#model.add(lucky_strike == fruit_juice)\n",
    "model.add(japanese == parliaments)"
   ]
  },
  {
   "cell_type": "code",
   "execution_count": null,
   "id": "37a7a4c6",
   "metadata": {},
   "outputs": [],
   "source": [
    "#\n",
    "## comment out\n",
    "#\n",
    "\n",
    "diff_norwegian_blue = model.new_int_var(-4, 4, \"diff_norwegian_blue\")\n",
    "model.add(diff_norwegian_blue == norwegian - blue)\n",
    "model.add_abs_equality(1, diff_norwegian_blue)\n"
   ]
  },
  {
   "cell_type": "code",
   "execution_count": null,
   "id": "66a7fb9d",
   "metadata": {
    "scrolled": true
   },
   "outputs": [],
   "source": [
    "# Solve and print out the solution.\n",
    "solver = cp_model.CpSolver()\n",
    "#status = solver.solve(model)\n",
    "#status = solver.SearchForAllSolutions(model, solution_printer)"
   ]
  },
  {
   "cell_type": "code",
   "execution_count": null,
   "id": "44db250c",
   "metadata": {},
   "outputs": [],
   "source": [
    "solution_collector = VarArraySolutionCollector(  all_the_variables  )\n",
    "solver.SearchForAllSolutions(model, solution_collector)"
   ]
  },
  {
   "cell_type": "code",
   "execution_count": null,
   "id": "ebd4f29d",
   "metadata": {},
   "outputs": [],
   "source": [
    "len(solution_collector.solution_list)"
   ]
  },
  {
   "cell_type": "code",
   "execution_count": null,
   "id": "8ee97af3",
   "metadata": {},
   "outputs": [],
   "source": [
    "solution_collector.print_headers()"
   ]
  },
  {
   "cell_type": "code",
   "execution_count": null,
   "id": "31475021",
   "metadata": {},
   "outputs": [],
   "source": [
    "solution_collector.list_of_headers()"
   ]
  },
  {
   "cell_type": "code",
   "execution_count": null,
   "id": "44094d2d-03a4-42bf-92e3-94882c822c0e",
   "metadata": {},
   "outputs": [],
   "source": []
  },
  {
   "cell_type": "code",
   "execution_count": null,
   "id": "19339d6f",
   "metadata": {},
   "outputs": [],
   "source": [
    "import pandas as pd"
   ]
  },
  {
   "cell_type": "code",
   "execution_count": null,
   "id": "e1b91dde",
   "metadata": {},
   "outputs": [],
   "source": [
    "solutions_df = pd.DataFrame(\n",
    "    data = solution_collector.solution_list,\n",
    "    columns = solution_collector.list_of_headers()\n",
    "    \n",
    ")\n",
    "solutions_df.shape"
   ]
  },
  {
   "cell_type": "code",
   "execution_count": null,
   "id": "2a1998cf",
   "metadata": {},
   "outputs": [],
   "source": [
    "solutions_df"
   ]
  },
  {
   "cell_type": "code",
   "execution_count": null,
   "id": "aac981e8",
   "metadata": {},
   "outputs": [],
   "source": [
    "solution_collector.solution_list"
   ]
  },
  {
   "cell_type": "code",
   "execution_count": null,
   "id": "ef2b73fc",
   "metadata": {},
   "outputs": [],
   "source": [
    "# print\n",
    "#  status = solver.SearchForAllSolutions(model, solution_printer)"
   ]
  },
  {
   "cell_type": "code",
   "execution_count": null,
   "id": "e773c682",
   "metadata": {},
   "outputs": [],
   "source": [
    "[p for p in people if solver.value(p) == solver.value(water)]"
   ]
  },
  {
   "cell_type": "code",
   "execution_count": null,
   "id": "5102dcb3",
   "metadata": {},
   "outputs": [],
   "source": []
  },
  {
   "cell_type": "code",
   "execution_count": null,
   "id": "2c943cf5",
   "metadata": {},
   "outputs": [],
   "source": []
  },
  {
   "cell_type": "code",
   "execution_count": null,
   "id": "c31a8d89",
   "metadata": {},
   "outputs": [],
   "source": []
  },
  {
   "cell_type": "code",
   "execution_count": null,
   "id": "44047a16",
   "metadata": {},
   "outputs": [],
   "source": [
    "[p for p in people if solver.value(p) == solver.value(zebra)]"
   ]
  },
  {
   "cell_type": "code",
   "execution_count": null,
   "id": "f46827f1",
   "metadata": {},
   "outputs": [],
   "source": [
    "\n",
    "water_drinker = [p for p in people if solver.value(p) == solver.value(water)][0]\n",
    "zebra_owner = [p for p in people if solver.value(p) == solver.value(zebra)][0]\n",
    "print(\"The\", water_drinker.name, \"drinks water.\")\n",
    "print(\"The\", zebra_owner.name, \"owns the zebra.\")\n"
   ]
  },
  {
   "cell_type": "code",
   "execution_count": null,
   "id": "cdbc6ad9",
   "metadata": {},
   "outputs": [],
   "source": []
  },
  {
   "cell_type": "code",
   "execution_count": null,
   "id": "65f914ae",
   "metadata": {},
   "outputs": [],
   "source": []
  },
  {
   "cell_type": "code",
   "execution_count": null,
   "id": "c34e1afc",
   "metadata": {},
   "outputs": [],
   "source": []
  },
  {
   "cell_type": "code",
   "execution_count": null,
   "id": "8e46d928",
   "metadata": {},
   "outputs": [],
   "source": [
    "model.add_all_different(red, green, yellow, blue, ivory)"
   ]
  },
  {
   "cell_type": "code",
   "execution_count": null,
   "id": "45eec57f",
   "metadata": {},
   "outputs": [],
   "source": [
    "solver = cp_model.CpSolver()\n",
    "status = solver.solve(model)"
   ]
  },
  {
   "cell_type": "code",
   "execution_count": null,
   "id": "6c64c054",
   "metadata": {},
   "outputs": [],
   "source": [
    "solver.value(water)"
   ]
  },
  {
   "cell_type": "code",
   "execution_count": null,
   "id": "baed6415",
   "metadata": {},
   "outputs": [],
   "source": [
    "status = solver.solve(model)\n",
    "status"
   ]
  },
  {
   "cell_type": "code",
   "execution_count": null,
   "id": "958b78c0",
   "metadata": {},
   "outputs": [],
   "source": [
    "people = [englishman, spaniard, japanese, ukrainian, norwegian]\n",
    "water_drinker = [p for p in people if solver.value(p) == solver.value(water)][0]\n",
    "\n"
   ]
  },
  {
   "cell_type": "code",
   "execution_count": null,
   "id": "b24ab1c9",
   "metadata": {},
   "outputs": [],
   "source": [
    "water_drinker = [p for p in people if solver.value(p) == solver.value(water)]\n",
    "print(water_drinker[0])\n",
    "water_drinker"
   ]
  },
  {
   "cell_type": "code",
   "execution_count": null,
   "id": "23d3a13b",
   "metadata": {},
   "outputs": [],
   "source": [
    "zebra_owner = [p for p in people if solver.value(p) == solver.value(zebra)]\n",
    "print(zebra_owner [0])\n",
    "zebra_owner "
   ]
  },
  {
   "cell_type": "code",
   "execution_count": null,
   "id": "1a2b65a9",
   "metadata": {},
   "outputs": [],
   "source": [
    "#print(\"The\", water_drinker.name, \"drinks water.\")\n",
    "#print(\"The\", zebra_owner.name, \"owns the zebra.\")"
   ]
  },
  {
   "cell_type": "code",
   "execution_count": null,
   "id": "ccb539ba",
   "metadata": {},
   "outputs": [],
   "source": [
    "red"
   ]
  },
  {
   "cell_type": "code",
   "execution_count": null,
   "id": "f7966b9a",
   "metadata": {},
   "outputs": [],
   "source": [
    "house_colors = [\n",
    "red ,\n",
    "green ,\n",
    "yellow ,\n",
    "blue ,\n",
    "ivory ,\n",
    "   \n",
    "]\n",
    "\n",
    "[(solver.value(color),color) for color in house_colors]"
   ]
  },
  {
   "cell_type": "code",
   "execution_count": null,
   "id": "7b597861",
   "metadata": {},
   "outputs": [],
   "source": [
    "people = [\n",
    "englishman,\n",
    "spaniard,\n",
    "japanese,\n",
    "ukrainian,\n",
    "norwegian,\n",
    "   \n",
    "]\n",
    "\n",
    "[(solver.value(person),person) for person in people]"
   ]
  },
  {
   "cell_type": "code",
   "execution_count": null,
   "id": "8e9950a2",
   "metadata": {},
   "outputs": [],
   "source": [
    "animals = [\n",
    "\n",
    "dog,\n",
    "snails,\n",
    "fox,\n",
    "zebra,\n",
    "horse,\n",
    "]\n",
    "\n",
    "[(solver.value(animal),animal) for animal in animals]\n"
   ]
  },
  {
   "cell_type": "code",
   "execution_count": null,
   "id": "ebf7c993",
   "metadata": {},
   "outputs": [],
   "source": [
    "drinks = [\n",
    "tea,\n",
    "coffee,\n",
    "water,\n",
    "milk,\n",
    "fruit_juice,\n",
    "    \n",
    "]\n",
    "\n",
    "[(solver.value(drink),drink) for drink in drinks]"
   ]
  },
  {
   "cell_type": "code",
   "execution_count": null,
   "id": "c38d9bba",
   "metadata": {},
   "outputs": [],
   "source": [
    "\n",
    "smokes = [\n",
    "\n",
    "old_gold,\n",
    "kools,\n",
    "chesterfields,\n",
    "lucky_strike,\n",
    "parliaments,\n",
    "\n",
    "]\n",
    "\n",
    "[(solver.value(smoke),smoke) for smoke in smokes]\n"
   ]
  },
  {
   "cell_type": "code",
   "execution_count": null,
   "id": "4b168492",
   "metadata": {},
   "outputs": [],
   "source": [
    "### "
   ]
  },
  {
   "cell_type": "code",
   "execution_count": null,
   "id": "c805c8f2",
   "metadata": {},
   "outputs": [],
   "source": [
    "from ortools.sat.python import cp_model\n",
    "\n",
    "model = cp_model.CpModel()\n",
    "solver = cp_model.CpSolver()\n",
    "\n",
    "\n",
    "a = model.NewBoolVar(\"\")\n",
    "b = model.NewBoolVar(\"\")\n",
    "c = model.NewBoolVar(\"\")\n",
    "model.AddBoolXOr([a, b, c, 1])\n",
    "\n",
    "solver.Solve(model)\n",
    "\n",
    "print([solver.Value(x) for x in (a, b, c)])"
   ]
  },
  {
   "cell_type": "code",
   "execution_count": null,
   "id": "95386dd4",
   "metadata": {},
   "outputs": [],
   "source": []
  },
  {
   "cell_type": "code",
   "execution_count": null,
   "id": "f3b050c5",
   "metadata": {},
   "outputs": [],
   "source": []
  },
  {
   "cell_type": "code",
   "execution_count": null,
   "id": "2ac9167e",
   "metadata": {},
   "outputs": [],
   "source": []
  },
  {
   "cell_type": "code",
   "execution_count": null,
   "id": "dda3fcc2",
   "metadata": {},
   "outputs": [],
   "source": []
  }
 ],
 "metadata": {
  "kernelspec": {
   "display_name": "Python 3 (ipykernel)",
   "language": "python",
   "name": "python3"
  },
  "language_info": {
   "codemirror_mode": {
    "name": "ipython",
    "version": 3
   },
   "file_extension": ".py",
   "mimetype": "text/x-python",
   "name": "python",
   "nbconvert_exporter": "python",
   "pygments_lexer": "ipython3",
   "version": "3.12.4"
  }
 },
 "nbformat": 4,
 "nbformat_minor": 5
}
