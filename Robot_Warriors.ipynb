{
 "cells": [
  {
   "cell_type": "code",
   "execution_count": 1,
   "id": "8038facb",
   "metadata": {},
   "outputs": [],
   "source": [
    "intent_2024_09_06 = \"\"\"\n",
    "\n",
    "solving \"robot warriors\" page 29 in the Puzzle Baron's logic puzzles book.\n",
    "\n",
    "There are 5 battery types:\n",
    "    \"AAAA\"\n",
    "    \"AAA\"\n",
    "    \"AA\"\n",
    "    \"C\n",
    "    \"D\"\n",
    "\n",
    "5 Builders:\n",
    "    \"Aden\"\n",
    "    \"Giselle\"\n",
    "    \"Jackie\"\n",
    "    \"Stephen\"\n",
    "    \"Zachary\"\n",
    "\n",
    "5 Numbers of batteries:\n",
    "    \"Two\"\n",
    "    \"Three\"\n",
    "    \"Four\"\n",
    "    \"Five\"\n",
    "    \"Six\"\n",
    "\n",
    "5 Different Robots:\n",
    "    \"Crusher\"\n",
    "    \"Destroyer\"\n",
    "    \"Mangler\"\n",
    "    \"Trasher\"\n",
    "    \"Wrecker\"\n",
    "\n",
    "\n",
    "The clues for the puzzle are given in 9 statements. \n",
    "\n",
    "# statement #1\n",
    "#\n",
    "# The five robots are Trasher (which isn't Jackie's robot), the one Aden built, \\\n",
    "#    the one that ran on the smallest batteries, Destroyer, and the one that \\\n",
    "#    required five batteries\n",
    "\n",
    "# statement 2.\n",
    "#\n",
    "# Giselle's robot didn't require the largest battery type\n",
    "\n",
    "# statement 3.\n",
    "#\n",
    "# One Robot ran three AA batteries\n",
    "\n",
    "# statement 4.\n",
    "#\n",
    "# Of Wrecker and Jackie's robot, one ran on D batteries and the other used \\\n",
    "#    three batteries\n",
    "\n",
    "# statement 5.\n",
    "#\n",
    "# The five builders are Zackery, the one who built Mangler, the one whose robot required \\\n",
    "#    five batteries, and the ones who built robots that used AA and C batteries\n",
    "\n",
    "# statement 6.\n",
    "#\n",
    "# Trasher didn't run on four batteries\n",
    "\n",
    "# statement 7.\n",
    "#\n",
    "# Giselle's robot used larger batteries than Jackie's\n",
    "\n",
    "# statement 8.\n",
    "#\n",
    "# The robot that required the fewest batteries didn't use C batteries\n",
    "\n",
    "# statement 9.\n",
    "#\n",
    "# The robot the required AAA batteries didn't use four of them. \n",
    "\n",
    "\n",
    "\n",
    "This is bit more difficult to solve googling around and using Kruple's book [https://github.com/d-krupke/cpsat-primer]\n",
    "\n",
    "It can be interesting to comment out some of the clues from the puzzle and see how many solutions remain \n",
    "\n",
    "\n",
    "\"\"\""
   ]
  },
  {
   "cell_type": "code",
   "execution_count": 2,
   "id": "dd404710",
   "metadata": {},
   "outputs": [],
   "source": [
    "from pprint import pprint"
   ]
  },
  {
   "cell_type": "code",
   "execution_count": 3,
   "id": "dee5fa86",
   "metadata": {},
   "outputs": [],
   "source": [
    "import pandas as pd\n",
    "\n",
    "pd.set_option('display.max_columns', 30)\n"
   ]
  },
  {
   "cell_type": "code",
   "execution_count": 4,
   "id": "9d0c1bb0",
   "metadata": {},
   "outputs": [],
   "source": [
    "from ortools.sat.python import cp_model"
   ]
  },
  {
   "cell_type": "code",
   "execution_count": 5,
   "id": "b3f2861e",
   "metadata": {},
   "outputs": [],
   "source": [
    "# \"\"\"Solves the robot warrior problem.\"\"\""
   ]
  },
  {
   "cell_type": "code",
   "execution_count": 6,
   "id": "8a2d5a83-7a6c-426d-aed4-d8a7b8a0e41f",
   "metadata": {},
   "outputs": [],
   "source": [
    "#\n",
    "# Maybe put an image of the puzzle here\n",
    "# "
   ]
  },
  {
   "cell_type": "code",
   "execution_count": 7,
   "id": "a11112b0",
   "metadata": {},
   "outputs": [],
   "source": [
    "# Create the model.\n",
    "model = cp_model.CpModel()\n"
   ]
  },
  {
   "cell_type": "code",
   "execution_count": 8,
   "id": "8109832a",
   "metadata": {},
   "outputs": [],
   "source": [
    "class VarArraySolutionCollector(cp_model.CpSolverSolutionCallback):\n",
    "\n",
    "    def __init__(self, variables):\n",
    "        cp_model.CpSolverSolutionCallback.__init__(self)\n",
    "        self.__variables = variables\n",
    "        self.solution_list = []\n",
    "\n",
    "    def on_solution_callback(self):\n",
    "        self.solution_list.append([self.Value(v) for v in self.__variables])\n",
    "\n",
    "    def print_headers(self):\n",
    "        for var in self.__variables:\n",
    "            print (f\"{var.name},\",end='')\n",
    "        print (\"\")\n",
    "\n",
    "    def list_of_headers(self):\n",
    "        return_list = [\n",
    "            str (var.name) \n",
    "            for \n",
    "            var in \n",
    "            self.__variables\n",
    "        ]\n",
    "        return return_list\n"
   ]
  },
  {
   "cell_type": "markdown",
   "id": "8e371415-78ba-471c-ab82-abe2838f0729",
   "metadata": {},
   "source": [
    "## set up standard format that is common for this style of logic puzzle"
   ]
  },
  {
   "cell_type": "code",
   "execution_count": 9,
   "id": "b84aa52d",
   "metadata": {},
   "outputs": [],
   "source": [
    "# 1 through 5 -- will use the battery sizes as the number "
   ]
  },
  {
   "cell_type": "code",
   "execution_count": 10,
   "id": "38d4dbc9",
   "metadata": {},
   "outputs": [],
   "source": [
    "    AAAA_type = model.new_int_var(1, 5, \"AAAA\")\n",
    "    AAA_type  = model.new_int_var(1, 5, \"AAA\")\n",
    "    AA_type  = model.new_int_var(1, 5, \"AA\")\n",
    "    C_type = model.new_int_var(1, 5, \"C\")\n",
    "    D_type  = model.new_int_var(1, 5, \"D\")\n",
    "\n",
    "\n",
    "Types = [\n",
    "    AAAA_type ,\n",
    "    AAA_type,\n",
    "    AA_type,\n",
    "    C_type,\n",
    "    D_type,\n",
    "]"
   ]
  },
  {
   "cell_type": "code",
   "execution_count": 11,
   "id": "08b0afa6",
   "metadata": {},
   "outputs": [],
   "source": [
    "\n",
    "Aden = model.new_int_var(1, 5, \"Aden\")\n",
    "Giselle = model.new_int_var(1, 5, \"Giselle\")\n",
    "Jackie= model.new_int_var(1, 5, \"Jackie\")\n",
    "Stephen = model.new_int_var(1, 5, \"Stephen\")\n",
    "Zachary = model.new_int_var(1, 5, \"Zachary\")\n",
    "\n",
    "Builders = [\n",
    "    Aden ,\n",
    "    Giselle,\n",
    "    Jackie,\n",
    "    Stephen,\n",
    "    Zachary,\n",
    "]"
   ]
  },
  {
   "cell_type": "code",
   "execution_count": 12,
   "id": "27369f48",
   "metadata": {},
   "outputs": [],
   "source": [
    "#people = [\n",
    "#    Aden, Giselle, Jackie, Stephen, Zackary\n",
    "#]"
   ]
  },
  {
   "cell_type": "code",
   "execution_count": 13,
   "id": "a42c1d7e",
   "metadata": {},
   "outputs": [
    {
     "data": {
      "text/plain": [
       "[Two(1..5), Three(1..5), Four(1..5), Five(1..5), Six(1..5)]"
      ]
     },
     "execution_count": 13,
     "metadata": {},
     "output_type": "execute_result"
    }
   ],
   "source": [
    "\n",
    "Two = model.new_int_var(1, 5, \"Two\")\n",
    "Three = model.new_int_var(1, 5, \"Three\")\n",
    "Four = model.new_int_var(1, 5, \"Four\")\n",
    "Five = model.new_int_var(1, 5, \"Five\")\n",
    "Six = model.new_int_var(1, 5, \"Six\")\n",
    "\n",
    "Number = [\n",
    "    Two ,\n",
    "    Three,\n",
    "    Four,\n",
    "    Five,\n",
    "    Six,\n",
    "]\n",
    "\n",
    "Number"
   ]
  },
  {
   "cell_type": "code",
   "execution_count": 14,
   "id": "3897c4e9",
   "metadata": {},
   "outputs": [
    {
     "data": {
      "text/plain": [
       "[Crusher(1..5), Destroyer(1..5), Mangler(1..5), Trasher(1..5), Wrecker(1..5)]"
      ]
     },
     "execution_count": 14,
     "metadata": {},
     "output_type": "execute_result"
    }
   ],
   "source": [
    "\n",
    "Crusher = model.new_int_var(1, 5, \"Crusher\")\n",
    "Destroyer = model.new_int_var(1, 5, \"Destroyer\")\n",
    "Mangler = model.new_int_var(1, 5, \"Mangler\")\n",
    "Trasher = model.new_int_var(1, 5, \"Trasher\")\n",
    "Wrecker = model.new_int_var(1, 5, \"Wrecker\")\n",
    "\n",
    "\n",
    "Robots = [\n",
    "    Crusher ,\n",
    "    Destroyer,\n",
    "    Mangler,\n",
    "    Trasher,\n",
    "    Wrecker,\n",
    "]\n",
    "\n",
    "Robots"
   ]
  },
  {
   "cell_type": "code",
   "execution_count": 15,
   "id": "57328615",
   "metadata": {},
   "outputs": [
    {
     "data": {
      "text/plain": [
       "[AAAA(1..5),\n",
       " AAA(1..5),\n",
       " AA(1..5),\n",
       " C(1..5),\n",
       " D(1..5),\n",
       " Aden(1..5),\n",
       " Giselle(1..5),\n",
       " Jackie(1..5),\n",
       " Stephen(1..5),\n",
       " Zachary(1..5),\n",
       " Two(1..5),\n",
       " Three(1..5),\n",
       " Four(1..5),\n",
       " Five(1..5),\n",
       " Six(1..5),\n",
       " Crusher(1..5),\n",
       " Destroyer(1..5),\n",
       " Mangler(1..5),\n",
       " Trasher(1..5),\n",
       " Wrecker(1..5)]"
      ]
     },
     "execution_count": 15,
     "metadata": {},
     "output_type": "execute_result"
    }
   ],
   "source": [
    "all_the_variables = (\n",
    "    Types +\n",
    "    Builders + \n",
    "    Number + \n",
    "    Robots\n",
    ")\n",
    "all_the_variables"
   ]
  },
  {
   "cell_type": "code",
   "execution_count": 16,
   "id": "a2a70d04",
   "metadata": {},
   "outputs": [],
   "source": [
    "#all_the_variables_plus += all_the_variables\n"
   ]
  },
  {
   "cell_type": "code",
   "execution_count": 17,
   "id": "9057df8f",
   "metadata": {},
   "outputs": [],
   "source": [
    "# Create a solver and solve.\n",
    "#solver = cp_model.CpSolver()\n",
    "solution_printer = cp_model.VarArraySolutionPrinter(\n",
    "    all_the_variables\n",
    ")\n"
   ]
  },
  {
   "cell_type": "code",
   "execution_count": 18,
   "id": "9c58940e",
   "metadata": {},
   "outputs": [
    {
     "data": {
      "text/plain": [
       "<ortools.sat.python.cp_model.Constraint at 0x1f0727e3080>"
      ]
     },
     "execution_count": 18,
     "metadata": {},
     "output_type": "execute_result"
    }
   ],
   "source": [
    "model.add_all_different(Types)"
   ]
  },
  {
   "cell_type": "code",
   "execution_count": 19,
   "id": "5a0d15e2",
   "metadata": {},
   "outputs": [
    {
     "data": {
      "text/plain": [
       "<ortools.sat.python.cp_model.Constraint at 0x1f072823aa0>"
      ]
     },
     "execution_count": 19,
     "metadata": {},
     "output_type": "execute_result"
    }
   ],
   "source": [
    "#model.add_all_different(Types)\n",
    "model.add_all_different(Builders)\n",
    "model.add_all_different(Number)\n",
    "model.add_all_different(Robots)\n"
   ]
  },
  {
   "cell_type": "code",
   "execution_count": 20,
   "id": "b67c522c-5328-4569-8ada-90568eaaee74",
   "metadata": {},
   "outputs": [
    {
     "data": {
      "text/plain": [
       "<ortools.sat.python.cp_model.Constraint at 0x1f072820260>"
      ]
     },
     "execution_count": 20,
     "metadata": {},
     "output_type": "execute_result"
    }
   ],
   "source": [
    "# setting the rows by battery type\n",
    "\n",
    "model.Add (AAAA_type == 1)\n",
    "model.Add (AAA_type == 2)\n",
    "model.Add (AA_type == 3)\n",
    "model.Add (C_type == 4)\n",
    "model.Add (D_type == 5)\n"
   ]
  },
  {
   "cell_type": "markdown",
   "id": "e28742a2-c87c-4a68-a125-aa1ffa0d20bd",
   "metadata": {},
   "source": [
    "## adding the clues that particular to this puzzle "
   ]
  },
  {
   "cell_type": "code",
   "execution_count": 21,
   "id": "12cd5fa2",
   "metadata": {},
   "outputs": [
    {
     "data": {
      "text/plain": [
       "<ortools.sat.python.cp_model.Constraint at 0x1f072823b30>"
      ]
     },
     "execution_count": 21,
     "metadata": {},
     "output_type": "execute_result"
    }
   ],
   "source": [
    "# statement #1\n",
    "\n",
    "# The five robots are Trasher (which isn't Jackie's robot), the one Aden built, \\\n",
    "#    the one that ran on the smallest batteries, Destroyer, and the one that \\\n",
    "#    required five batteries\n",
    "\n",
    "model.add_all_different(\n",
    "    Trasher,\n",
    "    Aden,\n",
    "    AAAA_type,\n",
    "    Destroyer,\n",
    "    Five\n",
    ")\n",
    "\n",
    "\n",
    "# trasher not Jackie\n",
    "\n",
    "model.add_all_different(\n",
    "    Trasher,\n",
    "    Jackie\n",
    ")\n",
    "\n"
   ]
  },
  {
   "cell_type": "code",
   "execution_count": 22,
   "id": "b178c536",
   "metadata": {},
   "outputs": [
    {
     "data": {
      "text/plain": [
       "<ortools.sat.python.cp_model.Constraint at 0x1f072823d70>"
      ]
     },
     "execution_count": 22,
     "metadata": {},
     "output_type": "execute_result"
    }
   ],
   "source": [
    "# statement 2.\n",
    "\n",
    "# Giselle's robot didn't require the largest battery type\n",
    "\n",
    "\n",
    "model.add_all_different(\n",
    "    Giselle,\n",
    "    D_type\n",
    ")"
   ]
  },
  {
   "cell_type": "code",
   "execution_count": 23,
   "id": "a88aa86d",
   "metadata": {},
   "outputs": [
    {
     "data": {
      "text/plain": [
       "<ortools.sat.python.cp_model.Constraint at 0x1f072823c50>"
      ]
     },
     "execution_count": 23,
     "metadata": {},
     "output_type": "execute_result"
    }
   ],
   "source": [
    "# statement 3.\n",
    "\n",
    "# One Robot ran three AA batteries\n",
    "\n",
    "model.add(Three == AA_type)\n",
    "\n"
   ]
  },
  {
   "cell_type": "code",
   "execution_count": 24,
   "id": "c2472574",
   "metadata": {},
   "outputs": [
    {
     "data": {
      "text/plain": [
       "<ortools.sat.python.cp_model.Constraint at 0x1f0728486b0>"
      ]
     },
     "execution_count": 24,
     "metadata": {},
     "output_type": "execute_result"
    }
   ],
   "source": [
    "# statement 4.\n",
    "\n",
    "# Of Wrecker and Jackie's robot, one ran on D batteries and the other used three batteries\n",
    "\n",
    "\n",
    "model.add_all_different(\n",
    "    Wrecker,\n",
    "    Jackie\n",
    "\n",
    ")\n",
    "model.add_all_different(\n",
    "    D_type,\n",
    "    Three\n",
    "\n",
    ")"
   ]
  },
  {
   "cell_type": "code",
   "execution_count": 25,
   "id": "e60c7413-2a8f-442f-9c58-c85288dd5d52",
   "metadata": {},
   "outputs": [],
   "source": [
    "# using the OnlyEnforceIf() was key to coding up this clue\n",
    "\n"
   ]
  },
  {
   "cell_type": "code",
   "execution_count": 26,
   "id": "762072df-98a2-4935-86e5-accd7b3bdfc6",
   "metadata": {},
   "outputs": [
    {
     "data": {
      "text/plain": [
       "Wrecker_is_D_type(0..1)"
      ]
     },
     "execution_count": 26,
     "metadata": {},
     "output_type": "execute_result"
    }
   ],
   "source": [
    "# statement 4a\n",
    "## Wrecker or Jackie ran on D batteries\n",
    "## Wrecker or Jackie ran on Three batteries\n",
    "\n",
    "Wrecker_is_D_type =  model.new_bool_var(\"Wrecker_is_D_type\")\n",
    "\n",
    "model.Add(Wrecker == D_type).OnlyEnforceIf(Wrecker_is_D_type )\n",
    "model.Add(Wrecker != D_type).OnlyEnforceIf(~Wrecker_is_D_type)\n",
    "\n",
    "#Wrecker_is_D_type = (Wrecker == D_type)\n",
    "Wrecker_is_D_type"
   ]
  },
  {
   "cell_type": "code",
   "execution_count": 27,
   "id": "c8523547-49c8-4270-b087-4488059b3df1",
   "metadata": {},
   "outputs": [
    {
     "data": {
      "text/plain": [
       "Wrecker_is_Three(0..1)"
      ]
     },
     "execution_count": 27,
     "metadata": {},
     "output_type": "execute_result"
    }
   ],
   "source": [
    "# statement 4aa\n",
    "## Wrecker or Jackie ran on D batteries\n",
    "## Wrecker or Jackie ran on Three batteries\n",
    "\n",
    "Wrecker_is_Three =  model.new_bool_var(\"Wrecker_is_Three\")\n",
    "\n",
    "model.Add(Wrecker == Three).OnlyEnforceIf(Wrecker_is_Three )\n",
    "model.Add(Wrecker != Three).OnlyEnforceIf(~Wrecker_is_Three)\n",
    "\n",
    "#Wrecker_is_D_type = (Wrecker == D_type)\n",
    "Wrecker_is_Three"
   ]
  },
  {
   "cell_type": "code",
   "execution_count": 28,
   "id": "68a689ee-3984-43f5-96a8-bd97a6161b22",
   "metadata": {},
   "outputs": [
    {
     "data": {
      "text/plain": [
       "Jackie_is_D_type(0..1)"
      ]
     },
     "execution_count": 28,
     "metadata": {},
     "output_type": "execute_result"
    }
   ],
   "source": [
    "# statement 4b\n",
    "## Wrecker or Jackie ran on D batteries\n",
    "## Wrecker or Jackie ran on Three batteries\n",
    "\n",
    "Jackie_is_D_type =  model.new_bool_var(\"Jackie_is_D_type\")\n",
    "\n",
    "model.Add(Jackie == D_type).OnlyEnforceIf(Jackie_is_D_type)\n",
    "model.Add(Jackie != D_type).OnlyEnforceIf(~Jackie_is_D_type)\n",
    "Jackie_is_D_type"
   ]
  },
  {
   "cell_type": "code",
   "execution_count": 29,
   "id": "ed2c35df-0b57-4e5a-9227-dd7f808a040a",
   "metadata": {},
   "outputs": [
    {
     "data": {
      "text/plain": [
       "Jackie_is_Three(0..1)"
      ]
     },
     "execution_count": 29,
     "metadata": {},
     "output_type": "execute_result"
    }
   ],
   "source": [
    "# statement 4b\n",
    "## Wrecker or Jackie ran on D batteries\n",
    "## Wrecker or Jackie ran on Three batteries\n",
    "\n",
    "Jackie_is_Three =  model.new_bool_var(\"Jackie_is_Three\")\n",
    "\n",
    "model.Add(Jackie == Three).OnlyEnforceIf(Jackie_is_Three)\n",
    "model.Add(Jackie != Three).OnlyEnforceIf(~Jackie_is_Three)\n",
    "Jackie_is_Three\n"
   ]
  },
  {
   "cell_type": "code",
   "execution_count": 30,
   "id": "32b63c1f-5c1b-4c2f-aa05-973b05da76b3",
   "metadata": {},
   "outputs": [
    {
     "data": {
      "text/plain": [
       "<ortools.sat.python.cp_model.Constraint at 0x1f072849c40>"
      ]
     },
     "execution_count": 30,
     "metadata": {},
     "output_type": "execute_result"
    }
   ],
   "source": [
    "\n",
    "# all three of these XOR statements are needed \n",
    "\n",
    "model.AddBoolXOr([Wrecker_is_D_type, Jackie_is_D_type])\n",
    "model.AddBoolXOr([Jackie_is_Three, Jackie_is_D_type])\n",
    "model.AddBoolXOr([Wrecker_is_D_type, Wrecker_is_Three])"
   ]
  },
  {
   "cell_type": "code",
   "execution_count": 31,
   "id": "cf176cdb-c34a-4311-a711-3f99011375a4",
   "metadata": {},
   "outputs": [
    {
     "data": {
      "text/plain": [
       "<ortools.sat.python.cp_model.Constraint at 0x1f0728223c0>"
      ]
     },
     "execution_count": 31,
     "metadata": {},
     "output_type": "execute_result"
    }
   ],
   "source": [
    "# statement 5.\n",
    "\n",
    "# The five builders are Zackery, the one who built Mangler, the one whose robot required \\\n",
    "#    five batteries, and the ones who built robots that used AA and C batteries\n",
    "\n",
    "model.add_all_different(\n",
    "    Zachary,\n",
    "    Mangler,\n",
    "    Five,\n",
    "    AA_type,\n",
    "    C_type\n",
    ")"
   ]
  },
  {
   "cell_type": "code",
   "execution_count": 32,
   "id": "af880c72-bfe5-4852-a1ea-3e819256ee1e",
   "metadata": {},
   "outputs": [
    {
     "data": {
      "text/plain": [
       "<ortools.sat.python.cp_model.Constraint at 0x1f07284aa20>"
      ]
     },
     "execution_count": 32,
     "metadata": {},
     "output_type": "execute_result"
    }
   ],
   "source": [
    "# statement 6.\n",
    "\n",
    "# Trasher didn't run on four batteries\n",
    "\n",
    "model.add_all_different(\n",
    "    Trasher,\n",
    "    Four\n",
    ")"
   ]
  },
  {
   "cell_type": "code",
   "execution_count": 33,
   "id": "10431ff5-369b-4164-b997-d3f29ca71c49",
   "metadata": {},
   "outputs": [
    {
     "data": {
      "text/plain": [
       "<ortools.sat.python.cp_model.Constraint at 0x1f07284af90>"
      ]
     },
     "execution_count": 33,
     "metadata": {},
     "output_type": "execute_result"
    }
   ],
   "source": [
    "# statement 7.\n",
    "\n",
    "# Giselle's robot used larger batteries than Jackie's\n",
    "\n",
    "model.Add (Giselle > Jackie)\n"
   ]
  },
  {
   "cell_type": "code",
   "execution_count": 34,
   "id": "ce093187-a86f-4faa-a67a-899c9d73e446",
   "metadata": {},
   "outputs": [
    {
     "data": {
      "text/plain": [
       "<ortools.sat.python.cp_model.Constraint at 0x1f07284a660>"
      ]
     },
     "execution_count": 34,
     "metadata": {},
     "output_type": "execute_result"
    }
   ],
   "source": [
    "# statement 8.\n",
    "\n",
    "# The robot that required the fewest batteries didn't use C batteries\n",
    "\n",
    "model.add_all_different(\n",
    "    Two,\n",
    "    C_type\n",
    ")"
   ]
  },
  {
   "cell_type": "code",
   "execution_count": 35,
   "id": "2bf44a5e-956f-4f3b-a428-11602a9c82a7",
   "metadata": {},
   "outputs": [
    {
     "data": {
      "text/plain": [
       "<ortools.sat.python.cp_model.Constraint at 0x1f0723a4aa0>"
      ]
     },
     "execution_count": 35,
     "metadata": {},
     "output_type": "execute_result"
    }
   ],
   "source": [
    "# statement 9.\n",
    "\n",
    "# The robot the required AAA batteries didn't use four of them. \n",
    "\n",
    "model.add_all_different(\n",
    "    Four,\n",
    "    AAA_type\n",
    ")"
   ]
  },
  {
   "cell_type": "markdown",
   "id": "3290aa43-649b-4fc0-8982-09ce7e4ef8a5",
   "metadata": {},
   "source": [
    "### print out solutions"
   ]
  },
  {
   "cell_type": "code",
   "execution_count": 36,
   "id": "3f48fdbe-eecd-4cd9-a1e5-f5173e7a55fe",
   "metadata": {},
   "outputs": [],
   "source": [
    "# Solve and print out the solution.\n",
    "solver = cp_model.CpSolver()\n"
   ]
  },
  {
   "cell_type": "code",
   "execution_count": 37,
   "id": "e58aceff-14c5-41ff-aa33-0ad0af98dfad",
   "metadata": {},
   "outputs": [
    {
     "data": {
      "text/plain": [
       "4"
      ]
     },
     "execution_count": 37,
     "metadata": {},
     "output_type": "execute_result"
    }
   ],
   "source": [
    "# this one just prints the main variables\n",
    "#solution_collector = VarArraySolutionCollector(  all_the_variables  )\n",
    "\n",
    "\n",
    "solution_collector = VarArraySolutionCollector(  all_the_variables + [\n",
    "    Wrecker_is_D_type,\n",
    "    Wrecker_is_Three,\n",
    "    Jackie_is_D_type,\n",
    "    Jackie_is_Three\n",
    "] )\n",
    "\n",
    "\n",
    "solver.SearchForAllSolutions(model, solution_collector)"
   ]
  },
  {
   "cell_type": "code",
   "execution_count": 38,
   "id": "789fe540-dddd-4918-b40a-60a89ef2cf62",
   "metadata": {},
   "outputs": [
    {
     "data": {
      "text/plain": [
       "1"
      ]
     },
     "execution_count": 38,
     "metadata": {},
     "output_type": "execute_result"
    }
   ],
   "source": [
    "len(solution_collector.solution_list)"
   ]
  },
  {
   "cell_type": "code",
   "execution_count": 39,
   "id": "34efc0d3-afc8-4278-9fa5-146c2c7634f7",
   "metadata": {},
   "outputs": [
    {
     "name": "stdout",
     "output_type": "stream",
     "text": [
      "AAAA,AAA,AA,C,D,Aden,Giselle,Jackie,Stephen,Zachary,Two,Three,Four,Five,Six,Crusher,Destroyer,Mangler,Trasher,Wrecker,Wrecker_is_D_type,Wrecker_is_Three,Jackie_is_D_type,Jackie_is_Three,\n"
     ]
    }
   ],
   "source": [
    "solution_collector.print_headers()"
   ]
  },
  {
   "cell_type": "code",
   "execution_count": 40,
   "id": "cc817046-5333-4045-9b9e-d51923dac600",
   "metadata": {},
   "outputs": [
    {
     "data": {
      "text/plain": [
       "['AAAA',\n",
       " 'AAA',\n",
       " 'AA',\n",
       " 'C',\n",
       " 'D',\n",
       " 'Aden',\n",
       " 'Giselle',\n",
       " 'Jackie',\n",
       " 'Stephen',\n",
       " 'Zachary',\n",
       " 'Two',\n",
       " 'Three',\n",
       " 'Four',\n",
       " 'Five',\n",
       " 'Six',\n",
       " 'Crusher',\n",
       " 'Destroyer',\n",
       " 'Mangler',\n",
       " 'Trasher',\n",
       " 'Wrecker',\n",
       " 'Wrecker_is_D_type',\n",
       " 'Wrecker_is_Three',\n",
       " 'Jackie_is_D_type',\n",
       " 'Jackie_is_Three']"
      ]
     },
     "execution_count": 40,
     "metadata": {},
     "output_type": "execute_result"
    }
   ],
   "source": [
    "solution_collector.list_of_headers()\n"
   ]
  },
  {
   "cell_type": "code",
   "execution_count": 41,
   "id": "66e51680",
   "metadata": {},
   "outputs": [
    {
     "data": {
      "text/html": [
       "<div>\n",
       "<style scoped>\n",
       "    .dataframe tbody tr th:only-of-type {\n",
       "        vertical-align: middle;\n",
       "    }\n",
       "\n",
       "    .dataframe tbody tr th {\n",
       "        vertical-align: top;\n",
       "    }\n",
       "\n",
       "    .dataframe thead th {\n",
       "        text-align: right;\n",
       "    }\n",
       "</style>\n",
       "<table border=\"1\" class=\"dataframe\">\n",
       "  <thead>\n",
       "    <tr style=\"text-align: right;\">\n",
       "      <th></th>\n",
       "      <th>AAAA</th>\n",
       "      <th>AAA</th>\n",
       "      <th>AA</th>\n",
       "      <th>C</th>\n",
       "      <th>D</th>\n",
       "      <th>Aden</th>\n",
       "      <th>Giselle</th>\n",
       "      <th>Jackie</th>\n",
       "      <th>Stephen</th>\n",
       "      <th>Zachary</th>\n",
       "      <th>Two</th>\n",
       "      <th>Three</th>\n",
       "      <th>Four</th>\n",
       "      <th>Five</th>\n",
       "      <th>Six</th>\n",
       "      <th>Crusher</th>\n",
       "      <th>Destroyer</th>\n",
       "      <th>Mangler</th>\n",
       "      <th>Trasher</th>\n",
       "      <th>Wrecker</th>\n",
       "      <th>Wrecker_is_D_type</th>\n",
       "      <th>Wrecker_is_Three</th>\n",
       "      <th>Jackie_is_D_type</th>\n",
       "      <th>Jackie_is_Three</th>\n",
       "    </tr>\n",
       "  </thead>\n",
       "  <tbody>\n",
       "    <tr>\n",
       "      <th>0</th>\n",
       "      <td>1</td>\n",
       "      <td>2</td>\n",
       "      <td>3</td>\n",
       "      <td>4</td>\n",
       "      <td>5</td>\n",
       "      <td>2</td>\n",
       "      <td>4</td>\n",
       "      <td>3</td>\n",
       "      <td>5</td>\n",
       "      <td>1</td>\n",
       "      <td>2</td>\n",
       "      <td>3</td>\n",
       "      <td>1</td>\n",
       "      <td>5</td>\n",
       "      <td>4</td>\n",
       "      <td>1</td>\n",
       "      <td>3</td>\n",
       "      <td>2</td>\n",
       "      <td>4</td>\n",
       "      <td>5</td>\n",
       "      <td>1</td>\n",
       "      <td>0</td>\n",
       "      <td>0</td>\n",
       "      <td>1</td>\n",
       "    </tr>\n",
       "  </tbody>\n",
       "</table>\n",
       "</div>"
      ],
      "text/plain": [
       "   AAAA  AAA  AA  C  D  Aden  Giselle  Jackie  Stephen  Zachary  Two  Three  \\\n",
       "0     1    2   3  4  5     2        4       3        5        1    2      3   \n",
       "\n",
       "   Four  Five  Six  Crusher  Destroyer  Mangler  Trasher  Wrecker  \\\n",
       "0     1     5    4        1          3        2        4        5   \n",
       "\n",
       "   Wrecker_is_D_type  Wrecker_is_Three  Jackie_is_D_type  Jackie_is_Three  \n",
       "0                  1                 0                 0                1  "
      ]
     },
     "execution_count": 41,
     "metadata": {},
     "output_type": "execute_result"
    }
   ],
   "source": [
    "solutions_df = pd.DataFrame(\n",
    "    data = solution_collector.solution_list,\n",
    "    columns = solution_collector.list_of_headers()\n",
    "    \n",
    ")\n",
    "solutions_df.shape\n",
    "\n",
    "solutions_df"
   ]
  },
  {
   "cell_type": "code",
   "execution_count": 42,
   "id": "d962ea43-2574-49b0-877e-77c00da36016",
   "metadata": {},
   "outputs": [
    {
     "data": {
      "text/html": [
       "<div>\n",
       "<style scoped>\n",
       "    .dataframe tbody tr th:only-of-type {\n",
       "        vertical-align: middle;\n",
       "    }\n",
       "\n",
       "    .dataframe tbody tr th {\n",
       "        vertical-align: top;\n",
       "    }\n",
       "\n",
       "    .dataframe thead th {\n",
       "        text-align: right;\n",
       "    }\n",
       "</style>\n",
       "<table border=\"1\" class=\"dataframe\">\n",
       "  <thead>\n",
       "    <tr style=\"text-align: right;\">\n",
       "      <th></th>\n",
       "      <th>AAAA</th>\n",
       "      <th>AAA</th>\n",
       "      <th>AA</th>\n",
       "      <th>C</th>\n",
       "      <th>D</th>\n",
       "      <th>Aden</th>\n",
       "      <th>Giselle</th>\n",
       "      <th>Jackie</th>\n",
       "      <th>Stephen</th>\n",
       "      <th>Zachary</th>\n",
       "      <th>Two</th>\n",
       "      <th>Three</th>\n",
       "      <th>Four</th>\n",
       "      <th>Five</th>\n",
       "      <th>Six</th>\n",
       "      <th>Crusher</th>\n",
       "      <th>Destroyer</th>\n",
       "      <th>Mangler</th>\n",
       "      <th>Trasher</th>\n",
       "      <th>Wrecker</th>\n",
       "      <th>Wrecker_is_D_type</th>\n",
       "      <th>Wrecker_is_Three</th>\n",
       "      <th>Jackie_is_D_type</th>\n",
       "      <th>Jackie_is_Three</th>\n",
       "    </tr>\n",
       "  </thead>\n",
       "  <tbody>\n",
       "    <tr>\n",
       "      <th>0</th>\n",
       "      <td>1</td>\n",
       "      <td>2</td>\n",
       "      <td>3</td>\n",
       "      <td>4</td>\n",
       "      <td>5</td>\n",
       "      <td>2</td>\n",
       "      <td>4</td>\n",
       "      <td>3</td>\n",
       "      <td>5</td>\n",
       "      <td>1</td>\n",
       "      <td>2</td>\n",
       "      <td>3</td>\n",
       "      <td>1</td>\n",
       "      <td>5</td>\n",
       "      <td>4</td>\n",
       "      <td>1</td>\n",
       "      <td>3</td>\n",
       "      <td>2</td>\n",
       "      <td>4</td>\n",
       "      <td>5</td>\n",
       "      <td>1</td>\n",
       "      <td>0</td>\n",
       "      <td>0</td>\n",
       "      <td>1</td>\n",
       "    </tr>\n",
       "  </tbody>\n",
       "</table>\n",
       "</div>"
      ],
      "text/plain": [
       "   AAAA  AAA  AA  C  D  Aden  Giselle  Jackie  Stephen  Zachary  Two  Three  \\\n",
       "0     1    2   3  4  5     2        4       3        5        1    2      3   \n",
       "\n",
       "   Four  Five  Six  Crusher  Destroyer  Mangler  Trasher  Wrecker  \\\n",
       "0     1     5    4        1          3        2        4        5   \n",
       "\n",
       "   Wrecker_is_D_type  Wrecker_is_Three  Jackie_is_D_type  Jackie_is_Three  \n",
       "0                  1                 0                 0                1  "
      ]
     },
     "execution_count": 42,
     "metadata": {},
     "output_type": "execute_result"
    }
   ],
   "source": [
    "# this is useful some conditions are commented out above\n",
    "solutions_df[solutions_df['Wrecker'] == solutions_df['D']]"
   ]
  },
  {
   "cell_type": "code",
   "execution_count": 46,
   "id": "19650e30-00d5-4fbc-b019-5141c7a22cad",
   "metadata": {},
   "outputs": [
    {
     "data": {
      "text/html": [
       "<div>\n",
       "<style scoped>\n",
       "    .dataframe tbody tr th:only-of-type {\n",
       "        vertical-align: middle;\n",
       "    }\n",
       "\n",
       "    .dataframe tbody tr th {\n",
       "        vertical-align: top;\n",
       "    }\n",
       "\n",
       "    .dataframe thead th {\n",
       "        text-align: right;\n",
       "    }\n",
       "</style>\n",
       "<table border=\"1\" class=\"dataframe\">\n",
       "  <thead>\n",
       "    <tr style=\"text-align: right;\">\n",
       "      <th></th>\n",
       "      <th>D</th>\n",
       "      <th>Jackie</th>\n",
       "      <th>Three</th>\n",
       "      <th>Wrecker</th>\n",
       "      <th>Wrecker_is_D_type</th>\n",
       "      <th>Wrecker_is_Three</th>\n",
       "      <th>Jackie_is_D_type</th>\n",
       "      <th>Jackie_is_Three</th>\n",
       "    </tr>\n",
       "  </thead>\n",
       "  <tbody>\n",
       "    <tr>\n",
       "      <th>0</th>\n",
       "      <td>5</td>\n",
       "      <td>3</td>\n",
       "      <td>3</td>\n",
       "      <td>5</td>\n",
       "      <td>1</td>\n",
       "      <td>0</td>\n",
       "      <td>0</td>\n",
       "      <td>1</td>\n",
       "    </tr>\n",
       "  </tbody>\n",
       "</table>\n",
       "</div>"
      ],
      "text/plain": [
       "   D  Jackie  Three  Wrecker  Wrecker_is_D_type  Wrecker_is_Three  \\\n",
       "0  5       3      3        5                  1                 0   \n",
       "\n",
       "   Jackie_is_D_type  Jackie_is_Three  \n",
       "0                 0                1  "
      ]
     },
     "execution_count": 46,
     "metadata": {},
     "output_type": "execute_result"
    }
   ],
   "source": [
    "solutions_df[['D','Jackie','Three','Wrecker','Wrecker_is_D_type',\t'Wrecker_is_Three',\t'Jackie_is_D_type',\t'Jackie_is_Three']]"
   ]
  },
  {
   "cell_type": "code",
   "execution_count": 48,
   "id": "8069d93f-e738-43b3-93f3-4fc50340170a",
   "metadata": {},
   "outputs": [
    {
     "data": {
      "text/html": [
       "<div>\n",
       "<style scoped>\n",
       "    .dataframe tbody tr th:only-of-type {\n",
       "        vertical-align: middle;\n",
       "    }\n",
       "\n",
       "    .dataframe tbody tr th {\n",
       "        vertical-align: top;\n",
       "    }\n",
       "\n",
       "    .dataframe thead th {\n",
       "        text-align: right;\n",
       "    }\n",
       "</style>\n",
       "<table border=\"1\" class=\"dataframe\">\n",
       "  <thead>\n",
       "    <tr style=\"text-align: right;\">\n",
       "      <th></th>\n",
       "      <th>AAAA</th>\n",
       "      <th>AAA</th>\n",
       "      <th>AA</th>\n",
       "      <th>C</th>\n",
       "      <th>D</th>\n",
       "      <th>Aden</th>\n",
       "      <th>Giselle</th>\n",
       "      <th>Jackie</th>\n",
       "      <th>Stephen</th>\n",
       "      <th>Zachary</th>\n",
       "      <th>Two</th>\n",
       "      <th>Three</th>\n",
       "      <th>Four</th>\n",
       "      <th>Five</th>\n",
       "      <th>Six</th>\n",
       "      <th>Crusher</th>\n",
       "      <th>Destroyer</th>\n",
       "      <th>Mangler</th>\n",
       "      <th>Trasher</th>\n",
       "      <th>Wrecker</th>\n",
       "      <th>Wrecker_is_D_type</th>\n",
       "      <th>Wrecker_is_Three</th>\n",
       "      <th>Jackie_is_D_type</th>\n",
       "      <th>Jackie_is_Three</th>\n",
       "    </tr>\n",
       "  </thead>\n",
       "  <tbody>\n",
       "    <tr>\n",
       "      <th>0</th>\n",
       "      <td>1</td>\n",
       "      <td>2</td>\n",
       "      <td>3</td>\n",
       "      <td>4</td>\n",
       "      <td>5</td>\n",
       "      <td>2</td>\n",
       "      <td>4</td>\n",
       "      <td>3</td>\n",
       "      <td>5</td>\n",
       "      <td>1</td>\n",
       "      <td>2</td>\n",
       "      <td>3</td>\n",
       "      <td>1</td>\n",
       "      <td>5</td>\n",
       "      <td>4</td>\n",
       "      <td>1</td>\n",
       "      <td>3</td>\n",
       "      <td>2</td>\n",
       "      <td>4</td>\n",
       "      <td>5</td>\n",
       "      <td>1</td>\n",
       "      <td>0</td>\n",
       "      <td>0</td>\n",
       "      <td>1</td>\n",
       "    </tr>\n",
       "  </tbody>\n",
       "</table>\n",
       "</div>"
      ],
      "text/plain": [
       "   AAAA  AAA  AA  C  D  Aden  Giselle  Jackie  Stephen  Zachary  Two  Three  \\\n",
       "0     1    2   3  4  5     2        4       3        5        1    2      3   \n",
       "\n",
       "   Four  Five  Six  Crusher  Destroyer  Mangler  Trasher  Wrecker  \\\n",
       "0     1     5    4        1          3        2        4        5   \n",
       "\n",
       "   Wrecker_is_D_type  Wrecker_is_Three  Jackie_is_D_type  Jackie_is_Three  \n",
       "0                  1                 0                 0                1  "
      ]
     },
     "execution_count": 48,
     "metadata": {},
     "output_type": "execute_result"
    }
   ],
   "source": [
    "nsample = min (solutions_df.shape[0],8)    # 8 or smaller, avoider errors when the number of solutions is below 8\n",
    "\n",
    "solutions_df.sample(nsample)"
   ]
  },
  {
   "cell_type": "code",
   "execution_count": 49,
   "id": "8603807e-dcf9-4a61-88e5-608fbfe5f4f9",
   "metadata": {},
   "outputs": [
    {
     "data": {
      "text/html": [
       "<div>\n",
       "<style scoped>\n",
       "    .dataframe tbody tr th:only-of-type {\n",
       "        vertical-align: middle;\n",
       "    }\n",
       "\n",
       "    .dataframe tbody tr th {\n",
       "        vertical-align: top;\n",
       "    }\n",
       "\n",
       "    .dataframe thead th {\n",
       "        text-align: right;\n",
       "    }\n",
       "</style>\n",
       "<table border=\"1\" class=\"dataframe\">\n",
       "  <thead>\n",
       "    <tr style=\"text-align: right;\">\n",
       "      <th></th>\n",
       "      <th>AAAA</th>\n",
       "      <th>AAA</th>\n",
       "      <th>AA</th>\n",
       "      <th>C</th>\n",
       "      <th>D</th>\n",
       "      <th>Aden</th>\n",
       "      <th>Giselle</th>\n",
       "      <th>Jackie</th>\n",
       "      <th>Stephen</th>\n",
       "      <th>Zachary</th>\n",
       "      <th>Two</th>\n",
       "      <th>Three</th>\n",
       "      <th>Four</th>\n",
       "      <th>Five</th>\n",
       "      <th>Six</th>\n",
       "      <th>Crusher</th>\n",
       "      <th>Destroyer</th>\n",
       "      <th>Mangler</th>\n",
       "      <th>Trasher</th>\n",
       "      <th>Wrecker</th>\n",
       "      <th>Wrecker_is_D_type</th>\n",
       "      <th>Wrecker_is_Three</th>\n",
       "      <th>Jackie_is_D_type</th>\n",
       "      <th>Jackie_is_Three</th>\n",
       "    </tr>\n",
       "  </thead>\n",
       "  <tbody>\n",
       "    <tr>\n",
       "      <th>0</th>\n",
       "      <td>1</td>\n",
       "      <td>2</td>\n",
       "      <td>3</td>\n",
       "      <td>4</td>\n",
       "      <td>5</td>\n",
       "      <td>2</td>\n",
       "      <td>4</td>\n",
       "      <td>3</td>\n",
       "      <td>5</td>\n",
       "      <td>1</td>\n",
       "      <td>2</td>\n",
       "      <td>3</td>\n",
       "      <td>1</td>\n",
       "      <td>5</td>\n",
       "      <td>4</td>\n",
       "      <td>1</td>\n",
       "      <td>3</td>\n",
       "      <td>2</td>\n",
       "      <td>4</td>\n",
       "      <td>5</td>\n",
       "      <td>1</td>\n",
       "      <td>0</td>\n",
       "      <td>0</td>\n",
       "      <td>1</td>\n",
       "    </tr>\n",
       "  </tbody>\n",
       "</table>\n",
       "</div>"
      ],
      "text/plain": [
       "   AAAA  AAA  AA  C  D  Aden  Giselle  Jackie  Stephen  Zachary  Two  Three  \\\n",
       "0     1    2   3  4  5     2        4       3        5        1    2      3   \n",
       "\n",
       "   Four  Five  Six  Crusher  Destroyer  Mangler  Trasher  Wrecker  \\\n",
       "0     1     5    4        1          3        2        4        5   \n",
       "\n",
       "   Wrecker_is_D_type  Wrecker_is_Three  Jackie_is_D_type  Jackie_is_Three  \n",
       "0                  1                 0                 0                1  "
      ]
     },
     "execution_count": 49,
     "metadata": {},
     "output_type": "execute_result"
    }
   ],
   "source": [
    "solutions_df.head()"
   ]
  }
 ],
 "metadata": {
  "kernelspec": {
   "display_name": "Python 3 (ipykernel)",
   "language": "python",
   "name": "python3"
  },
  "language_info": {
   "codemirror_mode": {
    "name": "ipython",
    "version": 3
   },
   "file_extension": ".py",
   "mimetype": "text/x-python",
   "name": "python",
   "nbconvert_exporter": "python",
   "pygments_lexer": "ipython3",
   "version": "3.12.4"
  }
 },
 "nbformat": 4,
 "nbformat_minor": 5
}
