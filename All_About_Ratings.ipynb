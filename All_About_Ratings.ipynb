{
 "cells": [
  {
   "cell_type": "markdown",
   "id": "9ec38d6b-4518-4443-ba9b-331d92cbb49f",
   "metadata": {},
   "source": [
    "# "
   ]
  },
  {
   "cell_type": "code",
   "execution_count": 1,
   "id": "b30ab13c",
   "metadata": {},
   "outputs": [],
   "source": [
    "%pwd"
   ]
  },
  {
   "cell_type": "code",
   "execution_count": 2,
   "id": "8038facb",
   "metadata": {},
   "outputs": [],
   "source": [
    "intent_2024_10_07 = \"\"\"\n",
    "\n",
    "solving \"It's all about the ratings\" page 200 in the logic puzzles book\n",
    "\n",
    "the most difficult puzzle in the book 41 minutes solve time\n",
    "\n",
    "\n",
    "\"\"\""
   ]
  },
  {
   "cell_type": "code",
   "execution_count": 3,
   "id": "dd404710",
   "metadata": {},
   "outputs": [],
   "source": [
    "from pprint import pprint"
   ]
  },
  {
   "cell_type": "code",
   "execution_count": 4,
   "id": "dee5fa86",
   "metadata": {},
   "outputs": [],
   "source": [
    "import pandas as pd\n",
    "\n",
    "pd.set_option('display.max_columns', 30)\n"
   ]
  },
  {
   "cell_type": "code",
   "execution_count": 5,
   "id": "9d0c1bb0",
   "metadata": {},
   "outputs": [],
   "source": [
    "from ortools.sat.python import cp_model"
   ]
  },
  {
   "cell_type": "code",
   "execution_count": 6,
   "id": "3369f7ca",
   "metadata": {},
   "outputs": [],
   "source": [
    "#\n",
    "# putting in the multisolution\n",
    "#"
   ]
  },
  {
   "cell_type": "code",
   "execution_count": 7,
   "id": "a11112b0",
   "metadata": {},
   "outputs": [],
   "source": [
    "# Create the model.\n",
    "model = cp_model.CpModel()\n"
   ]
  },
  {
   "cell_type": "code",
   "execution_count": 8,
   "id": "8109832a",
   "metadata": {},
   "outputs": [],
   "source": [
    "class VarArraySolutionCollector(cp_model.CpSolverSolutionCallback):\n",
    "\n",
    "    def __init__(self, variables):\n",
    "        cp_model.CpSolverSolutionCallback.__init__(self)\n",
    "        self.__variables = variables\n",
    "        self.solution_list = []\n",
    "\n",
    "    def on_solution_callback(self):\n",
    "        self.solution_list.append([self.Value(v) for v in self.__variables])\n",
    "\n",
    "    def print_headers(self):\n",
    "        for var in self.__variables:\n",
    "            print (f\"{var.name},\",end='')\n",
    "        print (\"\")\n",
    "\n",
    "    def list_of_headers(self):\n",
    "        return_list = [\n",
    "            str (var.name) \n",
    "            for \n",
    "            var in \n",
    "            self.__variables\n",
    "        ]\n",
    "        return return_list\n"
   ]
  },
  {
   "cell_type": "code",
   "execution_count": 9,
   "id": "b84aa52d",
   "metadata": {},
   "outputs": [],
   "source": [
    "# 1 through 5 -- will use the audience sizes as the number "
   ]
  },
  {
   "cell_type": "code",
   "execution_count": 10,
   "id": "38d4dbc9",
   "metadata": {},
   "outputs": [],
   "source": [
    "    M1_viewers = model.new_int_var(1, 5, \"mil_1\")\n",
    "    M2_viewers  = model.new_int_var(1, 5, \"mil_2\")\n",
    "    M3_viewers  = model.new_int_var(1, 5, \"mil_3\")\n",
    "    M4_viewers = model.new_int_var(1, 5, \"mil_4\")\n",
    "    M5_viewers  = model.new_int_var(1, 5, \"mil_5\")\n",
    "\n",
    "\n",
    "Num_Viewers = [\n",
    "    M1_viewers,\n",
    "    M2_viewers,\n",
    "    M3_viewers,\n",
    "    M4_viewers,\n",
    "    M5_viewers,\n",
    "]"
   ]
  },
  {
   "cell_type": "code",
   "execution_count": 11,
   "id": "08b0afa6",
   "metadata": {},
   "outputs": [],
   "source": [
    "\n",
    "Name_BNRG = model.new_int_var(1, 5, \"Name_BNRG\")\n",
    "Name_CVT  = model.new_int_var(1, 5, \"Name_CVT\")\n",
    "Name_KWTM = model.new_int_var(1, 5, \"Name_KWTM\")\n",
    "Name_PCR  = model.new_int_var(1, 5, \"Name_PCR\")\n",
    "Name_TWL  = model.new_int_var(1, 5, \"Name_TWL\")\n",
    "\n",
    "Channel_Names = [\n",
    "    Name_BNRG ,\n",
    "    Name_CVT ,\n",
    "    Name_KWTM,\n",
    "    Name_PCR,\n",
    "    Name_TWL,\n",
    "\n",
    "]"
   ]
  },
  {
   "cell_type": "code",
   "execution_count": 12,
   "id": "a42c1d7e",
   "metadata": {},
   "outputs": [
    {
     "data": {
      "text/plain": [
       "[Ch_15(1..5), Ch_22(1..5), Ch_43(1..5), Ch_56(1..5), Ch_62(1..5)]"
      ]
     },
     "execution_count": 12,
     "metadata": {},
     "output_type": "execute_result"
    }
   ],
   "source": [
    "\n",
    "Ch_15 = model.new_int_var(1, 5, \"Ch_15\")\n",
    "Ch_22 = model.new_int_var(1, 5, \"Ch_22\")\n",
    "Ch_43 = model.new_int_var(1, 5, \"Ch_43\")\n",
    "Ch_56 = model.new_int_var(1, 5, \"Ch_56\")\n",
    "Ch_62 = model.new_int_var(1, 5, \"Ch_62\")\n",
    "\n",
    "Channel_Numbers = [\n",
    "    Ch_15,\n",
    "    Ch_22,\n",
    "    Ch_43,\n",
    "    Ch_56,\n",
    "    Ch_62,\n",
    "]\n",
    "\n",
    "Channel_Numbers"
   ]
  },
  {
   "cell_type": "code",
   "execution_count": 13,
   "id": "3897c4e9",
   "metadata": {},
   "outputs": [
    {
     "data": {
      "text/plain": [
       "[Show_Moneygab(1..5),\n",
       " Show_Ponyville(1..5),\n",
       " Show_Powertrips(1..5),\n",
       " Show_Soap_Suds(1..5),\n",
       " Show_Top_Chow(1..5)]"
      ]
     },
     "execution_count": 13,
     "metadata": {},
     "output_type": "execute_result"
    }
   ],
   "source": [
    "\n",
    "Show_Moneygab   = model.new_int_var(1, 5, \"Show_Moneygab\")\n",
    "Show_Ponyville  = model.new_int_var(1, 5, \"Show_Ponyville\")\n",
    "Show_Powertrips = model.new_int_var(1, 5, \"Show_Powertrips\")\n",
    "Show_Soap_Suds  = model.new_int_var(1, 5, \"Show_Soap_Suds\")\n",
    "Show_Top_Chow   = model.new_int_var(1, 5, \"Show_Top_Chow\")\n",
    "\n",
    "\n",
    "Shows = [\n",
    "    Show_Moneygab,\n",
    "    Show_Ponyville,\n",
    "    Show_Powertrips,\n",
    "    Show_Soap_Suds,\n",
    "    Show_Top_Chow,\n",
    "]\n",
    "\n",
    "Shows"
   ]
  },
  {
   "cell_type": "code",
   "execution_count": 14,
   "id": "57328615",
   "metadata": {},
   "outputs": [
    {
     "data": {
      "text/plain": [
       "[mil_1(1..5),\n",
       " mil_2(1..5),\n",
       " mil_3(1..5),\n",
       " mil_4(1..5),\n",
       " mil_5(1..5),\n",
       " Name_BNRG(1..5),\n",
       " Name_CVT(1..5),\n",
       " Name_KWTM(1..5),\n",
       " Name_PCR(1..5),\n",
       " Name_TWL(1..5),\n",
       " Ch_15(1..5),\n",
       " Ch_22(1..5),\n",
       " Ch_43(1..5),\n",
       " Ch_56(1..5),\n",
       " Ch_62(1..5),\n",
       " Show_Moneygab(1..5),\n",
       " Show_Ponyville(1..5),\n",
       " Show_Powertrips(1..5),\n",
       " Show_Soap_Suds(1..5),\n",
       " Show_Top_Chow(1..5)]"
      ]
     },
     "execution_count": 14,
     "metadata": {},
     "output_type": "execute_result"
    }
   ],
   "source": [
    "all_the_variables = (\n",
    "    Num_Viewers +\n",
    "    Channel_Names  + \n",
    "    Channel_Numbers  + \n",
    "    Shows\n",
    ")\n",
    "all_the_variables"
   ]
  },
  {
   "cell_type": "code",
   "execution_count": 15,
   "id": "a2a70d04",
   "metadata": {},
   "outputs": [],
   "source": [
    "#all_the_variables_plus += all_the_variables\n"
   ]
  },
  {
   "cell_type": "code",
   "execution_count": 16,
   "id": "b051be2d-07bc-430f-9898-f7af23e2279e",
   "metadata": {},
   "outputs": [],
   "source": [
    "aux_variables = []"
   ]
  },
  {
   "cell_type": "code",
   "execution_count": 17,
   "id": "bb29cb3a",
   "metadata": {},
   "outputs": [
    {
     "data": {
      "text/plain": [
       "mil_1(1..5)"
      ]
     },
     "execution_count": 17,
     "metadata": {},
     "output_type": "execute_result"
    }
   ],
   "source": [
    "all_the_variables[0]"
   ]
  },
  {
   "cell_type": "code",
   "execution_count": 18,
   "id": "9057df8f",
   "metadata": {},
   "outputs": [],
   "source": [
    "# Create a solver and solve.\n",
    "#solver = cp_model.CpSolver()\n",
    "solution_printer = cp_model.VarArraySolutionPrinter(\n",
    "    all_the_variables\n",
    ")\n"
   ]
  },
  {
   "cell_type": "code",
   "execution_count": 19,
   "id": "9c58940e",
   "metadata": {},
   "outputs": [],
   "source": [
    "#model.add_all_different(Types)"
   ]
  },
  {
   "cell_type": "code",
   "execution_count": 20,
   "id": "5a0d15e2",
   "metadata": {},
   "outputs": [
    {
     "data": {
      "text/plain": [
       "<ortools.sat.python.cp_model.Constraint at 0x1ab543bec60>"
      ]
     },
     "execution_count": 20,
     "metadata": {},
     "output_type": "execute_result"
    }
   ],
   "source": [
    "model.add_all_different(Num_Viewers)\n",
    "model.add_all_different(Channel_Names)\n",
    "model.add_all_different(Channel_Numbers)\n",
    "model.add_all_different(Shows)\n"
   ]
  },
  {
   "cell_type": "code",
   "execution_count": 21,
   "id": "b67c522c-5328-4569-8ada-90568eaaee74",
   "metadata": {},
   "outputs": [
    {
     "data": {
      "text/plain": [
       "<ortools.sat.python.cp_model.Constraint at 0x1ab53bb0da0>"
      ]
     },
     "execution_count": 21,
     "metadata": {},
     "output_type": "execute_result"
    }
   ],
   "source": [
    "# setting the rows by audience size\n",
    "\n",
    "model.Add (M1_viewers == 1)\n",
    "model.Add (M2_viewers == 2)\n",
    "model.Add (M3_viewers == 3)\n",
    "model.Add (M4_viewers == 4)\n",
    "model.Add (M5_viewers == 5)\n"
   ]
  },
  {
   "cell_type": "code",
   "execution_count": 22,
   "id": "12cd5fa2",
   "metadata": {},
   "outputs": [
    {
     "data": {
      "text/plain": [
       "<ortools.sat.python.cp_model.Constraint at 0x1ab543bd1c0>"
      ]
     },
     "execution_count": 22,
     "metadata": {},
     "output_type": "execute_result"
    }
   ],
   "source": [
    "# statement #1\n",
    "\n",
    "\n",
    "\n",
    "# the one that is Show_Powertrips minus 1M viewers\n",
    "\n",
    "Powertrips_minus_1M = model.new_int_var(1, 5, \"Powertrips_minus_1M\")\n",
    "model.Add(Powertrips_minus_1M == Show_Powertrips - 1)\n",
    "\n",
    "aux_variables.append(Powertrips_minus_1M)\n",
    "\n",
    "model.add_all_different(\n",
    "    Show_Soap_Suds,\n",
    "    Name_BNRG,\n",
    "\n",
    ")\n",
    "\n",
    "model.Add(Name_BNRG == Show_Powertrips - 1)\n",
    "\n",
    "# \n",
    "\n",
    "model.add_all_different(\n",
    "    Show_Soap_Suds,\n",
    "    M5_viewers\n",
    ")\n",
    "\n"
   ]
  },
  {
   "cell_type": "code",
   "execution_count": 23,
   "id": "b178c536",
   "metadata": {},
   "outputs": [
    {
     "data": {
      "text/plain": [
       "<ortools.sat.python.cp_model.Constraint at 0x1ab543e1b50>"
      ]
     },
     "execution_count": 23,
     "metadata": {},
     "output_type": "execute_result"
    }
   ],
   "source": [
    "# statement 2.\n",
    "\n",
    "model.Add(Ch_22<Show_Top_Chow )\n",
    "model.Add(Show_Top_Chow < Name_TWL )\n",
    "\n",
    "\n"
   ]
  },
  {
   "cell_type": "code",
   "execution_count": 24,
   "id": "a88aa86d",
   "metadata": {},
   "outputs": [
    {
     "data": {
      "text/plain": [
       "<ortools.sat.python.cp_model.Constraint at 0x1ab543e2120>"
      ]
     },
     "execution_count": 24,
     "metadata": {},
     "output_type": "execute_result"
    }
   ],
   "source": [
    "# statement 3.\n",
    "\n",
    "model.add(Name_TWL == M5_viewers)\n",
    "\n",
    "model.add(Name_TWL != Ch_56)\n",
    "\n"
   ]
  },
  {
   "cell_type": "code",
   "execution_count": 25,
   "id": "c2472574",
   "metadata": {},
   "outputs": [
    {
     "data": {
      "text/plain": [
       "<ortools.sat.python.cp_model.Constraint at 0x1ab543e2090>"
      ]
     },
     "execution_count": 25,
     "metadata": {},
     "output_type": "execute_result"
    }
   ],
   "source": [
    "# statement 4.\n",
    "\n",
    "model.add_all_different(\n",
    "    Name_PCR,\n",
    "    Show_Moneygab\n",
    ")\n",
    "model.add_all_different(\n",
    "    M3_viewers,\n",
    "    Ch_22\n",
    ")"
   ]
  },
  {
   "cell_type": "code",
   "execution_count": 26,
   "id": "762072df-98a2-4935-86e5-accd7b3bdfc6",
   "metadata": {},
   "outputs": [
    {
     "data": {
      "text/plain": [
       "PCR_is_M3_viewers(0..1)"
      ]
     },
     "execution_count": 26,
     "metadata": {},
     "output_type": "execute_result"
    }
   ],
   "source": [
    "# statement 4a\n",
    "\n",
    "\n",
    "PCR_is_M3_viewers =  model.new_bool_var(\"PCR_is_M3_viewers\")\n",
    "\n",
    "model.Add(Name_PCR == M3_viewers).OnlyEnforceIf(PCR_is_M3_viewers )\n",
    "model.Add(Name_PCR != M3_viewers).OnlyEnforceIf(~PCR_is_M3_viewers)\n",
    "\n",
    "aux_variables.append(PCR_is_M3_viewers )\n",
    "PCR_is_M3_viewers"
   ]
  },
  {
   "cell_type": "code",
   "execution_count": 27,
   "id": "c8523547-49c8-4270-b087-4488059b3df1",
   "metadata": {},
   "outputs": [
    {
     "data": {
      "text/plain": [
       "PCR_is_Ch22(0..1)"
      ]
     },
     "execution_count": 27,
     "metadata": {},
     "output_type": "execute_result"
    }
   ],
   "source": [
    "# statement 4b\n",
    "\n",
    "PCR_is_Ch_22 =  model.new_bool_var(\"PCR_is_Ch22\")\n",
    "\n",
    "model.Add(Name_PCR == Ch_22 ).OnlyEnforceIf(PCR_is_Ch_22 )\n",
    "model.Add(Name_PCR != Ch_22 ).OnlyEnforceIf(~PCR_is_Ch_22)\n",
    "\n",
    "aux_variables.append(PCR_is_Ch_22  )\n",
    "\n",
    "PCR_is_Ch_22"
   ]
  },
  {
   "cell_type": "code",
   "execution_count": 28,
   "id": "68a689ee-3984-43f5-96a8-bd97a6161b22",
   "metadata": {},
   "outputs": [
    {
     "data": {
      "text/plain": [
       "Moneygab_is_M3_viewers(0..1)"
      ]
     },
     "execution_count": 28,
     "metadata": {},
     "output_type": "execute_result"
    }
   ],
   "source": [
    "# statement 4c\n",
    "\n",
    "Moneygab_is_M3_viewers =  model.new_bool_var(\"Moneygab_is_M3_viewers\")\n",
    "\n",
    "model.Add(Show_Moneygab == M3_viewers).OnlyEnforceIf(Moneygab_is_M3_viewers)\n",
    "model.Add(Show_Moneygab != M3_viewers).OnlyEnforceIf(~Moneygab_is_M3_viewers)\n",
    "\n",
    "aux_variables.append(Moneygab_is_M3_viewers )\n",
    "Moneygab_is_M3_viewers"
   ]
  },
  {
   "cell_type": "code",
   "execution_count": 29,
   "id": "a0d03272-4261-4081-800f-2da3ff12fac2",
   "metadata": {},
   "outputs": [
    {
     "data": {
      "text/plain": [
       "Moneygab_is_Ch_22(0..1)"
      ]
     },
     "execution_count": 29,
     "metadata": {},
     "output_type": "execute_result"
    }
   ],
   "source": [
    "# statement 4d\n",
    "\n",
    "Moneygab_is_Ch_22 =  model.new_bool_var(\"Moneygab_is_Ch_22\")\n",
    "\n",
    "model.Add(Show_Moneygab == Ch_22).OnlyEnforceIf(Moneygab_is_Ch_22)\n",
    "model.Add(Show_Moneygab != Ch_22).OnlyEnforceIf(~Moneygab_is_Ch_22)\n",
    "\n",
    "aux_variables.append(Moneygab_is_Ch_22 )\n",
    "Moneygab_is_Ch_22"
   ]
  },
  {
   "cell_type": "code",
   "execution_count": 30,
   "id": "32b63c1f-5c1b-4c2f-aa05-973b05da76b3",
   "metadata": {},
   "outputs": [
    {
     "data": {
      "text/plain": [
       "<ortools.sat.python.cp_model.Constraint at 0x1ab44ddb5c0>"
      ]
     },
     "execution_count": 30,
     "metadata": {},
     "output_type": "execute_result"
    }
   ],
   "source": [
    "\n",
    "model.AddBoolXOr([PCR_is_M3_viewers, PCR_is_Ch_22])\n",
    "model.AddBoolXOr([PCR_is_M3_viewers, Moneygab_is_M3_viewers])\n",
    "model.AddBoolXOr([Moneygab_is_M3_viewers, Moneygab_is_Ch_22])"
   ]
  },
  {
   "cell_type": "code",
   "execution_count": 31,
   "id": "cf176cdb-c34a-4311-a711-3f99011375a4",
   "metadata": {},
   "outputs": [
    {
     "data": {
      "text/plain": [
       "<ortools.sat.python.cp_model.Constraint at 0x1ab543f4050>"
      ]
     },
     "execution_count": 31,
     "metadata": {},
     "output_type": "execute_result"
    }
   ],
   "source": [
    "# statement 5.\n",
    "\n",
    "model.add_all_different(\n",
    "    Ch_15,\n",
    "    Show_Ponyville\n",
    ")\n",
    "model.add_all_different(\n",
    "    Name_KWTM,\n",
    "    M1_viewers\n",
    ")"
   ]
  },
  {
   "cell_type": "code",
   "execution_count": 32,
   "id": "209a5c4e-9179-4d4e-ab81-1a3df1847dad",
   "metadata": {},
   "outputs": [
    {
     "data": {
      "text/plain": [
       "Ch_15_is_KWTM(0..1)"
      ]
     },
     "execution_count": 32,
     "metadata": {},
     "output_type": "execute_result"
    }
   ],
   "source": [
    "# statement 5a\n",
    "\n",
    "Ch_15_is_KWTM = model.new_bool_var(\"Ch_15_is_KWTM\")\n",
    "\n",
    "model.Add(Ch_15 == Name_KWTM).OnlyEnforceIf(Ch_15_is_KWTM)\n",
    "model.Add(Ch_15 != Name_KWTM).OnlyEnforceIf(~Ch_15_is_KWTM)\n",
    "\n",
    "aux_variables.append(Ch_15_is_KWTM )\n",
    "\n",
    "Ch_15_is_KWTM"
   ]
  },
  {
   "cell_type": "code",
   "execution_count": 33,
   "id": "6f0e64e7-55a2-4f26-a38d-dbff060ca544",
   "metadata": {},
   "outputs": [
    {
     "data": {
      "text/plain": [
       "Ch_15_is_M1_viewers(0..1)"
      ]
     },
     "execution_count": 33,
     "metadata": {},
     "output_type": "execute_result"
    }
   ],
   "source": [
    "# statement 5b\n",
    "\n",
    "Ch_15_is_M1_viewers =  model.new_bool_var(\"Ch_15_is_M1_viewers\")\n",
    "\n",
    "model.Add(Ch_15 == M1_viewers).OnlyEnforceIf(Ch_15_is_M1_viewers)\n",
    "model.Add(Ch_15 != M1_viewers).OnlyEnforceIf(~Ch_15_is_M1_viewers)\n",
    "\n",
    "aux_variables.append(Ch_15_is_M1_viewers)\n",
    "Ch_15_is_M1_viewers\n"
   ]
  },
  {
   "cell_type": "code",
   "execution_count": 34,
   "id": "8ddedc5c-6b64-44d4-9a7d-67812d744bb2",
   "metadata": {},
   "outputs": [
    {
     "data": {
      "text/plain": [
       "Ponyville_is_M1_viewers(0..1)"
      ]
     },
     "execution_count": 34,
     "metadata": {},
     "output_type": "execute_result"
    }
   ],
   "source": [
    "# statement 5c\n",
    "\n",
    "Ponyville_is_M1_viewers =  model.new_bool_var(\"Ponyville_is_M1_viewers\")\n",
    "\n",
    "model.Add(Show_Ponyville == M1_viewers).OnlyEnforceIf(Ponyville_is_M1_viewers)\n",
    "model.Add(Show_Ponyville != M1_viewers).OnlyEnforceIf(~Ponyville_is_M1_viewers)\n",
    "\n",
    "aux_variables.append(Ponyville_is_M1_viewers)\n",
    "\n",
    "Ponyville_is_M1_viewers"
   ]
  },
  {
   "cell_type": "code",
   "execution_count": 35,
   "id": "7774a2d4-f835-49cc-ba00-5536f582bb54",
   "metadata": {},
   "outputs": [
    {
     "data": {
      "text/plain": [
       "Ponyville_is_KWTM(0..1)"
      ]
     },
     "execution_count": 35,
     "metadata": {},
     "output_type": "execute_result"
    }
   ],
   "source": [
    "# statement 5d\n",
    "\n",
    "Ponyville_is_KWTM =  model.new_bool_var(\"Ponyville_is_KWTM\")\n",
    "\n",
    "model.Add(Show_Ponyville == Name_KWTM).OnlyEnforceIf(Ponyville_is_KWTM)\n",
    "model.Add(Show_Ponyville != Name_KWTM).OnlyEnforceIf(~Ponyville_is_KWTM)\n",
    "\n",
    "aux_variables.append(Ponyville_is_KWTM)\n",
    "\n",
    "Ponyville_is_KWTM"
   ]
  },
  {
   "cell_type": "code",
   "execution_count": 48,
   "id": "7527b7b2-c955-4214-959c-2f96a24a539b",
   "metadata": {},
   "outputs": [
    {
     "data": {
      "text/plain": [
       "<ortools.sat.python.cp_model.Constraint at 0x1ab54074bf0>"
      ]
     },
     "execution_count": 48,
     "metadata": {},
     "output_type": "execute_result"
    }
   ],
   "source": [
    "model.AddBoolXOr([Ch_15_is_KWTM , Ch_15_is_M1_viewers])\n",
    "model.AddBoolXOr([Ch_15_is_M1_viewers, Ponyville_is_M1_viewers])\n",
    "model.AddBoolXOr([Ponyville_is_M1_viewers, Ponyville_is_KWTM])"
   ]
  },
  {
   "cell_type": "code",
   "execution_count": 49,
   "id": "af880c72-bfe5-4852-a1ea-3e819256ee1e",
   "metadata": {},
   "outputs": [
    {
     "data": {
      "text/plain": [
       "<ortools.sat.python.cp_model.Constraint at 0x1ab543f6030>"
      ]
     },
     "execution_count": 49,
     "metadata": {},
     "output_type": "execute_result"
    }
   ],
   "source": [
    "# statement 6.\n",
    "\n",
    "model.add_all_different(\n",
    "    Show_Moneygab,\n",
    "    Ch_15\n",
    ")\n",
    "\n",
    "model.add_all_different(\n",
    "    Show_Moneygab,\n",
    "    Ch_56\n",
    ")"
   ]
  },
  {
   "cell_type": "code",
   "execution_count": 50,
   "id": "10431ff5-369b-4164-b997-d3f29ca71c49",
   "metadata": {},
   "outputs": [
    {
     "data": {
      "text/plain": [
       "<ortools.sat.python.cp_model.Constraint at 0x1ab53e73b60>"
      ]
     },
     "execution_count": 50,
     "metadata": {},
     "output_type": "execute_result"
    }
   ],
   "source": [
    "# statement 7.\n",
    "\n",
    "model.add_all_different(\n",
    "    Name_CVT,\n",
    "    Ch_62\n",
    ")\n",
    "\n",
    "\n"
   ]
  },
  {
   "cell_type": "code",
   "execution_count": 51,
   "id": "b2c1b50c-8381-465b-ba43-9ad4bd3f5537",
   "metadata": {},
   "outputs": [],
   "source": [
    "### print out solutions"
   ]
  },
  {
   "cell_type": "code",
   "execution_count": 52,
   "id": "3f48fdbe-eecd-4cd9-a1e5-f5173e7a55fe",
   "metadata": {},
   "outputs": [],
   "source": [
    "# Solve and print out the solution.\n",
    "solver = cp_model.CpSolver()\n",
    "#status = solver.solve(model)\n",
    "#status = solver.SearchForAllSolutions(model, solution_printer)"
   ]
  },
  {
   "cell_type": "code",
   "execution_count": 53,
   "id": "e58aceff-14c5-41ff-aa33-0ad0af98dfad",
   "metadata": {},
   "outputs": [
    {
     "data": {
      "text/plain": [
       "4"
      ]
     },
     "execution_count": 53,
     "metadata": {},
     "output_type": "execute_result"
    }
   ],
   "source": [
    "#solution_collector = VarArraySolutionCollector(  all_the_variables  )\n",
    "\n",
    "\n",
    "solution_collector = VarArraySolutionCollector(  \n",
    "    all_the_variables + \n",
    "    aux_variables\n",
    ")\n",
    "\n",
    "\n",
    "solver.SearchForAllSolutions(model, solution_collector)"
   ]
  },
  {
   "cell_type": "code",
   "execution_count": 54,
   "id": "789fe540-dddd-4918-b40a-60a89ef2cf62",
   "metadata": {},
   "outputs": [
    {
     "data": {
      "text/plain": [
       "1"
      ]
     },
     "execution_count": 54,
     "metadata": {},
     "output_type": "execute_result"
    }
   ],
   "source": [
    "len(solution_collector.solution_list)"
   ]
  },
  {
   "cell_type": "code",
   "execution_count": 55,
   "id": "34efc0d3-afc8-4278-9fa5-146c2c7634f7",
   "metadata": {},
   "outputs": [
    {
     "name": "stdout",
     "output_type": "stream",
     "text": [
      "mil_1,mil_2,mil_3,mil_4,mil_5,Name_BNRG,Name_CVT,Name_KWTM,Name_PCR,Name_TWL,Ch_15,Ch_22,Ch_43,Ch_56,Ch_62,Show_Moneygab,Show_Ponyville,Show_Powertrips,Show_Soap_Suds,Show_Top_Chow,Powertrips_minus_1M,PCR_is_M3_viewers,PCR_is_Ch22,Moneygab_is_M3_viewers,Moneygab_is_Ch_22,Ch_15_is_KWTM,Ch_15_is_M1_viewers,Ponyville_is_M1_viewers,Ponyville_is_KWTM,\n"
     ]
    }
   ],
   "source": [
    "solution_collector.print_headers()"
   ]
  },
  {
   "cell_type": "code",
   "execution_count": 56,
   "id": "cc817046-5333-4045-9b9e-d51923dac600",
   "metadata": {},
   "outputs": [
    {
     "data": {
      "text/plain": [
       "['mil_1',\n",
       " 'mil_2',\n",
       " 'mil_3',\n",
       " 'mil_4',\n",
       " 'mil_5',\n",
       " 'Name_BNRG',\n",
       " 'Name_CVT',\n",
       " 'Name_KWTM',\n",
       " 'Name_PCR',\n",
       " 'Name_TWL',\n",
       " 'Ch_15',\n",
       " 'Ch_22',\n",
       " 'Ch_43',\n",
       " 'Ch_56',\n",
       " 'Ch_62',\n",
       " 'Show_Moneygab',\n",
       " 'Show_Ponyville',\n",
       " 'Show_Powertrips',\n",
       " 'Show_Soap_Suds',\n",
       " 'Show_Top_Chow',\n",
       " 'Powertrips_minus_1M',\n",
       " 'PCR_is_M3_viewers',\n",
       " 'PCR_is_Ch22',\n",
       " 'Moneygab_is_M3_viewers',\n",
       " 'Moneygab_is_Ch_22',\n",
       " 'Ch_15_is_KWTM',\n",
       " 'Ch_15_is_M1_viewers',\n",
       " 'Ponyville_is_M1_viewers',\n",
       " 'Ponyville_is_KWTM']"
      ]
     },
     "execution_count": 56,
     "metadata": {},
     "output_type": "execute_result"
    }
   ],
   "source": [
    "solution_collector.list_of_headers()\n"
   ]
  },
  {
   "cell_type": "code",
   "execution_count": 57,
   "id": "66e51680",
   "metadata": {},
   "outputs": [
    {
     "data": {
      "text/html": [
       "<div>\n",
       "<style scoped>\n",
       "    .dataframe tbody tr th:only-of-type {\n",
       "        vertical-align: middle;\n",
       "    }\n",
       "\n",
       "    .dataframe tbody tr th {\n",
       "        vertical-align: top;\n",
       "    }\n",
       "\n",
       "    .dataframe thead th {\n",
       "        text-align: right;\n",
       "    }\n",
       "</style>\n",
       "<table border=\"1\" class=\"dataframe\">\n",
       "  <thead>\n",
       "    <tr style=\"text-align: right;\">\n",
       "      <th></th>\n",
       "      <th>mil_1</th>\n",
       "      <th>mil_2</th>\n",
       "      <th>mil_3</th>\n",
       "      <th>mil_4</th>\n",
       "      <th>mil_5</th>\n",
       "      <th>Name_BNRG</th>\n",
       "      <th>Name_CVT</th>\n",
       "      <th>Name_KWTM</th>\n",
       "      <th>Name_PCR</th>\n",
       "      <th>Name_TWL</th>\n",
       "      <th>Ch_15</th>\n",
       "      <th>Ch_22</th>\n",
       "      <th>Ch_43</th>\n",
       "      <th>Ch_56</th>\n",
       "      <th>Ch_62</th>\n",
       "      <th>Show_Moneygab</th>\n",
       "      <th>Show_Ponyville</th>\n",
       "      <th>Show_Powertrips</th>\n",
       "      <th>Show_Soap_Suds</th>\n",
       "      <th>Show_Top_Chow</th>\n",
       "      <th>Powertrips_minus_1M</th>\n",
       "      <th>PCR_is_M3_viewers</th>\n",
       "      <th>PCR_is_Ch22</th>\n",
       "      <th>Moneygab_is_M3_viewers</th>\n",
       "      <th>Moneygab_is_Ch_22</th>\n",
       "      <th>Ch_15_is_KWTM</th>\n",
       "      <th>Ch_15_is_M1_viewers</th>\n",
       "      <th>Ponyville_is_M1_viewers</th>\n",
       "      <th>Ponyville_is_KWTM</th>\n",
       "    </tr>\n",
       "  </thead>\n",
       "  <tbody>\n",
       "    <tr>\n",
       "      <th>0</th>\n",
       "      <td>1</td>\n",
       "      <td>2</td>\n",
       "      <td>3</td>\n",
       "      <td>4</td>\n",
       "      <td>5</td>\n",
       "      <td>4</td>\n",
       "      <td>3</td>\n",
       "      <td>2</td>\n",
       "      <td>1</td>\n",
       "      <td>5</td>\n",
       "      <td>2</td>\n",
       "      <td>1</td>\n",
       "      <td>3</td>\n",
       "      <td>4</td>\n",
       "      <td>5</td>\n",
       "      <td>3</td>\n",
       "      <td>1</td>\n",
       "      <td>5</td>\n",
       "      <td>2</td>\n",
       "      <td>4</td>\n",
       "      <td>4</td>\n",
       "      <td>0</td>\n",
       "      <td>1</td>\n",
       "      <td>1</td>\n",
       "      <td>0</td>\n",
       "      <td>1</td>\n",
       "      <td>0</td>\n",
       "      <td>1</td>\n",
       "      <td>0</td>\n",
       "    </tr>\n",
       "  </tbody>\n",
       "</table>\n",
       "</div>"
      ],
      "text/plain": [
       "   mil_1  mil_2  mil_3  mil_4  mil_5  Name_BNRG  Name_CVT  Name_KWTM  \\\n",
       "0      1      2      3      4      5          4         3          2   \n",
       "\n",
       "   Name_PCR  Name_TWL  Ch_15  Ch_22  Ch_43  Ch_56  Ch_62  Show_Moneygab  \\\n",
       "0         1         5      2      1      3      4      5              3   \n",
       "\n",
       "   Show_Ponyville  Show_Powertrips  Show_Soap_Suds  Show_Top_Chow  \\\n",
       "0               1                5               2              4   \n",
       "\n",
       "   Powertrips_minus_1M  PCR_is_M3_viewers  PCR_is_Ch22  \\\n",
       "0                    4                  0            1   \n",
       "\n",
       "   Moneygab_is_M3_viewers  Moneygab_is_Ch_22  Ch_15_is_KWTM  \\\n",
       "0                       1                  0              1   \n",
       "\n",
       "   Ch_15_is_M1_viewers  Ponyville_is_M1_viewers  Ponyville_is_KWTM  \n",
       "0                    0                        1                  0  "
      ]
     },
     "execution_count": 57,
     "metadata": {},
     "output_type": "execute_result"
    }
   ],
   "source": [
    "\n",
    "\n",
    "solutions_df = pd.DataFrame(\n",
    "    data = solution_collector.solution_list,\n",
    "    columns = solution_collector.list_of_headers()\n",
    "    \n",
    ")\n",
    "solutions_df.shape\n",
    "\n",
    "solutions_df"
   ]
  },
  {
   "cell_type": "code",
   "execution_count": null,
   "id": "a5284da4-b4c4-4bdc-9eb3-83f0d9ed58c3",
   "metadata": {},
   "outputs": [],
   "source": []
  },
  {
   "cell_type": "code",
   "execution_count": null,
   "id": "5d2877f7-d78d-4236-9140-da07572e35af",
   "metadata": {},
   "outputs": [],
   "source": []
  },
  {
   "cell_type": "code",
   "execution_count": 46,
   "id": "30c6ada0-1cf2-4fcb-984e-2f00ff08b4fa",
   "metadata": {},
   "outputs": [
    {
     "data": {
      "text/plain": [
       "(29, 15)"
      ]
     },
     "execution_count": 46,
     "metadata": {},
     "output_type": "execute_result"
    }
   ],
   "source": [
    "solutions_df.T.shape"
   ]
  },
  {
   "cell_type": "code",
   "execution_count": 47,
   "id": "6f57411d-262d-41a7-91b5-a3c39311e8f3",
   "metadata": {},
   "outputs": [
    {
     "ename": "ValueError",
     "evalue": "Length mismatch: Expected axis has 15 elements, new values have 1 elements",
     "output_type": "error",
     "traceback": [
      "\u001b[1;31m---------------------------------------------------------------------------\u001b[0m",
      "\u001b[1;31mValueError\u001b[0m                                Traceback (most recent call last)",
      "Cell \u001b[1;32mIn[47], line 3\u001b[0m\n\u001b[0;32m      1\u001b[0m temp_transpose \u001b[38;5;241m=\u001b[39m solutions_df\u001b[38;5;241m.\u001b[39mT\n\u001b[1;32m----> 3\u001b[0m temp_transpose\u001b[38;5;241m.\u001b[39mcolumns \u001b[38;5;241m=\u001b[39m [\u001b[38;5;124m'\u001b[39m\u001b[38;5;124mcolumn_0\u001b[39m\u001b[38;5;124m'\u001b[39m]\n\u001b[0;32m      5\u001b[0m temp_transpose[\u001b[38;5;124m'\u001b[39m\u001b[38;5;124mindex\u001b[39m\u001b[38;5;124m'\u001b[39m] \u001b[38;5;241m=\u001b[39m temp_transpose\u001b[38;5;241m.\u001b[39mindex\n",
      "File \u001b[1;32m~\\anaconda3\\envs\\CP_SAT_2024_08_30\\Lib\\site-packages\\pandas\\core\\generic.py:6313\u001b[0m, in \u001b[0;36mNDFrame.__setattr__\u001b[1;34m(self, name, value)\u001b[0m\n\u001b[0;32m   6311\u001b[0m \u001b[38;5;28;01mtry\u001b[39;00m:\n\u001b[0;32m   6312\u001b[0m     \u001b[38;5;28mobject\u001b[39m\u001b[38;5;241m.\u001b[39m\u001b[38;5;21m__getattribute__\u001b[39m(\u001b[38;5;28mself\u001b[39m, name)\n\u001b[1;32m-> 6313\u001b[0m     \u001b[38;5;28;01mreturn\u001b[39;00m \u001b[38;5;28mobject\u001b[39m\u001b[38;5;241m.\u001b[39m\u001b[38;5;21m__setattr__\u001b[39m(\u001b[38;5;28mself\u001b[39m, name, value)\n\u001b[0;32m   6314\u001b[0m \u001b[38;5;28;01mexcept\u001b[39;00m \u001b[38;5;167;01mAttributeError\u001b[39;00m:\n\u001b[0;32m   6315\u001b[0m     \u001b[38;5;28;01mpass\u001b[39;00m\n",
      "File \u001b[1;32mproperties.pyx:69\u001b[0m, in \u001b[0;36mpandas._libs.properties.AxisProperty.__set__\u001b[1;34m()\u001b[0m\n",
      "File \u001b[1;32m~\\anaconda3\\envs\\CP_SAT_2024_08_30\\Lib\\site-packages\\pandas\\core\\generic.py:814\u001b[0m, in \u001b[0;36mNDFrame._set_axis\u001b[1;34m(self, axis, labels)\u001b[0m\n\u001b[0;32m    809\u001b[0m \u001b[38;5;250m\u001b[39m\u001b[38;5;124;03m\"\"\"\u001b[39;00m\n\u001b[0;32m    810\u001b[0m \u001b[38;5;124;03mThis is called from the cython code when we set the `index` attribute\u001b[39;00m\n\u001b[0;32m    811\u001b[0m \u001b[38;5;124;03mdirectly, e.g. `series.index = [1, 2, 3]`.\u001b[39;00m\n\u001b[0;32m    812\u001b[0m \u001b[38;5;124;03m\"\"\"\u001b[39;00m\n\u001b[0;32m    813\u001b[0m labels \u001b[38;5;241m=\u001b[39m ensure_index(labels)\n\u001b[1;32m--> 814\u001b[0m \u001b[38;5;28mself\u001b[39m\u001b[38;5;241m.\u001b[39m_mgr\u001b[38;5;241m.\u001b[39mset_axis(axis, labels)\n\u001b[0;32m    815\u001b[0m \u001b[38;5;28mself\u001b[39m\u001b[38;5;241m.\u001b[39m_clear_item_cache()\n",
      "File \u001b[1;32m~\\anaconda3\\envs\\CP_SAT_2024_08_30\\Lib\\site-packages\\pandas\\core\\internals\\managers.py:238\u001b[0m, in \u001b[0;36mBaseBlockManager.set_axis\u001b[1;34m(self, axis, new_labels)\u001b[0m\n\u001b[0;32m    236\u001b[0m \u001b[38;5;28;01mdef\u001b[39;00m \u001b[38;5;21mset_axis\u001b[39m(\u001b[38;5;28mself\u001b[39m, axis: AxisInt, new_labels: Index) \u001b[38;5;241m-\u001b[39m\u001b[38;5;241m>\u001b[39m \u001b[38;5;28;01mNone\u001b[39;00m:\n\u001b[0;32m    237\u001b[0m     \u001b[38;5;66;03m# Caller is responsible for ensuring we have an Index object.\u001b[39;00m\n\u001b[1;32m--> 238\u001b[0m     \u001b[38;5;28mself\u001b[39m\u001b[38;5;241m.\u001b[39m_validate_set_axis(axis, new_labels)\n\u001b[0;32m    239\u001b[0m     \u001b[38;5;28mself\u001b[39m\u001b[38;5;241m.\u001b[39maxes[axis] \u001b[38;5;241m=\u001b[39m new_labels\n",
      "File \u001b[1;32m~\\anaconda3\\envs\\CP_SAT_2024_08_30\\Lib\\site-packages\\pandas\\core\\internals\\base.py:98\u001b[0m, in \u001b[0;36mDataManager._validate_set_axis\u001b[1;34m(self, axis, new_labels)\u001b[0m\n\u001b[0;32m     95\u001b[0m     \u001b[38;5;28;01mpass\u001b[39;00m\n\u001b[0;32m     97\u001b[0m \u001b[38;5;28;01melif\u001b[39;00m new_len \u001b[38;5;241m!=\u001b[39m old_len:\n\u001b[1;32m---> 98\u001b[0m     \u001b[38;5;28;01mraise\u001b[39;00m \u001b[38;5;167;01mValueError\u001b[39;00m(\n\u001b[0;32m     99\u001b[0m         \u001b[38;5;124mf\u001b[39m\u001b[38;5;124m\"\u001b[39m\u001b[38;5;124mLength mismatch: Expected axis has \u001b[39m\u001b[38;5;132;01m{\u001b[39;00mold_len\u001b[38;5;132;01m}\u001b[39;00m\u001b[38;5;124m elements, new \u001b[39m\u001b[38;5;124m\"\u001b[39m\n\u001b[0;32m    100\u001b[0m         \u001b[38;5;124mf\u001b[39m\u001b[38;5;124m\"\u001b[39m\u001b[38;5;124mvalues have \u001b[39m\u001b[38;5;132;01m{\u001b[39;00mnew_len\u001b[38;5;132;01m}\u001b[39;00m\u001b[38;5;124m elements\u001b[39m\u001b[38;5;124m\"\u001b[39m\n\u001b[0;32m    101\u001b[0m     )\n",
      "\u001b[1;31mValueError\u001b[0m: Length mismatch: Expected axis has 15 elements, new values have 1 elements"
     ]
    }
   ],
   "source": [
    "temp_transpose = solutions_df.T\n",
    "\n",
    "temp_transpose.columns = ['column_0']\n",
    "\n",
    "temp_transpose['index'] = temp_transpose.index\n",
    "\n"
   ]
  },
  {
   "cell_type": "code",
   "execution_count": null,
   "id": "37d3dffd-ce80-43ac-bbf9-1c43fa925509",
   "metadata": {},
   "outputs": [],
   "source": [
    "def first_split(input):\n",
    "    return input.split(\"_\")[0]"
   ]
  },
  {
   "cell_type": "code",
   "execution_count": null,
   "id": "0df95e10-c508-40aa-afff-025513e9c2e3",
   "metadata": {},
   "outputs": [],
   "source": [
    "temp_transpose['first_split'] = temp_transpose['index'].apply(first_split)"
   ]
  },
  {
   "cell_type": "code",
   "execution_count": null,
   "id": "d9dde79e-a9f2-4747-ae25-1d5ee529e6a1",
   "metadata": {},
   "outputs": [],
   "source": [
    "sorted = temp_transpose.iloc[0:20].sort_values(['column_0','first_split'])\n",
    "\n",
    "sorted"
   ]
  },
  {
   "cell_type": "code",
   "execution_count": null,
   "id": "bb2c5796-9a0c-4c32-8183-4cf199ad7ef0",
   "metadata": {},
   "outputs": [],
   "source": [
    "index_list = sorted['index']\n",
    "\n"
   ]
  },
  {
   "cell_type": "code",
   "execution_count": null,
   "id": "b4141fc2-5726-4ac7-a480-849b84a5b3af",
   "metadata": {},
   "outputs": [],
   "source": [
    "column = [None]*5"
   ]
  },
  {
   "cell_type": "code",
   "execution_count": null,
   "id": "f80a0e7c-b83a-4568-9d70-7880c9cadc1c",
   "metadata": {},
   "outputs": [],
   "source": [
    "for i in range(4):\n",
    "    column[i] = index_list[i+0::4]\n",
    "    print (f\"column[{i}]\")\n",
    "    pprint (column[i])\n",
    "    print()\n",
    "\n",
    "\n"
   ]
  },
  {
   "cell_type": "code",
   "execution_count": null,
   "id": "4942c565-2fa3-43f9-bbae-29ff5f52e01a",
   "metadata": {},
   "outputs": [],
   "source": [
    "list(column[0])"
   ]
  },
  {
   "cell_type": "code",
   "execution_count": null,
   "id": "2e6e271a-b4ad-45b8-98cc-5d92e272fee6",
   "metadata": {},
   "outputs": [],
   "source": [
    "final_grid_df = pd.DataFrame(\n",
    "    data = {\n",
    "        'Channel' : list(column[0]),\n",
    "        'Name'    : list(column[1]),\n",
    "        'Show'    : list(column[2]),\n",
    "        'Size'    : list(column[3]),\n",
    "    }\n",
    ")\n",
    "\n",
    "final_grid_df[['Size','Name','Show','Channel',\t\t\t]]"
   ]
  },
  {
   "cell_type": "code",
   "execution_count": null,
   "id": "5f92f044-eadd-4b0b-aef6-7f6a2670ee6c",
   "metadata": {},
   "outputs": [],
   "source": []
  },
  {
   "cell_type": "code",
   "execution_count": null,
   "id": "3ca40a47-dc1e-4f16-92cc-b5e4d3ea4c1b",
   "metadata": {},
   "outputs": [],
   "source": [
    "temp_transpose.pivot(\n",
    "    index='column_0',\n",
    "    columns='first_split',\n",
    "    values='index'\n",
    "\n",
    "    \n",
    ")"
   ]
  },
  {
   "cell_type": "code",
   "execution_count": null,
   "id": "45506dd7-afd5-4341-8821-5f866cd6e057",
   "metadata": {},
   "outputs": [],
   "source": []
  },
  {
   "cell_type": "code",
   "execution_count": null,
   "id": "cd38ffa1-3464-4fe3-9d31-614a02ede465",
   "metadata": {},
   "outputs": [],
   "source": [
    "temp_transpose.iloc[0:24].sort_values(0)"
   ]
  },
  {
   "cell_type": "code",
   "execution_count": null,
   "id": "bec8172e-c065-413c-baee-934c22d7d1e6",
   "metadata": {},
   "outputs": [],
   "source": []
  },
  {
   "cell_type": "code",
   "execution_count": null,
   "id": "7eba5f12-13c5-4822-b162-9e5d98b4c24a",
   "metadata": {},
   "outputs": [],
   "source": [
    "pd.melt(solutions_df.T, id_vars=['0'], value_vars=[''])"
   ]
  },
  {
   "cell_type": "code",
   "execution_count": null,
   "id": "0b890457-3045-4389-8e4a-b09aabfb43dc",
   "metadata": {},
   "outputs": [],
   "source": []
  },
  {
   "cell_type": "code",
   "execution_count": null,
   "id": "cc303d1f-babb-46b3-9c40-65e8d4ffb86a",
   "metadata": {},
   "outputs": [],
   "source": [
    "#pd.melt(solutions_df, id_vars=['A'], value_vars=[''])"
   ]
  },
  {
   "cell_type": "code",
   "execution_count": null,
   "id": "ef2b40df-9e8b-4c81-85b4-1c6627446037",
   "metadata": {},
   "outputs": [],
   "source": [
    "solutions_df[all_the_variables]"
   ]
  },
  {
   "cell_type": "code",
   "execution_count": null,
   "id": "91aa7540-808a-4f98-b9ad-1f78ab532b3c",
   "metadata": {},
   "outputs": [],
   "source": [
    "solutions_df[all_the_variables].T.sort_values([0])"
   ]
  },
  {
   "cell_type": "code",
   "execution_count": null,
   "id": "d962ea43-2574-49b0-877e-77c00da36016",
   "metadata": {},
   "outputs": [],
   "source": [
    "solutions_df[solutions_df['Wrecker'] == solutions_df['D']]"
   ]
  },
  {
   "cell_type": "code",
   "execution_count": null,
   "id": "19650e30-00d5-4fbc-b019-5141c7a22cad",
   "metadata": {},
   "outputs": [],
   "source": [
    "solutions_df[['D','Jackie','Three','Wrecker','Wrecker_is_D_type',\t'Wrecker_is_Three',\t'Jackie_is_D_type',\t'Jackie_is_Three']]"
   ]
  },
  {
   "cell_type": "code",
   "execution_count": null,
   "id": "8069d93f-e738-43b3-93f3-4fc50340170a",
   "metadata": {},
   "outputs": [],
   "source": [
    "solutions_df.sample(n=8)"
   ]
  },
  {
   "cell_type": "code",
   "execution_count": null,
   "id": "8603807e-dcf9-4a61-88e5-608fbfe5f4f9",
   "metadata": {},
   "outputs": [],
   "source": [
    "solutions_df.head()"
   ]
  },
  {
   "cell_type": "code",
   "execution_count": null,
   "id": "bde0ef7c-7cda-4621-96b3-15017cd70513",
   "metadata": {},
   "outputs": [],
   "source": [
    "## Scratchpad"
   ]
  },
  {
   "cell_type": "code",
   "execution_count": null,
   "id": "60cefced-1306-4052-8794-c3bedcefec35",
   "metadata": {},
   "outputs": [],
   "source": [
    "assert (False, \"scratch below here\")"
   ]
  },
  {
   "cell_type": "code",
   "execution_count": null,
   "id": "3f58b0df-f580-4c65-bd00-48be1a5acb73",
   "metadata": {},
   "outputs": [],
   "source": [
    "##  scratchpad below here"
   ]
  },
  {
   "cell_type": "code",
   "execution_count": null,
   "id": "4ed3cf6e",
   "metadata": {},
   "outputs": [],
   "source": [
    "#\n",
    "## comment out?\n",
    "#\n",
    "\n",
    "diff_fox_chesterfields = model.new_int_var(-4, 4, \"diff_fox_chesterfields\")\n",
    "model.add(diff_fox_chesterfields == fox - chesterfields)\n",
    "model.add_abs_equality(1, diff_fox_chesterfields)\n"
   ]
  },
  {
   "cell_type": "code",
   "execution_count": null,
   "id": "59231b09",
   "metadata": {},
   "outputs": [],
   "source": [
    "#\n",
    "## comment out\n",
    "#\n",
    "\n",
    "diff_horse_kools = model.new_int_var(-4, 4, \"diff_horse_kools\")\n",
    "model.add(diff_horse_kools == horse - kools)\n",
    "model.add_abs_equality(1, diff_horse_kools)"
   ]
  },
  {
   "cell_type": "code",
   "execution_count": null,
   "id": "8908aa5d",
   "metadata": {},
   "outputs": [],
   "source": [
    "#\n",
    "## comment out\n",
    "#\n",
    "\n",
    "#model.add(lucky_strike == fruit_juice)\n",
    "model.add(japanese == parliaments)"
   ]
  },
  {
   "cell_type": "code",
   "execution_count": null,
   "id": "37a7a4c6",
   "metadata": {},
   "outputs": [],
   "source": [
    "#\n",
    "## comment out\n",
    "#\n",
    "\n",
    "diff_norwegian_blue = model.new_int_var(-4, 4, \"diff_norwegian_blue\")\n",
    "model.add(diff_norwegian_blue == norwegian - blue)\n",
    "model.add_abs_equality(1, diff_norwegian_blue)\n"
   ]
  },
  {
   "cell_type": "code",
   "execution_count": null,
   "id": "66a7fb9d",
   "metadata": {
    "scrolled": true
   },
   "outputs": [],
   "source": [
    "# Solve and print out the solution.\n",
    "solver = cp_model.CpSolver()\n",
    "#status = solver.solve(model)\n",
    "#status = solver.SearchForAllSolutions(model, solution_printer)"
   ]
  },
  {
   "cell_type": "code",
   "execution_count": null,
   "id": "44db250c",
   "metadata": {},
   "outputs": [],
   "source": [
    "solution_collector = VarArraySolutionCollector(  all_the_variables  )\n",
    "solver.SearchForAllSolutions(model, solution_collector)"
   ]
  },
  {
   "cell_type": "code",
   "execution_count": null,
   "id": "ebd4f29d",
   "metadata": {},
   "outputs": [],
   "source": [
    "len(solution_collector.solution_list)"
   ]
  },
  {
   "cell_type": "code",
   "execution_count": null,
   "id": "8ee97af3",
   "metadata": {},
   "outputs": [],
   "source": [
    "solution_collector.print_headers()"
   ]
  },
  {
   "cell_type": "code",
   "execution_count": null,
   "id": "31475021",
   "metadata": {},
   "outputs": [],
   "source": [
    "solution_collector.list_of_headers()"
   ]
  },
  {
   "cell_type": "code",
   "execution_count": null,
   "id": "44094d2d-03a4-42bf-92e3-94882c822c0e",
   "metadata": {},
   "outputs": [],
   "source": []
  },
  {
   "cell_type": "code",
   "execution_count": null,
   "id": "19339d6f",
   "metadata": {},
   "outputs": [],
   "source": [
    "import pandas as pd"
   ]
  },
  {
   "cell_type": "code",
   "execution_count": null,
   "id": "e1b91dde",
   "metadata": {},
   "outputs": [],
   "source": [
    "solutions_df = pd.DataFrame(\n",
    "    data = solution_collector.solution_list,\n",
    "    columns = solution_collector.list_of_headers()\n",
    "    \n",
    ")\n",
    "solutions_df.shape"
   ]
  },
  {
   "cell_type": "code",
   "execution_count": null,
   "id": "2a1998cf",
   "metadata": {},
   "outputs": [],
   "source": [
    "solutions_df"
   ]
  },
  {
   "cell_type": "code",
   "execution_count": null,
   "id": "aac981e8",
   "metadata": {},
   "outputs": [],
   "source": [
    "solution_collector.solution_list"
   ]
  },
  {
   "cell_type": "code",
   "execution_count": null,
   "id": "ef2b73fc",
   "metadata": {},
   "outputs": [],
   "source": [
    "# print\n",
    "#  status = solver.SearchForAllSolutions(model, solution_printer)"
   ]
  },
  {
   "cell_type": "code",
   "execution_count": null,
   "id": "e773c682",
   "metadata": {},
   "outputs": [],
   "source": [
    "[p for p in people if solver.value(p) == solver.value(water)]"
   ]
  },
  {
   "cell_type": "code",
   "execution_count": null,
   "id": "5102dcb3",
   "metadata": {},
   "outputs": [],
   "source": []
  },
  {
   "cell_type": "code",
   "execution_count": null,
   "id": "2c943cf5",
   "metadata": {},
   "outputs": [],
   "source": []
  },
  {
   "cell_type": "code",
   "execution_count": null,
   "id": "c31a8d89",
   "metadata": {},
   "outputs": [],
   "source": []
  },
  {
   "cell_type": "code",
   "execution_count": null,
   "id": "44047a16",
   "metadata": {},
   "outputs": [],
   "source": [
    "[p for p in people if solver.value(p) == solver.value(zebra)]"
   ]
  },
  {
   "cell_type": "code",
   "execution_count": null,
   "id": "f46827f1",
   "metadata": {},
   "outputs": [],
   "source": [
    "\n",
    "water_drinker = [p for p in people if solver.value(p) == solver.value(water)][0]\n",
    "zebra_owner = [p for p in people if solver.value(p) == solver.value(zebra)][0]\n",
    "print(\"The\", water_drinker.name, \"drinks water.\")\n",
    "print(\"The\", zebra_owner.name, \"owns the zebra.\")\n"
   ]
  },
  {
   "cell_type": "code",
   "execution_count": null,
   "id": "cdbc6ad9",
   "metadata": {},
   "outputs": [],
   "source": []
  },
  {
   "cell_type": "code",
   "execution_count": null,
   "id": "65f914ae",
   "metadata": {},
   "outputs": [],
   "source": []
  },
  {
   "cell_type": "code",
   "execution_count": null,
   "id": "c34e1afc",
   "metadata": {},
   "outputs": [],
   "source": []
  },
  {
   "cell_type": "code",
   "execution_count": null,
   "id": "8e46d928",
   "metadata": {},
   "outputs": [],
   "source": [
    "model.add_all_different(red, green, yellow, blue, ivory)"
   ]
  },
  {
   "cell_type": "code",
   "execution_count": null,
   "id": "45eec57f",
   "metadata": {},
   "outputs": [],
   "source": [
    "solver = cp_model.CpSolver()\n",
    "status = solver.solve(model)"
   ]
  },
  {
   "cell_type": "code",
   "execution_count": null,
   "id": "6c64c054",
   "metadata": {},
   "outputs": [],
   "source": [
    "solver.value(water)"
   ]
  },
  {
   "cell_type": "code",
   "execution_count": null,
   "id": "baed6415",
   "metadata": {},
   "outputs": [],
   "source": [
    "status = solver.solve(model)\n",
    "status"
   ]
  },
  {
   "cell_type": "code",
   "execution_count": null,
   "id": "958b78c0",
   "metadata": {},
   "outputs": [],
   "source": [
    "people = [englishman, spaniard, japanese, ukrainian, norwegian]\n",
    "water_drinker = [p for p in people if solver.value(p) == solver.value(water)][0]\n",
    "\n"
   ]
  },
  {
   "cell_type": "code",
   "execution_count": null,
   "id": "b24ab1c9",
   "metadata": {},
   "outputs": [],
   "source": [
    "water_drinker = [p for p in people if solver.value(p) == solver.value(water)]\n",
    "print(water_drinker[0])\n",
    "water_drinker"
   ]
  },
  {
   "cell_type": "code",
   "execution_count": null,
   "id": "23d3a13b",
   "metadata": {},
   "outputs": [],
   "source": [
    "zebra_owner = [p for p in people if solver.value(p) == solver.value(zebra)]\n",
    "print(zebra_owner [0])\n",
    "zebra_owner "
   ]
  },
  {
   "cell_type": "code",
   "execution_count": null,
   "id": "1a2b65a9",
   "metadata": {},
   "outputs": [],
   "source": [
    "#print(\"The\", water_drinker.name, \"drinks water.\")\n",
    "#print(\"The\", zebra_owner.name, \"owns the zebra.\")"
   ]
  },
  {
   "cell_type": "code",
   "execution_count": null,
   "id": "ccb539ba",
   "metadata": {},
   "outputs": [],
   "source": [
    "red"
   ]
  },
  {
   "cell_type": "code",
   "execution_count": null,
   "id": "f7966b9a",
   "metadata": {},
   "outputs": [],
   "source": [
    "house_colors = [\n",
    "red ,\n",
    "green ,\n",
    "yellow ,\n",
    "blue ,\n",
    "ivory ,\n",
    "   \n",
    "]\n",
    "\n",
    "[(solver.value(color),color) for color in house_colors]"
   ]
  },
  {
   "cell_type": "code",
   "execution_count": null,
   "id": "7b597861",
   "metadata": {},
   "outputs": [],
   "source": [
    "people = [\n",
    "englishman,\n",
    "spaniard,\n",
    "japanese,\n",
    "ukrainian,\n",
    "norwegian,\n",
    "   \n",
    "]\n",
    "\n",
    "[(solver.value(person),person) for person in people]"
   ]
  },
  {
   "cell_type": "code",
   "execution_count": null,
   "id": "8e9950a2",
   "metadata": {},
   "outputs": [],
   "source": [
    "animals = [\n",
    "\n",
    "dog,\n",
    "snails,\n",
    "fox,\n",
    "zebra,\n",
    "horse,\n",
    "]\n",
    "\n",
    "[(solver.value(animal),animal) for animal in animals]\n"
   ]
  },
  {
   "cell_type": "code",
   "execution_count": null,
   "id": "ebf7c993",
   "metadata": {},
   "outputs": [],
   "source": [
    "drinks = [\n",
    "tea,\n",
    "coffee,\n",
    "water,\n",
    "milk,\n",
    "fruit_juice,\n",
    "    \n",
    "]\n",
    "\n",
    "[(solver.value(drink),drink) for drink in drinks]"
   ]
  },
  {
   "cell_type": "code",
   "execution_count": null,
   "id": "c38d9bba",
   "metadata": {},
   "outputs": [],
   "source": [
    "\n",
    "smokes = [\n",
    "\n",
    "old_gold,\n",
    "kools,\n",
    "chesterfields,\n",
    "lucky_strike,\n",
    "parliaments,\n",
    "\n",
    "]\n",
    "\n",
    "[(solver.value(smoke),smoke) for smoke in smokes]\n"
   ]
  },
  {
   "cell_type": "code",
   "execution_count": null,
   "id": "4b168492",
   "metadata": {},
   "outputs": [],
   "source": [
    "### "
   ]
  },
  {
   "cell_type": "code",
   "execution_count": null,
   "id": "c805c8f2",
   "metadata": {},
   "outputs": [],
   "source": [
    "from ortools.sat.python import cp_model\n",
    "\n",
    "model = cp_model.CpModel()\n",
    "solver = cp_model.CpSolver()\n",
    "\n",
    "\n",
    "a = model.NewBoolVar(\"\")\n",
    "b = model.NewBoolVar(\"\")\n",
    "c = model.NewBoolVar(\"\")\n",
    "model.AddBoolXOr([a, b, c, 1])\n",
    "\n",
    "solver.Solve(model)\n",
    "\n",
    "print([solver.Value(x) for x in (a, b, c)])"
   ]
  },
  {
   "cell_type": "code",
   "execution_count": null,
   "id": "95386dd4",
   "metadata": {},
   "outputs": [],
   "source": []
  },
  {
   "cell_type": "code",
   "execution_count": null,
   "id": "f3b050c5",
   "metadata": {},
   "outputs": [],
   "source": []
  },
  {
   "cell_type": "code",
   "execution_count": null,
   "id": "2ac9167e",
   "metadata": {},
   "outputs": [],
   "source": []
  },
  {
   "cell_type": "code",
   "execution_count": null,
   "id": "dda3fcc2",
   "metadata": {},
   "outputs": [],
   "source": []
  }
 ],
 "metadata": {
  "kernelspec": {
   "display_name": "Python 3 (ipykernel)",
   "language": "python",
   "name": "python3"
  },
  "language_info": {
   "codemirror_mode": {
    "name": "ipython",
    "version": 3
   },
   "file_extension": ".py",
   "mimetype": "text/x-python",
   "name": "python",
   "nbconvert_exporter": "python",
   "pygments_lexer": "ipython3",
   "version": "3.12.4"
  }
 },
 "nbformat": 4,
 "nbformat_minor": 5
}
