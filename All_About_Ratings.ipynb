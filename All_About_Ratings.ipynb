{
 "cells": [
  {
   "cell_type": "code",
   "execution_count": 1,
   "id": "8038facb",
   "metadata": {},
   "outputs": [],
   "source": [
    "intent_2024_10_07 = \"\"\"\n",
    "\n",
    "Solving \"It's all about the ratings\" page 200 in the logic puzzles book. The book lists this one as the \\\n",
    "most difficult puzzle in the book 41 minutes solve time.\n",
    "\n",
    "There are 5 audience sizes (in millions)\n",
    "    \"mil_1\"\n",
    "    \"mil_2\"\n",
    "    \"mil_3\"\n",
    "    \"mil_4\"\n",
    "    \"mil_5\"\n",
    "\n",
    "There are 5 Channel Names:\n",
    "    \"Name_BNRG\"\n",
    "    \"Name_CVT\"\n",
    "    \"Name_KWTM\"\n",
    "    \"Name_PCR\"\n",
    "    \"Name_TWL\"\n",
    "\n",
    "There are 5 Channel Numbers:\n",
    "    \"Ch_15\"\n",
    "    \"Ch_22\"\n",
    "    \"Ch_43\"\n",
    "    \"Ch_56\"\n",
    "    \"Ch_62\"\n",
    "\n",
    "There are 5 different shows:\n",
    "    \"Show_Moneygab\"\n",
    "    \"Show_Ponyville\"\n",
    "    \"Show_Powertrips\"\n",
    "    \"Show_Soap_Suds\"\n",
    "    \"Show_Top_Chow\"\n",
    "\n",
    "\n",
    "The clues are in 7 statements:\n",
    "\n",
    "# statement #1\n",
    "#\n",
    "# 'Soap Suds' (which doesn't have the most viewers) doesn't air on BNRG, which has one million fewer \\\n",
    "#     viewers than the channel that airs 'Powertrips'\n",
    "\n",
    "# statement 2.\n",
    "#\n",
    "# Channel #22 has fewer viewers than channel that airs Top Chow, which has fewer \\\n",
    "#   viewers than TWL\n",
    "\n",
    "# statement 3.\n",
    "#\n",
    "# TWL, which isn't carried on channel #56, boasts the most viewers of all five \\\n",
    "#   channels\n",
    "\n",
    "# statement 4.\n",
    "#\n",
    "# Between PCR and the channel the airs Moneygab, one has three million viewers \\\n",
    "#   and the other is on channel #22\n",
    "\n",
    "# statement 5.\n",
    "#\n",
    "# Of channel #15 and the station that airs Ponyville, one is KWTM and the other \\\n",
    "#   has the smallest viewership of all five channels\n",
    "\n",
    "# statement 6.\n",
    "#\n",
    "# Moneygab doesn't air on either channel #15 or channel #56\n",
    "\n",
    "# statement 7.\n",
    "#\n",
    "# CVT isn't carried on channel #62\n",
    "\n",
    "\n",
    "This is bit more difficult to solve googling around and using Kruple's book [https://github.com/d-krupke/cpsat-primer]\n",
    "\n",
    "It can be interesting to comment out some of the clues from the puzzle and see how many solutions remain \n",
    "\n",
    "\"\"\""
   ]
  },
  {
   "cell_type": "code",
   "execution_count": 2,
   "id": "dd404710",
   "metadata": {},
   "outputs": [],
   "source": [
    "from pprint import pprint"
   ]
  },
  {
   "cell_type": "code",
   "execution_count": 3,
   "id": "dee5fa86",
   "metadata": {},
   "outputs": [],
   "source": [
    "import pandas as pd\n",
    "\n",
    "pd.set_option('display.max_columns', 30)\n"
   ]
  },
  {
   "cell_type": "code",
   "execution_count": 4,
   "id": "9d0c1bb0",
   "metadata": {},
   "outputs": [],
   "source": [
    "from ortools.sat.python import cp_model"
   ]
  },
  {
   "cell_type": "code",
   "execution_count": 5,
   "id": "3369f7ca",
   "metadata": {},
   "outputs": [],
   "source": [
    "#\n",
    "# putting in the multisolution\n",
    "#"
   ]
  },
  {
   "cell_type": "code",
   "execution_count": 6,
   "id": "a11112b0",
   "metadata": {},
   "outputs": [],
   "source": [
    "# Create the model.\n",
    "model = cp_model.CpModel()\n"
   ]
  },
  {
   "cell_type": "code",
   "execution_count": 7,
   "id": "8109832a",
   "metadata": {},
   "outputs": [],
   "source": [
    "class VarArraySolutionCollector(cp_model.CpSolverSolutionCallback):\n",
    "\n",
    "    def __init__(self, variables):\n",
    "        cp_model.CpSolverSolutionCallback.__init__(self)\n",
    "        self.__variables = variables\n",
    "        self.solution_list = []\n",
    "\n",
    "    def on_solution_callback(self):\n",
    "        self.solution_list.append([self.Value(v) for v in self.__variables])\n",
    "\n",
    "    def print_headers(self):\n",
    "        for var in self.__variables:\n",
    "            print (f\"{var.name},\",end='')\n",
    "        print (\"\")\n",
    "\n",
    "    def list_of_headers(self):\n",
    "        return_list = [\n",
    "            str (var.name) \n",
    "            for \n",
    "            var in \n",
    "            self.__variables\n",
    "        ]\n",
    "        return return_list\n"
   ]
  },
  {
   "cell_type": "markdown",
   "id": "b0ad4c6f-35b4-4c73-91af-1c4b37e5ad64",
   "metadata": {},
   "source": [
    "## set up standard format that is common for this style of logic puzzle"
   ]
  },
  {
   "cell_type": "code",
   "execution_count": 8,
   "id": "b84aa52d",
   "metadata": {},
   "outputs": [],
   "source": [
    "# 1 through 5 -- will use the audience sizes as the number "
   ]
  },
  {
   "cell_type": "code",
   "execution_count": 9,
   "id": "38d4dbc9",
   "metadata": {},
   "outputs": [],
   "source": [
    "    M1_viewers = model.new_int_var(1, 5, \"mil_1\")\n",
    "    M2_viewers  = model.new_int_var(1, 5, \"mil_2\")\n",
    "    M3_viewers  = model.new_int_var(1, 5, \"mil_3\")\n",
    "    M4_viewers = model.new_int_var(1, 5, \"mil_4\")\n",
    "    M5_viewers  = model.new_int_var(1, 5, \"mil_5\")\n",
    "\n",
    "\n",
    "Num_Viewers = [\n",
    "    M1_viewers,\n",
    "    M2_viewers,\n",
    "    M3_viewers,\n",
    "    M4_viewers,\n",
    "    M5_viewers,\n",
    "]"
   ]
  },
  {
   "cell_type": "code",
   "execution_count": 10,
   "id": "08b0afa6",
   "metadata": {},
   "outputs": [],
   "source": [
    "\n",
    "Name_BNRG = model.new_int_var(1, 5, \"Name_BNRG\")\n",
    "Name_CVT  = model.new_int_var(1, 5, \"Name_CVT\")\n",
    "Name_KWTM = model.new_int_var(1, 5, \"Name_KWTM\")\n",
    "Name_PCR  = model.new_int_var(1, 5, \"Name_PCR\")\n",
    "Name_TWL  = model.new_int_var(1, 5, \"Name_TWL\")\n",
    "\n",
    "Channel_Names = [\n",
    "    Name_BNRG ,\n",
    "    Name_CVT ,\n",
    "    Name_KWTM,\n",
    "    Name_PCR,\n",
    "    Name_TWL,\n",
    "\n",
    "]"
   ]
  },
  {
   "cell_type": "code",
   "execution_count": 11,
   "id": "a42c1d7e",
   "metadata": {},
   "outputs": [
    {
     "data": {
      "text/plain": [
       "[Ch_15(1..5), Ch_22(1..5), Ch_43(1..5), Ch_56(1..5), Ch_62(1..5)]"
      ]
     },
     "execution_count": 11,
     "metadata": {},
     "output_type": "execute_result"
    }
   ],
   "source": [
    "\n",
    "Ch_15 = model.new_int_var(1, 5, \"Ch_15\")\n",
    "Ch_22 = model.new_int_var(1, 5, \"Ch_22\")\n",
    "Ch_43 = model.new_int_var(1, 5, \"Ch_43\")\n",
    "Ch_56 = model.new_int_var(1, 5, \"Ch_56\")\n",
    "Ch_62 = model.new_int_var(1, 5, \"Ch_62\")\n",
    "\n",
    "Channel_Numbers = [\n",
    "    Ch_15,\n",
    "    Ch_22,\n",
    "    Ch_43,\n",
    "    Ch_56,\n",
    "    Ch_62,\n",
    "]\n",
    "\n",
    "Channel_Numbers"
   ]
  },
  {
   "cell_type": "code",
   "execution_count": 12,
   "id": "3897c4e9",
   "metadata": {},
   "outputs": [
    {
     "data": {
      "text/plain": [
       "[Show_Moneygab(1..5),\n",
       " Show_Ponyville(1..5),\n",
       " Show_Powertrips(1..5),\n",
       " Show_Soap_Suds(1..5),\n",
       " Show_Top_Chow(1..5)]"
      ]
     },
     "execution_count": 12,
     "metadata": {},
     "output_type": "execute_result"
    }
   ],
   "source": [
    "\n",
    "Show_Moneygab   = model.new_int_var(1, 5, \"Show_Moneygab\")\n",
    "Show_Ponyville  = model.new_int_var(1, 5, \"Show_Ponyville\")\n",
    "Show_Powertrips = model.new_int_var(1, 5, \"Show_Powertrips\")\n",
    "Show_Soap_Suds  = model.new_int_var(1, 5, \"Show_Soap_Suds\")\n",
    "Show_Top_Chow   = model.new_int_var(1, 5, \"Show_Top_Chow\")\n",
    "\n",
    "\n",
    "Shows = [\n",
    "    Show_Moneygab,\n",
    "    Show_Ponyville,\n",
    "    Show_Powertrips,\n",
    "    Show_Soap_Suds,\n",
    "    Show_Top_Chow,\n",
    "]\n",
    "\n",
    "Shows"
   ]
  },
  {
   "cell_type": "code",
   "execution_count": 13,
   "id": "57328615",
   "metadata": {},
   "outputs": [
    {
     "data": {
      "text/plain": [
       "[mil_1(1..5),\n",
       " mil_2(1..5),\n",
       " mil_3(1..5),\n",
       " mil_4(1..5),\n",
       " mil_5(1..5),\n",
       " Name_BNRG(1..5),\n",
       " Name_CVT(1..5),\n",
       " Name_KWTM(1..5),\n",
       " Name_PCR(1..5),\n",
       " Name_TWL(1..5),\n",
       " Ch_15(1..5),\n",
       " Ch_22(1..5),\n",
       " Ch_43(1..5),\n",
       " Ch_56(1..5),\n",
       " Ch_62(1..5),\n",
       " Show_Moneygab(1..5),\n",
       " Show_Ponyville(1..5),\n",
       " Show_Powertrips(1..5),\n",
       " Show_Soap_Suds(1..5),\n",
       " Show_Top_Chow(1..5)]"
      ]
     },
     "execution_count": 13,
     "metadata": {},
     "output_type": "execute_result"
    }
   ],
   "source": [
    "all_the_variables = (\n",
    "    Num_Viewers +\n",
    "    Channel_Names  + \n",
    "    Channel_Numbers  + \n",
    "    Shows\n",
    ")\n",
    "all_the_variables"
   ]
  },
  {
   "cell_type": "code",
   "execution_count": 14,
   "id": "a2a70d04",
   "metadata": {},
   "outputs": [],
   "source": [
    "#all_the_variables_plus += all_the_variables\n"
   ]
  },
  {
   "cell_type": "code",
   "execution_count": 15,
   "id": "b051be2d-07bc-430f-9898-f7af23e2279e",
   "metadata": {},
   "outputs": [],
   "source": [
    "aux_variables = []"
   ]
  },
  {
   "cell_type": "code",
   "execution_count": 16,
   "id": "bb29cb3a",
   "metadata": {},
   "outputs": [
    {
     "data": {
      "text/plain": [
       "mil_1(1..5)"
      ]
     },
     "execution_count": 16,
     "metadata": {},
     "output_type": "execute_result"
    }
   ],
   "source": [
    "all_the_variables[0]"
   ]
  },
  {
   "cell_type": "code",
   "execution_count": 17,
   "id": "9057df8f",
   "metadata": {},
   "outputs": [],
   "source": [
    "# Create a solver and solve.\n",
    "#solver = cp_model.CpSolver()\n",
    "solution_printer = cp_model.VarArraySolutionPrinter(\n",
    "    all_the_variables\n",
    ")\n"
   ]
  },
  {
   "cell_type": "code",
   "execution_count": 18,
   "id": "9c58940e",
   "metadata": {},
   "outputs": [],
   "source": [
    "#model.add_all_different(Types)"
   ]
  },
  {
   "cell_type": "code",
   "execution_count": 19,
   "id": "5a0d15e2",
   "metadata": {},
   "outputs": [
    {
     "data": {
      "text/plain": [
       "<ortools.sat.python.cp_model.Constraint at 0x29e9524d3d0>"
      ]
     },
     "execution_count": 19,
     "metadata": {},
     "output_type": "execute_result"
    }
   ],
   "source": [
    "model.add_all_different(Num_Viewers)\n",
    "model.add_all_different(Channel_Names)\n",
    "model.add_all_different(Channel_Numbers)\n",
    "model.add_all_different(Shows)\n"
   ]
  },
  {
   "cell_type": "code",
   "execution_count": 20,
   "id": "b67c522c-5328-4569-8ada-90568eaaee74",
   "metadata": {},
   "outputs": [
    {
     "data": {
      "text/plain": [
       "<ortools.sat.python.cp_model.Constraint at 0x29e9529ae40>"
      ]
     },
     "execution_count": 20,
     "metadata": {},
     "output_type": "execute_result"
    }
   ],
   "source": [
    "# setting the rows by audience size\n",
    "\n",
    "model.Add (M1_viewers == 1)\n",
    "model.Add (M2_viewers == 2)\n",
    "model.Add (M3_viewers == 3)\n",
    "model.Add (M4_viewers == 4)\n",
    "model.Add (M5_viewers == 5)\n"
   ]
  },
  {
   "cell_type": "markdown",
   "id": "24d6ecd0-b8ef-4c20-88cb-4dcd479c7437",
   "metadata": {},
   "source": [
    "## adding the clues that particular to this puzzle"
   ]
  },
  {
   "cell_type": "code",
   "execution_count": 21,
   "id": "12cd5fa2",
   "metadata": {},
   "outputs": [
    {
     "data": {
      "text/plain": [
       "<ortools.sat.python.cp_model.Constraint at 0x29e94d90230>"
      ]
     },
     "execution_count": 21,
     "metadata": {},
     "output_type": "execute_result"
    }
   ],
   "source": [
    "# statement #1\n",
    "\n",
    "# 'Soap Suds' (which doesn't have the most viewers) doesn't air on BNRG, which has one million fewer \\\n",
    "#     viewers than the channel that airs 'Powertrips'\n",
    "\n",
    "\n",
    "model.add_all_different(\n",
    "    Show_Soap_Suds,\n",
    "    Name_BNRG,\n",
    "\n",
    ")\n",
    "\n",
    "model.Add(Name_BNRG == Show_Powertrips - 1)\n",
    "\n",
    "# \n",
    "\n",
    "model.add_all_different(\n",
    "    Show_Soap_Suds,\n",
    "    M5_viewers\n",
    ")\n",
    "\n"
   ]
  },
  {
   "cell_type": "code",
   "execution_count": 22,
   "id": "b178c536",
   "metadata": {},
   "outputs": [
    {
     "data": {
      "text/plain": [
       "<ortools.sat.python.cp_model.Constraint at 0x29e95298a40>"
      ]
     },
     "execution_count": 22,
     "metadata": {},
     "output_type": "execute_result"
    }
   ],
   "source": [
    "# statement 2.\n",
    "\n",
    "# Channel #22 has fewer viewers than the channel that airs Top Chow, which has fewer viewers than TWL\n",
    "\n",
    "model.Add(Ch_22<Show_Top_Chow )\n",
    "model.Add(Show_Top_Chow < Name_TWL )\n",
    "\n",
    "\n"
   ]
  },
  {
   "cell_type": "code",
   "execution_count": 23,
   "id": "a88aa86d",
   "metadata": {},
   "outputs": [
    {
     "data": {
      "text/plain": [
       "<ortools.sat.python.cp_model.Constraint at 0x29e952c8b30>"
      ]
     },
     "execution_count": 23,
     "metadata": {},
     "output_type": "execute_result"
    }
   ],
   "source": [
    "# statement 3.\n",
    "\n",
    "# TWL, which isn't carried on channel #56, boasts the most viewers of all five channels\n",
    "\n",
    "model.add(Name_TWL == M5_viewers)\n",
    "\n",
    "model.add(Name_TWL != Ch_56)\n",
    "\n"
   ]
  },
  {
   "cell_type": "code",
   "execution_count": 24,
   "id": "c2472574",
   "metadata": {},
   "outputs": [
    {
     "data": {
      "text/plain": [
       "<ortools.sat.python.cp_model.Constraint at 0x29e952c9ee0>"
      ]
     },
     "execution_count": 24,
     "metadata": {},
     "output_type": "execute_result"
    }
   ],
   "source": [
    "# statement 4.\n",
    "\n",
    "# Between PCR and the channel the airs Moneygab, one has three million viewers and the other is on channel #22\n",
    "\n",
    "model.add_all_different(\n",
    "    Name_PCR,\n",
    "    Show_Moneygab\n",
    ")\n",
    "model.add_all_different(\n",
    "    M3_viewers,\n",
    "    Ch_22\n",
    ")"
   ]
  },
  {
   "cell_type": "code",
   "execution_count": 25,
   "id": "762072df-98a2-4935-86e5-accd7b3bdfc6",
   "metadata": {},
   "outputs": [
    {
     "data": {
      "text/plain": [
       "PCR_is_M3_viewers(0..1)"
      ]
     },
     "execution_count": 25,
     "metadata": {},
     "output_type": "execute_result"
    }
   ],
   "source": [
    "# statement 4a\n",
    "\n",
    "\n",
    "PCR_is_M3_viewers =  model.new_bool_var(\"PCR_is_M3_viewers\")\n",
    "\n",
    "model.Add(Name_PCR == M3_viewers).OnlyEnforceIf(PCR_is_M3_viewers )\n",
    "model.Add(Name_PCR != M3_viewers).OnlyEnforceIf(~PCR_is_M3_viewers)\n",
    "\n",
    "aux_variables.append(PCR_is_M3_viewers )\n",
    "PCR_is_M3_viewers"
   ]
  },
  {
   "cell_type": "code",
   "execution_count": 26,
   "id": "c8523547-49c8-4270-b087-4488059b3df1",
   "metadata": {},
   "outputs": [
    {
     "data": {
      "text/plain": [
       "PCR_is_Ch22(0..1)"
      ]
     },
     "execution_count": 26,
     "metadata": {},
     "output_type": "execute_result"
    }
   ],
   "source": [
    "# statement 4b\n",
    "\n",
    "PCR_is_Ch_22 =  model.new_bool_var(\"PCR_is_Ch22\")\n",
    "\n",
    "model.Add(Name_PCR == Ch_22 ).OnlyEnforceIf(PCR_is_Ch_22 )\n",
    "model.Add(Name_PCR != Ch_22 ).OnlyEnforceIf(~PCR_is_Ch_22)\n",
    "\n",
    "aux_variables.append(PCR_is_Ch_22  )\n",
    "\n",
    "PCR_is_Ch_22"
   ]
  },
  {
   "cell_type": "code",
   "execution_count": 27,
   "id": "68a689ee-3984-43f5-96a8-bd97a6161b22",
   "metadata": {},
   "outputs": [
    {
     "data": {
      "text/plain": [
       "Moneygab_is_M3_viewers(0..1)"
      ]
     },
     "execution_count": 27,
     "metadata": {},
     "output_type": "execute_result"
    }
   ],
   "source": [
    "# statement 4c\n",
    "\n",
    "Moneygab_is_M3_viewers =  model.new_bool_var(\"Moneygab_is_M3_viewers\")\n",
    "\n",
    "model.Add(Show_Moneygab == M3_viewers).OnlyEnforceIf(Moneygab_is_M3_viewers)\n",
    "model.Add(Show_Moneygab != M3_viewers).OnlyEnforceIf(~Moneygab_is_M3_viewers)\n",
    "\n",
    "aux_variables.append(Moneygab_is_M3_viewers )\n",
    "Moneygab_is_M3_viewers"
   ]
  },
  {
   "cell_type": "code",
   "execution_count": 28,
   "id": "a0d03272-4261-4081-800f-2da3ff12fac2",
   "metadata": {},
   "outputs": [
    {
     "data": {
      "text/plain": [
       "Moneygab_is_Ch_22(0..1)"
      ]
     },
     "execution_count": 28,
     "metadata": {},
     "output_type": "execute_result"
    }
   ],
   "source": [
    "# statement 4d\n",
    "\n",
    "Moneygab_is_Ch_22 =  model.new_bool_var(\"Moneygab_is_Ch_22\")\n",
    "\n",
    "model.Add(Show_Moneygab == Ch_22).OnlyEnforceIf(Moneygab_is_Ch_22)\n",
    "model.Add(Show_Moneygab != Ch_22).OnlyEnforceIf(~Moneygab_is_Ch_22)\n",
    "\n",
    "aux_variables.append(Moneygab_is_Ch_22 )\n",
    "Moneygab_is_Ch_22"
   ]
  },
  {
   "cell_type": "code",
   "execution_count": 29,
   "id": "32b63c1f-5c1b-4c2f-aa05-973b05da76b3",
   "metadata": {},
   "outputs": [
    {
     "data": {
      "text/plain": [
       "<ortools.sat.python.cp_model.Constraint at 0x29e94549670>"
      ]
     },
     "execution_count": 29,
     "metadata": {},
     "output_type": "execute_result"
    }
   ],
   "source": [
    "\n",
    "model.AddBoolXOr([PCR_is_M3_viewers, PCR_is_Ch_22])\n",
    "model.AddBoolXOr([PCR_is_M3_viewers, Moneygab_is_M3_viewers])\n",
    "model.AddBoolXOr([Moneygab_is_M3_viewers, Moneygab_is_Ch_22])"
   ]
  },
  {
   "cell_type": "code",
   "execution_count": 30,
   "id": "cf176cdb-c34a-4311-a711-3f99011375a4",
   "metadata": {},
   "outputs": [
    {
     "data": {
      "text/plain": [
       "<ortools.sat.python.cp_model.Constraint at 0x29e952cbc20>"
      ]
     },
     "execution_count": 30,
     "metadata": {},
     "output_type": "execute_result"
    }
   ],
   "source": [
    "# statement 5.\n",
    "\n",
    "# Of channel #15 and the station that airs Ponyville, one is KWTM and the other has the smallest viewership of all five channels\n",
    "\n",
    "model.add_all_different(\n",
    "    Ch_15,\n",
    "    Show_Ponyville\n",
    ")\n",
    "model.add_all_different(\n",
    "    Name_KWTM,\n",
    "    M1_viewers\n",
    ")"
   ]
  },
  {
   "cell_type": "code",
   "execution_count": 31,
   "id": "209a5c4e-9179-4d4e-ab81-1a3df1847dad",
   "metadata": {},
   "outputs": [
    {
     "data": {
      "text/plain": [
       "Ch_15_is_KWTM(0..1)"
      ]
     },
     "execution_count": 31,
     "metadata": {},
     "output_type": "execute_result"
    }
   ],
   "source": [
    "# statement 5a\n",
    "\n",
    "Ch_15_is_KWTM = model.new_bool_var(\"Ch_15_is_KWTM\")\n",
    "\n",
    "model.Add(Ch_15 == Name_KWTM).OnlyEnforceIf(Ch_15_is_KWTM)\n",
    "model.Add(Ch_15 != Name_KWTM).OnlyEnforceIf(~Ch_15_is_KWTM)\n",
    "\n",
    "aux_variables.append(Ch_15_is_KWTM )\n",
    "\n",
    "Ch_15_is_KWTM"
   ]
  },
  {
   "cell_type": "code",
   "execution_count": 32,
   "id": "6f0e64e7-55a2-4f26-a38d-dbff060ca544",
   "metadata": {},
   "outputs": [
    {
     "data": {
      "text/plain": [
       "Ch_15_is_M1_viewers(0..1)"
      ]
     },
     "execution_count": 32,
     "metadata": {},
     "output_type": "execute_result"
    }
   ],
   "source": [
    "# statement 5b\n",
    "\n",
    "Ch_15_is_M1_viewers =  model.new_bool_var(\"Ch_15_is_M1_viewers\")\n",
    "\n",
    "model.Add(Ch_15 == M1_viewers).OnlyEnforceIf(Ch_15_is_M1_viewers)\n",
    "model.Add(Ch_15 != M1_viewers).OnlyEnforceIf(~Ch_15_is_M1_viewers)\n",
    "\n",
    "aux_variables.append(Ch_15_is_M1_viewers)\n",
    "Ch_15_is_M1_viewers\n"
   ]
  },
  {
   "cell_type": "code",
   "execution_count": 33,
   "id": "8ddedc5c-6b64-44d4-9a7d-67812d744bb2",
   "metadata": {},
   "outputs": [
    {
     "data": {
      "text/plain": [
       "Ponyville_is_M1_viewers(0..1)"
      ]
     },
     "execution_count": 33,
     "metadata": {},
     "output_type": "execute_result"
    }
   ],
   "source": [
    "# statement 5c\n",
    "\n",
    "Ponyville_is_M1_viewers =  model.new_bool_var(\"Ponyville_is_M1_viewers\")\n",
    "\n",
    "model.Add(Show_Ponyville == M1_viewers).OnlyEnforceIf(Ponyville_is_M1_viewers)\n",
    "model.Add(Show_Ponyville != M1_viewers).OnlyEnforceIf(~Ponyville_is_M1_viewers)\n",
    "\n",
    "aux_variables.append(Ponyville_is_M1_viewers)\n",
    "\n",
    "Ponyville_is_M1_viewers"
   ]
  },
  {
   "cell_type": "code",
   "execution_count": 34,
   "id": "7774a2d4-f835-49cc-ba00-5536f582bb54",
   "metadata": {},
   "outputs": [
    {
     "data": {
      "text/plain": [
       "Ponyville_is_KWTM(0..1)"
      ]
     },
     "execution_count": 34,
     "metadata": {},
     "output_type": "execute_result"
    }
   ],
   "source": [
    "# statement 5d\n",
    "\n",
    "Ponyville_is_KWTM =  model.new_bool_var(\"Ponyville_is_KWTM\")\n",
    "\n",
    "model.Add(Show_Ponyville == Name_KWTM).OnlyEnforceIf(Ponyville_is_KWTM)\n",
    "model.Add(Show_Ponyville != Name_KWTM).OnlyEnforceIf(~Ponyville_is_KWTM)\n",
    "\n",
    "aux_variables.append(Ponyville_is_KWTM)\n",
    "\n",
    "Ponyville_is_KWTM"
   ]
  },
  {
   "cell_type": "code",
   "execution_count": 35,
   "id": "7527b7b2-c955-4214-959c-2f96a24a539b",
   "metadata": {},
   "outputs": [
    {
     "data": {
      "text/plain": [
       "<ortools.sat.python.cp_model.Constraint at 0x29e952c8710>"
      ]
     },
     "execution_count": 35,
     "metadata": {},
     "output_type": "execute_result"
    }
   ],
   "source": [
    "model.AddBoolXOr([Ch_15_is_KWTM , Ch_15_is_M1_viewers])\n",
    "model.AddBoolXOr([Ch_15_is_M1_viewers, Ponyville_is_M1_viewers])\n",
    "model.AddBoolXOr([Ponyville_is_M1_viewers, Ponyville_is_KWTM])"
   ]
  },
  {
   "cell_type": "code",
   "execution_count": 36,
   "id": "af880c72-bfe5-4852-a1ea-3e819256ee1e",
   "metadata": {},
   "outputs": [
    {
     "data": {
      "text/plain": [
       "<ortools.sat.python.cp_model.Constraint at 0x29e9529bd40>"
      ]
     },
     "execution_count": 36,
     "metadata": {},
     "output_type": "execute_result"
    }
   ],
   "source": [
    "# statement 6.\n",
    "\n",
    "# Moneygab doesn't air on either channel #15 or channel #56\n",
    "\n",
    "model.add_all_different(\n",
    "    Show_Moneygab,\n",
    "    Ch_15\n",
    ")\n",
    "\n",
    "model.add_all_different(\n",
    "    Show_Moneygab,\n",
    "    Ch_56\n",
    ")"
   ]
  },
  {
   "cell_type": "code",
   "execution_count": 37,
   "id": "10431ff5-369b-4164-b997-d3f29ca71c49",
   "metadata": {},
   "outputs": [
    {
     "data": {
      "text/plain": [
       "<ortools.sat.python.cp_model.Constraint at 0x29e952e16d0>"
      ]
     },
     "execution_count": 37,
     "metadata": {},
     "output_type": "execute_result"
    }
   ],
   "source": [
    "# statement 7.\n",
    "\n",
    "# CVT isn't carried on channel #62\n",
    "\n",
    "model.add_all_different(\n",
    "    Name_CVT,\n",
    "    Ch_62\n",
    ")\n",
    "\n",
    "\n"
   ]
  },
  {
   "cell_type": "code",
   "execution_count": 38,
   "id": "b2c1b50c-8381-465b-ba43-9ad4bd3f5537",
   "metadata": {},
   "outputs": [],
   "source": [
    "### print out solutions"
   ]
  },
  {
   "cell_type": "code",
   "execution_count": 39,
   "id": "3f48fdbe-eecd-4cd9-a1e5-f5173e7a55fe",
   "metadata": {},
   "outputs": [],
   "source": [
    "# Solve and print out the solution.\n",
    "solver = cp_model.CpSolver()\n",
    "#status = solver.solve(model)\n",
    "#status = solver.SearchForAllSolutions(model, solution_printer)"
   ]
  },
  {
   "cell_type": "code",
   "execution_count": 40,
   "id": "e58aceff-14c5-41ff-aa33-0ad0af98dfad",
   "metadata": {},
   "outputs": [
    {
     "data": {
      "text/plain": [
       "4"
      ]
     },
     "execution_count": 40,
     "metadata": {},
     "output_type": "execute_result"
    }
   ],
   "source": [
    "#solution_collector = VarArraySolutionCollector(  all_the_variables  )\n",
    "\n",
    "\n",
    "solution_collector = VarArraySolutionCollector(  \n",
    "    all_the_variables + \n",
    "    aux_variables\n",
    ")\n",
    "\n",
    "\n",
    "solver.SearchForAllSolutions(model, solution_collector)"
   ]
  },
  {
   "cell_type": "code",
   "execution_count": 41,
   "id": "789fe540-dddd-4918-b40a-60a89ef2cf62",
   "metadata": {},
   "outputs": [
    {
     "data": {
      "text/plain": [
       "1"
      ]
     },
     "execution_count": 41,
     "metadata": {},
     "output_type": "execute_result"
    }
   ],
   "source": [
    "len(solution_collector.solution_list)"
   ]
  },
  {
   "cell_type": "code",
   "execution_count": 42,
   "id": "34efc0d3-afc8-4278-9fa5-146c2c7634f7",
   "metadata": {},
   "outputs": [
    {
     "name": "stdout",
     "output_type": "stream",
     "text": [
      "mil_1,mil_2,mil_3,mil_4,mil_5,Name_BNRG,Name_CVT,Name_KWTM,Name_PCR,Name_TWL,Ch_15,Ch_22,Ch_43,Ch_56,Ch_62,Show_Moneygab,Show_Ponyville,Show_Powertrips,Show_Soap_Suds,Show_Top_Chow,PCR_is_M3_viewers,PCR_is_Ch22,Moneygab_is_M3_viewers,Moneygab_is_Ch_22,Ch_15_is_KWTM,Ch_15_is_M1_viewers,Ponyville_is_M1_viewers,Ponyville_is_KWTM,\n"
     ]
    }
   ],
   "source": [
    "solution_collector.print_headers()"
   ]
  },
  {
   "cell_type": "code",
   "execution_count": 43,
   "id": "cc817046-5333-4045-9b9e-d51923dac600",
   "metadata": {},
   "outputs": [
    {
     "data": {
      "text/plain": [
       "['mil_1',\n",
       " 'mil_2',\n",
       " 'mil_3',\n",
       " 'mil_4',\n",
       " 'mil_5',\n",
       " 'Name_BNRG',\n",
       " 'Name_CVT',\n",
       " 'Name_KWTM',\n",
       " 'Name_PCR',\n",
       " 'Name_TWL',\n",
       " 'Ch_15',\n",
       " 'Ch_22',\n",
       " 'Ch_43',\n",
       " 'Ch_56',\n",
       " 'Ch_62',\n",
       " 'Show_Moneygab',\n",
       " 'Show_Ponyville',\n",
       " 'Show_Powertrips',\n",
       " 'Show_Soap_Suds',\n",
       " 'Show_Top_Chow',\n",
       " 'PCR_is_M3_viewers',\n",
       " 'PCR_is_Ch22',\n",
       " 'Moneygab_is_M3_viewers',\n",
       " 'Moneygab_is_Ch_22',\n",
       " 'Ch_15_is_KWTM',\n",
       " 'Ch_15_is_M1_viewers',\n",
       " 'Ponyville_is_M1_viewers',\n",
       " 'Ponyville_is_KWTM']"
      ]
     },
     "execution_count": 43,
     "metadata": {},
     "output_type": "execute_result"
    }
   ],
   "source": [
    "solution_collector.list_of_headers()\n"
   ]
  },
  {
   "cell_type": "code",
   "execution_count": 44,
   "id": "66e51680",
   "metadata": {},
   "outputs": [
    {
     "data": {
      "text/html": [
       "<div>\n",
       "<style scoped>\n",
       "    .dataframe tbody tr th:only-of-type {\n",
       "        vertical-align: middle;\n",
       "    }\n",
       "\n",
       "    .dataframe tbody tr th {\n",
       "        vertical-align: top;\n",
       "    }\n",
       "\n",
       "    .dataframe thead th {\n",
       "        text-align: right;\n",
       "    }\n",
       "</style>\n",
       "<table border=\"1\" class=\"dataframe\">\n",
       "  <thead>\n",
       "    <tr style=\"text-align: right;\">\n",
       "      <th></th>\n",
       "      <th>mil_1</th>\n",
       "      <th>mil_2</th>\n",
       "      <th>mil_3</th>\n",
       "      <th>mil_4</th>\n",
       "      <th>mil_5</th>\n",
       "      <th>Name_BNRG</th>\n",
       "      <th>Name_CVT</th>\n",
       "      <th>Name_KWTM</th>\n",
       "      <th>Name_PCR</th>\n",
       "      <th>Name_TWL</th>\n",
       "      <th>Ch_15</th>\n",
       "      <th>Ch_22</th>\n",
       "      <th>Ch_43</th>\n",
       "      <th>Ch_56</th>\n",
       "      <th>Ch_62</th>\n",
       "      <th>Show_Moneygab</th>\n",
       "      <th>Show_Ponyville</th>\n",
       "      <th>Show_Powertrips</th>\n",
       "      <th>Show_Soap_Suds</th>\n",
       "      <th>Show_Top_Chow</th>\n",
       "      <th>PCR_is_M3_viewers</th>\n",
       "      <th>PCR_is_Ch22</th>\n",
       "      <th>Moneygab_is_M3_viewers</th>\n",
       "      <th>Moneygab_is_Ch_22</th>\n",
       "      <th>Ch_15_is_KWTM</th>\n",
       "      <th>Ch_15_is_M1_viewers</th>\n",
       "      <th>Ponyville_is_M1_viewers</th>\n",
       "      <th>Ponyville_is_KWTM</th>\n",
       "    </tr>\n",
       "  </thead>\n",
       "  <tbody>\n",
       "    <tr>\n",
       "      <th>0</th>\n",
       "      <td>1</td>\n",
       "      <td>2</td>\n",
       "      <td>3</td>\n",
       "      <td>4</td>\n",
       "      <td>5</td>\n",
       "      <td>4</td>\n",
       "      <td>3</td>\n",
       "      <td>2</td>\n",
       "      <td>1</td>\n",
       "      <td>5</td>\n",
       "      <td>2</td>\n",
       "      <td>1</td>\n",
       "      <td>3</td>\n",
       "      <td>4</td>\n",
       "      <td>5</td>\n",
       "      <td>3</td>\n",
       "      <td>1</td>\n",
       "      <td>5</td>\n",
       "      <td>2</td>\n",
       "      <td>4</td>\n",
       "      <td>0</td>\n",
       "      <td>1</td>\n",
       "      <td>1</td>\n",
       "      <td>0</td>\n",
       "      <td>1</td>\n",
       "      <td>0</td>\n",
       "      <td>1</td>\n",
       "      <td>0</td>\n",
       "    </tr>\n",
       "  </tbody>\n",
       "</table>\n",
       "</div>"
      ],
      "text/plain": [
       "   mil_1  mil_2  mil_3  mil_4  mil_5  Name_BNRG  Name_CVT  Name_KWTM  \\\n",
       "0      1      2      3      4      5          4         3          2   \n",
       "\n",
       "   Name_PCR  Name_TWL  Ch_15  Ch_22  Ch_43  Ch_56  Ch_62  Show_Moneygab  \\\n",
       "0         1         5      2      1      3      4      5              3   \n",
       "\n",
       "   Show_Ponyville  Show_Powertrips  Show_Soap_Suds  Show_Top_Chow  \\\n",
       "0               1                5               2              4   \n",
       "\n",
       "   PCR_is_M3_viewers  PCR_is_Ch22  Moneygab_is_M3_viewers  Moneygab_is_Ch_22  \\\n",
       "0                  0            1                       1                  0   \n",
       "\n",
       "   Ch_15_is_KWTM  Ch_15_is_M1_viewers  Ponyville_is_M1_viewers  \\\n",
       "0              1                    0                        1   \n",
       "\n",
       "   Ponyville_is_KWTM  \n",
       "0                  0  "
      ]
     },
     "execution_count": 44,
     "metadata": {},
     "output_type": "execute_result"
    }
   ],
   "source": [
    "\n",
    "\n",
    "solutions_df = pd.DataFrame(\n",
    "    data = solution_collector.solution_list,\n",
    "    columns = solution_collector.list_of_headers()\n",
    "    \n",
    ")\n",
    "solutions_df.shape\n",
    "\n",
    "solutions_df"
   ]
  },
  {
   "cell_type": "code",
   "execution_count": 45,
   "id": "1a5fb500-7668-4817-ab22-c22d4d7a353c",
   "metadata": {},
   "outputs": [],
   "source": [
    "### code below will print out the grid "
   ]
  },
  {
   "cell_type": "code",
   "execution_count": 46,
   "id": "30c6ada0-1cf2-4fcb-984e-2f00ff08b4fa",
   "metadata": {},
   "outputs": [
    {
     "data": {
      "text/plain": [
       "(28, 1)"
      ]
     },
     "execution_count": 46,
     "metadata": {},
     "output_type": "execute_result"
    }
   ],
   "source": [
    "solutions_df.T.shape"
   ]
  },
  {
   "cell_type": "code",
   "execution_count": 47,
   "id": "6f57411d-262d-41a7-91b5-a3c39311e8f3",
   "metadata": {},
   "outputs": [],
   "source": [
    "temp_transpose = solutions_df.T\n",
    "\n",
    "temp_transpose.columns = ['column_0']\n",
    "\n",
    "temp_transpose['index'] = temp_transpose.index\n",
    "\n"
   ]
  },
  {
   "cell_type": "code",
   "execution_count": 48,
   "id": "37d3dffd-ce80-43ac-bbf9-1c43fa925509",
   "metadata": {},
   "outputs": [],
   "source": [
    "def first_split(input):\n",
    "    return input.split(\"_\")[0]"
   ]
  },
  {
   "cell_type": "code",
   "execution_count": 49,
   "id": "0df95e10-c508-40aa-afff-025513e9c2e3",
   "metadata": {},
   "outputs": [],
   "source": [
    "temp_transpose['first_split'] = temp_transpose['index'].apply(first_split)"
   ]
  },
  {
   "cell_type": "code",
   "execution_count": 50,
   "id": "d9dde79e-a9f2-4747-ae25-1d5ee529e6a1",
   "metadata": {},
   "outputs": [
    {
     "data": {
      "text/html": [
       "<div>\n",
       "<style scoped>\n",
       "    .dataframe tbody tr th:only-of-type {\n",
       "        vertical-align: middle;\n",
       "    }\n",
       "\n",
       "    .dataframe tbody tr th {\n",
       "        vertical-align: top;\n",
       "    }\n",
       "\n",
       "    .dataframe thead th {\n",
       "        text-align: right;\n",
       "    }\n",
       "</style>\n",
       "<table border=\"1\" class=\"dataframe\">\n",
       "  <thead>\n",
       "    <tr style=\"text-align: right;\">\n",
       "      <th></th>\n",
       "      <th>column_0</th>\n",
       "      <th>index</th>\n",
       "      <th>first_split</th>\n",
       "    </tr>\n",
       "  </thead>\n",
       "  <tbody>\n",
       "    <tr>\n",
       "      <th>Ch_22</th>\n",
       "      <td>1</td>\n",
       "      <td>Ch_22</td>\n",
       "      <td>Ch</td>\n",
       "    </tr>\n",
       "    <tr>\n",
       "      <th>Name_PCR</th>\n",
       "      <td>1</td>\n",
       "      <td>Name_PCR</td>\n",
       "      <td>Name</td>\n",
       "    </tr>\n",
       "    <tr>\n",
       "      <th>Show_Ponyville</th>\n",
       "      <td>1</td>\n",
       "      <td>Show_Ponyville</td>\n",
       "      <td>Show</td>\n",
       "    </tr>\n",
       "    <tr>\n",
       "      <th>mil_1</th>\n",
       "      <td>1</td>\n",
       "      <td>mil_1</td>\n",
       "      <td>mil</td>\n",
       "    </tr>\n",
       "    <tr>\n",
       "      <th>Ch_15</th>\n",
       "      <td>2</td>\n",
       "      <td>Ch_15</td>\n",
       "      <td>Ch</td>\n",
       "    </tr>\n",
       "    <tr>\n",
       "      <th>Name_KWTM</th>\n",
       "      <td>2</td>\n",
       "      <td>Name_KWTM</td>\n",
       "      <td>Name</td>\n",
       "    </tr>\n",
       "    <tr>\n",
       "      <th>Show_Soap_Suds</th>\n",
       "      <td>2</td>\n",
       "      <td>Show_Soap_Suds</td>\n",
       "      <td>Show</td>\n",
       "    </tr>\n",
       "    <tr>\n",
       "      <th>mil_2</th>\n",
       "      <td>2</td>\n",
       "      <td>mil_2</td>\n",
       "      <td>mil</td>\n",
       "    </tr>\n",
       "    <tr>\n",
       "      <th>Ch_43</th>\n",
       "      <td>3</td>\n",
       "      <td>Ch_43</td>\n",
       "      <td>Ch</td>\n",
       "    </tr>\n",
       "    <tr>\n",
       "      <th>Name_CVT</th>\n",
       "      <td>3</td>\n",
       "      <td>Name_CVT</td>\n",
       "      <td>Name</td>\n",
       "    </tr>\n",
       "    <tr>\n",
       "      <th>Show_Moneygab</th>\n",
       "      <td>3</td>\n",
       "      <td>Show_Moneygab</td>\n",
       "      <td>Show</td>\n",
       "    </tr>\n",
       "    <tr>\n",
       "      <th>mil_3</th>\n",
       "      <td>3</td>\n",
       "      <td>mil_3</td>\n",
       "      <td>mil</td>\n",
       "    </tr>\n",
       "    <tr>\n",
       "      <th>Ch_56</th>\n",
       "      <td>4</td>\n",
       "      <td>Ch_56</td>\n",
       "      <td>Ch</td>\n",
       "    </tr>\n",
       "    <tr>\n",
       "      <th>Name_BNRG</th>\n",
       "      <td>4</td>\n",
       "      <td>Name_BNRG</td>\n",
       "      <td>Name</td>\n",
       "    </tr>\n",
       "    <tr>\n",
       "      <th>Show_Top_Chow</th>\n",
       "      <td>4</td>\n",
       "      <td>Show_Top_Chow</td>\n",
       "      <td>Show</td>\n",
       "    </tr>\n",
       "    <tr>\n",
       "      <th>mil_4</th>\n",
       "      <td>4</td>\n",
       "      <td>mil_4</td>\n",
       "      <td>mil</td>\n",
       "    </tr>\n",
       "    <tr>\n",
       "      <th>Ch_62</th>\n",
       "      <td>5</td>\n",
       "      <td>Ch_62</td>\n",
       "      <td>Ch</td>\n",
       "    </tr>\n",
       "    <tr>\n",
       "      <th>Name_TWL</th>\n",
       "      <td>5</td>\n",
       "      <td>Name_TWL</td>\n",
       "      <td>Name</td>\n",
       "    </tr>\n",
       "    <tr>\n",
       "      <th>Show_Powertrips</th>\n",
       "      <td>5</td>\n",
       "      <td>Show_Powertrips</td>\n",
       "      <td>Show</td>\n",
       "    </tr>\n",
       "    <tr>\n",
       "      <th>mil_5</th>\n",
       "      <td>5</td>\n",
       "      <td>mil_5</td>\n",
       "      <td>mil</td>\n",
       "    </tr>\n",
       "  </tbody>\n",
       "</table>\n",
       "</div>"
      ],
      "text/plain": [
       "                 column_0            index first_split\n",
       "Ch_22                   1            Ch_22          Ch\n",
       "Name_PCR                1         Name_PCR        Name\n",
       "Show_Ponyville          1   Show_Ponyville        Show\n",
       "mil_1                   1            mil_1         mil\n",
       "Ch_15                   2            Ch_15          Ch\n",
       "Name_KWTM               2        Name_KWTM        Name\n",
       "Show_Soap_Suds          2   Show_Soap_Suds        Show\n",
       "mil_2                   2            mil_2         mil\n",
       "Ch_43                   3            Ch_43          Ch\n",
       "Name_CVT                3         Name_CVT        Name\n",
       "Show_Moneygab           3    Show_Moneygab        Show\n",
       "mil_3                   3            mil_3         mil\n",
       "Ch_56                   4            Ch_56          Ch\n",
       "Name_BNRG               4        Name_BNRG        Name\n",
       "Show_Top_Chow           4    Show_Top_Chow        Show\n",
       "mil_4                   4            mil_4         mil\n",
       "Ch_62                   5            Ch_62          Ch\n",
       "Name_TWL                5         Name_TWL        Name\n",
       "Show_Powertrips         5  Show_Powertrips        Show\n",
       "mil_5                   5            mil_5         mil"
      ]
     },
     "execution_count": 50,
     "metadata": {},
     "output_type": "execute_result"
    }
   ],
   "source": [
    "sorted = temp_transpose.iloc[0:20].sort_values(['column_0','first_split'])\n",
    "\n",
    "sorted"
   ]
  },
  {
   "cell_type": "code",
   "execution_count": 51,
   "id": "bb2c5796-9a0c-4c32-8183-4cf199ad7ef0",
   "metadata": {},
   "outputs": [],
   "source": [
    "index_list = sorted['index']\n",
    "\n"
   ]
  },
  {
   "cell_type": "code",
   "execution_count": 52,
   "id": "b4141fc2-5726-4ac7-a480-849b84a5b3af",
   "metadata": {},
   "outputs": [],
   "source": [
    "column = [None]*5"
   ]
  },
  {
   "cell_type": "code",
   "execution_count": 53,
   "id": "f80a0e7c-b83a-4568-9d70-7880c9cadc1c",
   "metadata": {},
   "outputs": [
    {
     "name": "stdout",
     "output_type": "stream",
     "text": [
      "column[0]\n",
      "Ch_22    Ch_22\n",
      "Ch_15    Ch_15\n",
      "Ch_43    Ch_43\n",
      "Ch_56    Ch_56\n",
      "Ch_62    Ch_62\n",
      "Name: index, dtype: object\n",
      "\n",
      "column[1]\n",
      "Name_PCR      Name_PCR\n",
      "Name_KWTM    Name_KWTM\n",
      "Name_CVT      Name_CVT\n",
      "Name_BNRG    Name_BNRG\n",
      "Name_TWL      Name_TWL\n",
      "Name: index, dtype: object\n",
      "\n",
      "column[2]\n",
      "Show_Ponyville      Show_Ponyville\n",
      "Show_Soap_Suds      Show_Soap_Suds\n",
      "Show_Moneygab        Show_Moneygab\n",
      "Show_Top_Chow        Show_Top_Chow\n",
      "Show_Powertrips    Show_Powertrips\n",
      "Name: index, dtype: object\n",
      "\n",
      "column[3]\n",
      "mil_1    mil_1\n",
      "mil_2    mil_2\n",
      "mil_3    mil_3\n",
      "mil_4    mil_4\n",
      "mil_5    mil_5\n",
      "Name: index, dtype: object\n",
      "\n"
     ]
    }
   ],
   "source": [
    "for i in range(4):\n",
    "    column[i] = index_list[i+0::4]\n",
    "    print (f\"column[{i}]\")\n",
    "    pprint (column[i])\n",
    "    print()\n",
    "\n",
    "\n"
   ]
  },
  {
   "cell_type": "code",
   "execution_count": 54,
   "id": "4942c565-2fa3-43f9-bbae-29ff5f52e01a",
   "metadata": {},
   "outputs": [
    {
     "data": {
      "text/plain": [
       "['Ch_22', 'Ch_15', 'Ch_43', 'Ch_56', 'Ch_62']"
      ]
     },
     "execution_count": 54,
     "metadata": {},
     "output_type": "execute_result"
    }
   ],
   "source": [
    "list(column[0])"
   ]
  },
  {
   "cell_type": "code",
   "execution_count": 55,
   "id": "2e6e271a-b4ad-45b8-98cc-5d92e272fee6",
   "metadata": {},
   "outputs": [
    {
     "data": {
      "text/html": [
       "<div>\n",
       "<style scoped>\n",
       "    .dataframe tbody tr th:only-of-type {\n",
       "        vertical-align: middle;\n",
       "    }\n",
       "\n",
       "    .dataframe tbody tr th {\n",
       "        vertical-align: top;\n",
       "    }\n",
       "\n",
       "    .dataframe thead th {\n",
       "        text-align: right;\n",
       "    }\n",
       "</style>\n",
       "<table border=\"1\" class=\"dataframe\">\n",
       "  <thead>\n",
       "    <tr style=\"text-align: right;\">\n",
       "      <th></th>\n",
       "      <th>Size</th>\n",
       "      <th>Name</th>\n",
       "      <th>Show</th>\n",
       "      <th>Channel</th>\n",
       "    </tr>\n",
       "  </thead>\n",
       "  <tbody>\n",
       "    <tr>\n",
       "      <th>0</th>\n",
       "      <td>mil_1</td>\n",
       "      <td>Name_PCR</td>\n",
       "      <td>Show_Ponyville</td>\n",
       "      <td>Ch_22</td>\n",
       "    </tr>\n",
       "    <tr>\n",
       "      <th>1</th>\n",
       "      <td>mil_2</td>\n",
       "      <td>Name_KWTM</td>\n",
       "      <td>Show_Soap_Suds</td>\n",
       "      <td>Ch_15</td>\n",
       "    </tr>\n",
       "    <tr>\n",
       "      <th>2</th>\n",
       "      <td>mil_3</td>\n",
       "      <td>Name_CVT</td>\n",
       "      <td>Show_Moneygab</td>\n",
       "      <td>Ch_43</td>\n",
       "    </tr>\n",
       "    <tr>\n",
       "      <th>3</th>\n",
       "      <td>mil_4</td>\n",
       "      <td>Name_BNRG</td>\n",
       "      <td>Show_Top_Chow</td>\n",
       "      <td>Ch_56</td>\n",
       "    </tr>\n",
       "    <tr>\n",
       "      <th>4</th>\n",
       "      <td>mil_5</td>\n",
       "      <td>Name_TWL</td>\n",
       "      <td>Show_Powertrips</td>\n",
       "      <td>Ch_62</td>\n",
       "    </tr>\n",
       "  </tbody>\n",
       "</table>\n",
       "</div>"
      ],
      "text/plain": [
       "    Size       Name             Show Channel\n",
       "0  mil_1   Name_PCR   Show_Ponyville   Ch_22\n",
       "1  mil_2  Name_KWTM   Show_Soap_Suds   Ch_15\n",
       "2  mil_3   Name_CVT    Show_Moneygab   Ch_43\n",
       "3  mil_4  Name_BNRG    Show_Top_Chow   Ch_56\n",
       "4  mil_5   Name_TWL  Show_Powertrips   Ch_62"
      ]
     },
     "execution_count": 55,
     "metadata": {},
     "output_type": "execute_result"
    }
   ],
   "source": [
    "final_grid_df = pd.DataFrame(\n",
    "    data = {\n",
    "        'Channel' : list(column[0]),\n",
    "        'Name'    : list(column[1]),\n",
    "        'Show'    : list(column[2]),\n",
    "        'Size'    : list(column[3]),\n",
    "    }\n",
    ")\n",
    "\n",
    "final_grid_df[['Size','Name','Show','Channel',\t\t\t]]"
   ]
  }
 ],
 "metadata": {
  "kernelspec": {
   "display_name": "Python 3 (ipykernel)",
   "language": "python",
   "name": "python3"
  },
  "language_info": {
   "codemirror_mode": {
    "name": "ipython",
    "version": 3
   },
   "file_extension": ".py",
   "mimetype": "text/x-python",
   "name": "python",
   "nbconvert_exporter": "python",
   "pygments_lexer": "ipython3",
   "version": "3.12.4"
  }
 },
 "nbformat": 4,
 "nbformat_minor": 5
}
