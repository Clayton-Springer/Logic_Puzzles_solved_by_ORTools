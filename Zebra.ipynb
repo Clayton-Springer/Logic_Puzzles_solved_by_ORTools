{
 "cells": [
  {
   "cell_type": "code",
   "execution_count": 1,
   "id": "454fc4b7-b691-4497-bbc9-ddd4bdf4720f",
   "metadata": {},
   "outputs": [
    {
     "data": {
      "text/plain": [
       "'This is the zebra problem as invented by Lewis Caroll.\\n\\nThere are five houses.\\nThe Englishman lives in the red house.\\nThe Spaniard owns the dog.\\nCoffee is drunk in the green house.\\nThe Ukrainian drinks tea.\\nThe green house is immediately to the right of the ivory house.\\nThe Old Gold smoker owns snails.\\nKools are smoked in the yellow house.\\nMilk is drunk in the middle house.\\nThe Norwegian lives in the first house.\\nThe man who smokes Chesterfields lives in the house next to the man\\n   with the fox.\\nKools are smoked in the house next to the house where the horse is kept.\\nThe Lucky Strike smoker drinks orange juice.\\nThe Japanese smokes Parliaments.\\nThe Norwegian lives next to the blue house.\\n\\nWho owns a zebra and who drinks water?\\n'"
      ]
     },
     "execution_count": 1,
     "metadata": {},
     "output_type": "execute_result"
    }
   ],
   "source": [
    "\"\"\"This is the zebra problem as invented by Lewis Caroll.\n",
    "\n",
    "There are five houses.\n",
    "The Englishman lives in the red house.\n",
    "The Spaniard owns the dog.\n",
    "Coffee is drunk in the green house.\n",
    "The Ukrainian drinks tea.\n",
    "The green house is immediately to the right of the ivory house.\n",
    "The Old Gold smoker owns snails.\n",
    "Kools are smoked in the yellow house.\n",
    "Milk is drunk in the middle house.\n",
    "The Norwegian lives in the first house.\n",
    "The man who smokes Chesterfields lives in the house next to the man\n",
    "   with the fox.\n",
    "Kools are smoked in the house next to the house where the horse is kept.\n",
    "The Lucky Strike smoker drinks orange juice.\n",
    "The Japanese smokes Parliaments.\n",
    "The Norwegian lives next to the blue house.\n",
    "\n",
    "Who owns a zebra and who drinks water?\n",
    "\"\"\"\n"
   ]
  },
  {
   "cell_type": "code",
   "execution_count": 2,
   "id": "dbd341c1-1a47-442b-bb3c-6c742b951908",
   "metadata": {},
   "outputs": [],
   "source": [
    "from ortools.sat.python import cp_model"
   ]
  },
  {
   "cell_type": "code",
   "execution_count": 3,
   "id": "9cf5b561-399a-4b91-9168-27be3eeaad01",
   "metadata": {},
   "outputs": [
    {
     "data": {
      "text/plain": [
       "'Solves the zebra problem.'"
      ]
     },
     "execution_count": 3,
     "metadata": {},
     "output_type": "execute_result"
    }
   ],
   "source": [
    " \"\"\"Solves the zebra problem.\"\"\""
   ]
  },
  {
   "cell_type": "code",
   "execution_count": 4,
   "id": "497c4ed7-4273-4229-990b-7ccb72d5c026",
   "metadata": {},
   "outputs": [],
   "source": [
    "# Create the model.\n",
    "model = cp_model.CpModel()\n"
   ]
  },
  {
   "cell_type": "code",
   "execution_count": 5,
   "id": "cbcb5a5c-aaaa-426d-93d9-db5a1abdeb70",
   "metadata": {},
   "outputs": [],
   "source": [
    "red = model.new_int_var(1, 5, \"red\")\n",
    "green = model.new_int_var(1, 5, \"green\")\n",
    "yellow = model.new_int_var(1, 5, \"yellow\")\n",
    "blue = model.new_int_var(1, 5, \"blue\")\n",
    "ivory = model.new_int_var(1, 5, \"ivory\")"
   ]
  },
  {
   "cell_type": "code",
   "execution_count": 6,
   "id": "63458410-3203-4223-b3e3-b8f03ef04af3",
   "metadata": {},
   "outputs": [],
   "source": [
    "englishman = model.new_int_var(1, 5, \"englishman\")\n",
    "spaniard = model.new_int_var(1, 5, \"spaniard\")\n",
    "japanese = model.new_int_var(1, 5, \"japanese\")\n",
    "ukrainian = model.new_int_var(1, 5, \"ukrainian\")\n",
    "norwegian = model.new_int_var(1, 5, \"norwegian\")"
   ]
  },
  {
   "cell_type": "code",
   "execution_count": 40,
   "id": "b63fa14a-ac91-4660-a6cf-8b74eb22cb33",
   "metadata": {},
   "outputs": [],
   "source": [
    "people = [\n",
    "    englishman, spaniard, japanese, ukrainian, norwegian\n",
    "]"
   ]
  },
  {
   "cell_type": "code",
   "execution_count": 7,
   "id": "a2f17445-4d30-42b2-a1a0-03887dece64e",
   "metadata": {},
   "outputs": [],
   "source": [
    "dog = model.new_int_var(1, 5, \"dog\")\n",
    "snails = model.new_int_var(1, 5, \"snails\")\n",
    "fox = model.new_int_var(1, 5, \"fox\")\n",
    "zebra = model.new_int_var(1, 5, \"zebra\")\n",
    "horse = model.new_int_var(1, 5, \"horse\")"
   ]
  },
  {
   "cell_type": "code",
   "execution_count": 8,
   "id": "cafefc3e-f9f9-4f55-8e47-419cffaff5ee",
   "metadata": {},
   "outputs": [],
   "source": [
    "tea = model.new_int_var(1, 5, \"tea\")\n",
    "coffee = model.new_int_var(1, 5, \"coffee\")\n",
    "water = model.new_int_var(1, 5, \"water\")\n",
    "milk = model.new_int_var(1, 5, \"milk\")\n",
    "fruit_juice = model.new_int_var(1, 5, \"fruit juice\")"
   ]
  },
  {
   "cell_type": "code",
   "execution_count": 9,
   "id": "233762ec-9a59-4496-9846-5f71edbf12cf",
   "metadata": {},
   "outputs": [],
   "source": [
    "old_gold = model.new_int_var(1, 5, \"old gold\")\n",
    "kools = model.new_int_var(1, 5, \"kools\")\n",
    "chesterfields = model.new_int_var(1, 5, \"chesterfields\")\n",
    "lucky_strike = model.new_int_var(1, 5, \"lucky strike\")\n",
    "parliaments = model.new_int_var(1, 5, \"parliaments\")\n"
   ]
  },
  {
   "cell_type": "code",
   "execution_count": 20,
   "id": "f2f7d439-42e1-45b8-8eb7-8a99fb36bd7b",
   "metadata": {},
   "outputs": [
    {
     "data": {
      "text/plain": [
       "<ortools.sat.python.cp_model.Constraint at 0x22688c4b890>"
      ]
     },
     "execution_count": 20,
     "metadata": {},
     "output_type": "execute_result"
    }
   ],
   "source": [
    "model.add_all_different(red, green, yellow, blue, ivory)\n",
    "model.add_all_different(englishman, spaniard, japanese, ukrainian, norwegian)\n",
    "model.add_all_different(dog, snails, fox, zebra, horse)\n",
    "model.add_all_different(tea, coffee, water, milk, fruit_juice)\n",
    "model.add_all_different(parliaments, kools, chesterfields, lucky_strike, old_gold)\n"
   ]
  },
  {
   "cell_type": "code",
   "execution_count": 21,
   "id": "7c9d4be4-a046-4a8c-975d-930d26b327f3",
   "metadata": {},
   "outputs": [
    {
     "data": {
      "text/plain": [
       "<ortools.sat.python.cp_model.Constraint at 0x226889a6420>"
      ]
     },
     "execution_count": 21,
     "metadata": {},
     "output_type": "execute_result"
    }
   ],
   "source": [
    "model.add(englishman == red)\n",
    "model.add(spaniard == dog)\n",
    "model.add(coffee == green)\n",
    "model.add(ukrainian == tea)\n",
    "model.add(green == ivory + 1)\n",
    "model.add(old_gold == snails)\n",
    "model.add(kools == yellow)\n",
    "model.add(milk == 3)\n",
    "model.add(norwegian == 1)"
   ]
  },
  {
   "cell_type": "code",
   "execution_count": 22,
   "id": "e3cd29ff-0543-47db-903f-1a8fbe74f171",
   "metadata": {},
   "outputs": [
    {
     "data": {
      "text/plain": [
       "<ortools.sat.python.cp_model.Constraint at 0x22688c4b3b0>"
      ]
     },
     "execution_count": 22,
     "metadata": {},
     "output_type": "execute_result"
    }
   ],
   "source": [
    "#\n",
    "## comment out\n",
    "#\n",
    "\n",
    "#diff_fox_chesterfields = model.new_int_var(-4, 4, \"diff_fox_chesterfields\")\n",
    "#model.add(diff_fox_chesterfields == fox - chesterfields)\n",
    "#model.add_abs_equality(1, diff_fox_chesterfields)\n"
   ]
  },
  {
   "cell_type": "code",
   "execution_count": 23,
   "id": "0d3132db-dbfc-402e-8d0b-96087732fc31",
   "metadata": {},
   "outputs": [
    {
     "data": {
      "text/plain": [
       "<ortools.sat.python.cp_model.Constraint at 0x226882a4530>"
      ]
     },
     "execution_count": 23,
     "metadata": {},
     "output_type": "execute_result"
    }
   ],
   "source": [
    "#\n",
    "## comment out\n",
    "#\n",
    "\n",
    "#diff_horse_kools = model.new_int_var(-4, 4, \"diff_horse_kools\")\n",
    "#model.add(diff_horse_kools == horse - kools)\n",
    "#model.add_abs_equality(1, diff_horse_kools)"
   ]
  },
  {
   "cell_type": "code",
   "execution_count": 24,
   "id": "9e365da1-cc47-4c42-975d-042b6bf452ab",
   "metadata": {},
   "outputs": [
    {
     "data": {
      "text/plain": [
       "<ortools.sat.python.cp_model.Constraint at 0x22688c4b620>"
      ]
     },
     "execution_count": 24,
     "metadata": {},
     "output_type": "execute_result"
    }
   ],
   "source": [
    "#\n",
    "## comment out\n",
    "#\n",
    "\n",
    "#model.add(lucky_strike == fruit_juice)\n",
    "#model.add(japanese == parliaments)"
   ]
  },
  {
   "cell_type": "code",
   "execution_count": 25,
   "id": "6f0a6542-096a-4fdf-9593-ded5e40398c3",
   "metadata": {},
   "outputs": [
    {
     "data": {
      "text/plain": [
       "<ortools.sat.python.cp_model.Constraint at 0x22688c4b560>"
      ]
     },
     "execution_count": 25,
     "metadata": {},
     "output_type": "execute_result"
    }
   ],
   "source": [
    "#\n",
    "## comment out\n",
    "#\n",
    "\n",
    "#diff_norwegian_blue = model.new_int_var(-4, 4, \"diff_norwegian_blue\")\n",
    "#model.add(diff_norwegian_blue == norwegian - blue)\n",
    "#model.add_abs_equality(1, diff_norwegian_blue)\n"
   ]
  },
  {
   "cell_type": "code",
   "execution_count": 26,
   "id": "2ed3d066-7a38-4bdb-b08e-36eacc3e937f",
   "metadata": {},
   "outputs": [],
   "source": [
    "# Solve and print out the solution.\n",
    "solver = cp_model.CpSolver()\n",
    "status = solver.solve(model)"
   ]
  },
  {
   "cell_type": "code",
   "execution_count": 27,
   "id": "b54f1d55-9bff-46f5-b8b2-a9514bcc5364",
   "metadata": {},
   "outputs": [
    {
     "data": {
      "text/plain": [
       "[norwegian(1..5)]"
      ]
     },
     "execution_count": 27,
     "metadata": {},
     "output_type": "execute_result"
    }
   ],
   "source": [
    "[p for p in people if solver.value(p) == solver.value(water)]"
   ]
  },
  {
   "cell_type": "code",
   "execution_count": 29,
   "id": "4ab43d5f-5a6b-4336-8082-fbc62030b203",
   "metadata": {},
   "outputs": [
    {
     "data": {
      "text/plain": [
       "[englishman(1..5),\n",
       " spaniard(1..5),\n",
       " japanese(1..5),\n",
       " ukrainian(1..5),\n",
       " norwegian(1..5)]"
      ]
     },
     "execution_count": 29,
     "metadata": {},
     "output_type": "execute_result"
    }
   ],
   "source": [
    "people"
   ]
  },
  {
   "cell_type": "code",
   "execution_count": null,
   "id": "d15d11f5-11b7-463b-b6a6-cac7b71e89ed",
   "metadata": {},
   "outputs": [],
   "source": []
  },
  {
   "cell_type": "code",
   "execution_count": null,
   "id": "9160c791-b70b-4438-a108-bfb9609c8969",
   "metadata": {},
   "outputs": [],
   "source": []
  },
  {
   "cell_type": "code",
   "execution_count": 28,
   "id": "3c1ac416-dfec-478e-b601-b7880af0e803",
   "metadata": {},
   "outputs": [
    {
     "data": {
      "text/plain": [
       "[japanese(1..5)]"
      ]
     },
     "execution_count": 28,
     "metadata": {},
     "output_type": "execute_result"
    }
   ],
   "source": [
    "[p for p in people if solver.value(p) == solver.value(zebra)]"
   ]
  },
  {
   "cell_type": "code",
   "execution_count": 30,
   "id": "504fb378-bb94-4d59-a516-ee77c6996a3e",
   "metadata": {},
   "outputs": [
    {
     "name": "stdout",
     "output_type": "stream",
     "text": [
      "The norwegian drinks water.\n",
      "The japanese owns the zebra.\n"
     ]
    }
   ],
   "source": [
    "people = [englishman, spaniard, japanese, ukrainian, norwegian]\n",
    "water_drinker = [p for p in people if solver.value(p) == solver.value(water)][0]\n",
    "zebra_owner = [p for p in people if solver.value(p) == solver.value(zebra)][0]\n",
    "print(\"The\", water_drinker.name, \"drinks water.\")\n",
    "print(\"The\", zebra_owner.name, \"owns the zebra.\")\n"
   ]
  },
  {
   "cell_type": "code",
   "execution_count": null,
   "id": "77929711-d9d0-49dd-a02e-a9a6913bc95f",
   "metadata": {},
   "outputs": [],
   "source": []
  },
  {
   "cell_type": "code",
   "execution_count": null,
   "id": "ee6612ca-b732-41ca-b378-93a71f0b9b07",
   "metadata": {},
   "outputs": [],
   "source": []
  },
  {
   "cell_type": "code",
   "execution_count": null,
   "id": "0184d6ef-b32e-4ca3-881c-1b110adfbb5c",
   "metadata": {},
   "outputs": [],
   "source": []
  },
  {
   "cell_type": "code",
   "execution_count": 10,
   "id": "31e697cd-3d4b-45e4-a9da-2ed2c862fcc0",
   "metadata": {},
   "outputs": [
    {
     "data": {
      "text/plain": [
       "<ortools.sat.python.cp_model.Constraint at 0x22688c4ae70>"
      ]
     },
     "execution_count": 10,
     "metadata": {},
     "output_type": "execute_result"
    }
   ],
   "source": [
    "model.add_all_different(red, green, yellow, blue, ivory)"
   ]
  },
  {
   "cell_type": "code",
   "execution_count": 11,
   "id": "914edbe3-935c-4ee7-bc7b-b7da97135ba1",
   "metadata": {},
   "outputs": [],
   "source": [
    "solver = cp_model.CpSolver()\n",
    "status = solver.solve(model)"
   ]
  },
  {
   "cell_type": "code",
   "execution_count": 13,
   "id": "72cf51ee-e7ad-490c-90fd-232eea53d1d1",
   "metadata": {},
   "outputs": [
    {
     "data": {
      "text/plain": [
       "1"
      ]
     },
     "execution_count": 13,
     "metadata": {},
     "output_type": "execute_result"
    }
   ],
   "source": [
    "solver.value(water)"
   ]
  },
  {
   "cell_type": "code",
   "execution_count": 15,
   "id": "c7b8ca4a-b77c-4d28-9a4d-d7b610923622",
   "metadata": {},
   "outputs": [
    {
     "data": {
      "text/plain": [
       "4"
      ]
     },
     "execution_count": 15,
     "metadata": {},
     "output_type": "execute_result"
    }
   ],
   "source": [
    "status = solver.solve(model)\n",
    "status"
   ]
  },
  {
   "cell_type": "code",
   "execution_count": 17,
   "id": "d7a01952-2185-49f0-9ba0-4d0828825155",
   "metadata": {},
   "outputs": [
    {
     "name": "stdout",
     "output_type": "stream",
     "text": [
      "The englishman drinks water.\n",
      "The englishman owns the zebra.\n"
     ]
    }
   ],
   "source": [
    "people = [englishman, spaniard, japanese, ukrainian, norwegian]\n",
    "water_drinker = [p for p in people if solver.value(p) == solver.value(water)][0]\n",
    "\n"
   ]
  },
  {
   "cell_type": "code",
   "execution_count": 19,
   "id": "c68b10e9-2505-47f4-9a52-6722d852c11d",
   "metadata": {},
   "outputs": [
    {
     "data": {
      "text/plain": [
       "englishman(1..5)"
      ]
     },
     "execution_count": 19,
     "metadata": {},
     "output_type": "execute_result"
    }
   ],
   "source": [
    "water_drinker = [p for p in people if solver.value(p) == solver.value(water)]\n",
    "print(water_drinker[0])\n",
    "water_drinker"
   ]
  },
  {
   "cell_type": "code",
   "execution_count": null,
   "id": "8e008f43-4695-44b0-8bb2-50ae84b80b77",
   "metadata": {},
   "outputs": [],
   "source": [
    "zebra_owner = [p for p in people if solver.value(p) == solver.value(zebra)]\n",
    "print(zebra_owner [0])\n",
    "zebra_owner "
   ]
  },
  {
   "cell_type": "code",
   "execution_count": null,
   "id": "4500a180-f1d1-4590-a906-ac029f2d7004",
   "metadata": {},
   "outputs": [],
   "source": [
    "print(\"The\", water_drinker.name, \"drinks water.\")\n",
    "print(\"The\", zebra_owner.name, \"owns the zebra.\")"
   ]
  },
  {
   "cell_type": "code",
   "execution_count": 31,
   "id": "40160444-02ec-4ab2-972b-0fb22a42487a",
   "metadata": {},
   "outputs": [
    {
     "data": {
      "text/plain": [
       "red(1..5)"
      ]
     },
     "execution_count": 31,
     "metadata": {},
     "output_type": "execute_result"
    }
   ],
   "source": [
    "red"
   ]
  },
  {
   "cell_type": "code",
   "execution_count": 34,
   "id": "b87cb4b7-a563-4a84-ada4-ce06333b26c9",
   "metadata": {},
   "outputs": [
    {
     "data": {
      "text/plain": [
       "[(3, red(1..5)),\n",
       " (5, green(1..5)),\n",
       " (1, yellow(1..5)),\n",
       " (2, blue(1..5)),\n",
       " (4, ivory(1..5))]"
      ]
     },
     "execution_count": 34,
     "metadata": {},
     "output_type": "execute_result"
    }
   ],
   "source": [
    "house_colors = [\n",
    "red ,\n",
    "green ,\n",
    "yellow ,\n",
    "blue ,\n",
    "ivory ,\n",
    "   \n",
    "]\n",
    "\n",
    "[(solver.value(color),color) for color in house_colors]"
   ]
  },
  {
   "cell_type": "code",
   "execution_count": 35,
   "id": "ece7543f-7746-48ef-91aa-b60fb1bac9b3",
   "metadata": {},
   "outputs": [
    {
     "data": {
      "text/plain": [
       "[(3, englishman(1..5)),\n",
       " (4, spaniard(1..5)),\n",
       " (5, japanese(1..5)),\n",
       " (2, ukrainian(1..5)),\n",
       " (1, norwegian(1..5))]"
      ]
     },
     "execution_count": 35,
     "metadata": {},
     "output_type": "execute_result"
    }
   ],
   "source": [
    "people = [\n",
    "englishman,\n",
    "spaniard,\n",
    "japanese,\n",
    "ukrainian,\n",
    "norwegian,\n",
    "   \n",
    "]\n",
    "\n",
    "[(solver.value(person),person) for person in people]"
   ]
  },
  {
   "cell_type": "code",
   "execution_count": 36,
   "id": "258fa701-e385-409c-b08e-2a644f559504",
   "metadata": {},
   "outputs": [
    {
     "data": {
      "text/plain": [
       "[(4, dog(1..5)),\n",
       " (3, snails(1..5)),\n",
       " (1, fox(1..5)),\n",
       " (5, zebra(1..5)),\n",
       " (2, horse(1..5))]"
      ]
     },
     "execution_count": 36,
     "metadata": {},
     "output_type": "execute_result"
    }
   ],
   "source": [
    "animals = [\n",
    "\n",
    "dog,\n",
    "snails,\n",
    "fox,\n",
    "zebra,\n",
    "horse,\n",
    "]\n",
    "\n",
    "[(solver.value(animal),animal) for animal in animals]\n"
   ]
  },
  {
   "cell_type": "code",
   "execution_count": 37,
   "id": "349a4ddd-93cd-42da-9025-0cab8c0c8417",
   "metadata": {},
   "outputs": [
    {
     "data": {
      "text/plain": [
       "[(2, tea(1..5)),\n",
       " (5, coffee(1..5)),\n",
       " (1, water(1..5)),\n",
       " (3, milk(1..5)),\n",
       " (4, fruit juice(1..5))]"
      ]
     },
     "execution_count": 37,
     "metadata": {},
     "output_type": "execute_result"
    }
   ],
   "source": [
    "drinks = [\n",
    "tea,\n",
    "coffee,\n",
    "water,\n",
    "milk,\n",
    "fruit_juice,\n",
    "    \n",
    "]\n",
    "\n",
    "[(solver.value(drink),drink) for drink in drinks]"
   ]
  },
  {
   "cell_type": "code",
   "execution_count": 38,
   "id": "e3b00b6a-cbc7-41ee-9fe6-db0ddf0d0f75",
   "metadata": {},
   "outputs": [
    {
     "data": {
      "text/plain": [
       "[(3, old gold(1..5)),\n",
       " (1, kools(1..5)),\n",
       " (2, chesterfields(1..5)),\n",
       " (4, lucky strike(1..5)),\n",
       " (5, parliaments(1..5))]"
      ]
     },
     "execution_count": 38,
     "metadata": {},
     "output_type": "execute_result"
    }
   ],
   "source": [
    "\n",
    "smokes = [\n",
    "\n",
    "old_gold,\n",
    "kools,\n",
    "chesterfields,\n",
    "lucky_strike,\n",
    "parliaments,\n",
    "\n",
    "]\n",
    "\n",
    "[(solver.value(smoke),smoke) for smoke in smokes]\n"
   ]
  },
  {
   "cell_type": "code",
   "execution_count": 39,
   "id": "3e517d12-ba5a-49f2-8bad-0cac2e7e0e83",
   "metadata": {},
   "outputs": [
    {
     "ename": "NameError",
     "evalue": "name 'x00' is not defined",
     "output_type": "error",
     "traceback": [
      "\u001b[1;31m---------------------------------------------------------------------------\u001b[0m",
      "\u001b[1;31mNameError\u001b[0m                                 Traceback (most recent call last)",
      "Cell \u001b[1;32mIn[39], line 3\u001b[0m\n\u001b[0;32m      1\u001b[0m \u001b[38;5;66;03m# Create a solver and solve.\u001b[39;00m\n\u001b[0;32m      2\u001b[0m solver_all \u001b[38;5;241m=\u001b[39m cp_model\u001b[38;5;241m.\u001b[39mCpSolver()\n\u001b[1;32m----> 3\u001b[0m solution_printer \u001b[38;5;241m=\u001b[39m cp_model\u001b[38;5;241m.\u001b[39mVarArraySolutionPrinter([x00, x01, x02])\n\u001b[0;32m      4\u001b[0m solver_all\u001b[38;5;241m.\u001b[39mSearchForAllSolutions(model, solution_printer)\n",
      "\u001b[1;31mNameError\u001b[0m: name 'x00' is not defined"
     ]
    }
   ],
   "source": [
    "# Create a solver and solve.\n",
    "solver_all = cp_model.CpSolver()\n",
    "solution_printer = cp_model.VarArraySolutionPrinter([x00, x01, x02])\n",
    "solver_all.SearchForAllSolutions(model, solution_printer)"
   ]
  },
  {
   "cell_type": "code",
   "execution_count": null,
   "id": "40345a7d-1896-48ce-b578-89c353aa99c8",
   "metadata": {},
   "outputs": [],
   "source": []
  },
  {
   "cell_type": "code",
   "execution_count": null,
   "id": "8614bffc-2622-45f6-9a88-cad505d1be12",
   "metadata": {},
   "outputs": [],
   "source": []
  },
  {
   "cell_type": "code",
   "execution_count": null,
   "id": "bea735a5-a59b-4022-963c-3b892166bcce",
   "metadata": {},
   "outputs": [],
   "source": []
  },
  {
   "cell_type": "code",
   "execution_count": null,
   "id": "3a5c309a-ba6c-4b6d-98a2-b970133850a2",
   "metadata": {},
   "outputs": [],
   "source": []
  }
 ],
 "metadata": {
  "kernelspec": {
   "display_name": "Python 3 (ipykernel)",
   "language": "python",
   "name": "python3"
  },
  "language_info": {
   "codemirror_mode": {
    "name": "ipython",
    "version": 3
   },
   "file_extension": ".py",
   "mimetype": "text/x-python",
   "name": "python",
   "nbconvert_exporter": "python",
   "pygments_lexer": "ipython3",
   "version": "3.12.4"
  }
 },
 "nbformat": 4,
 "nbformat_minor": 5
}
